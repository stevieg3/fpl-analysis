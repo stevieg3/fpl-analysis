{
 "cells": [
  {
   "cell_type": "code",
   "execution_count": 14,
   "metadata": {},
   "outputs": [],
   "source": [
    "import pandas as pd\n",
    "import re\n",
    "import pmdarima as pm\n",
    "from sklearn.metrics import mean_squared_error\n",
    "import matplotlib.pyplot as plt\n",
    "import numpy as np"
   ]
  },
  {
   "cell_type": "markdown",
   "metadata": {},
   "source": [
    "### load and merge data"
   ]
  },
  {
   "cell_type": "code",
   "execution_count": 15,
   "metadata": {},
   "outputs": [],
   "source": [
    "season_18_df = pd.read_csv('../data/2018_19_current_season_data.csv')"
   ]
  },
  {
   "cell_type": "code",
   "execution_count": 16,
   "metadata": {},
   "outputs": [],
   "source": [
    "season_17_df = pd.read_excel('../data/FPL-201718-player-stats.xlsx')"
   ]
  },
  {
   "cell_type": "code",
   "execution_count": 17,
   "metadata": {},
   "outputs": [],
   "source": [
    "def camelcase_columns(df):\n",
    "    df.columns = [re.sub( r'(\\n)?(\\s)+', ' ', c).strip().lower().replace(' ','_').replace('£','p') for c in df.columns]\n",
    "    return df"
   ]
  },
  {
   "cell_type": "code",
   "execution_count": 18,
   "metadata": {},
   "outputs": [],
   "source": [
    "season_18_df = camelcase_columns(season_18_df)\n",
    "season_17_df = camelcase_columns(season_17_df)"
   ]
  },
  {
   "cell_type": "code",
   "execution_count": 19,
   "metadata": {},
   "outputs": [
    {
     "data": {
      "text/plain": [
       "Index(['gw_gameweek', 'opp_opposition', 'pts', 'mpminutes_played',\n",
       "       'gsgoals_scored', 'aassists', 'csclean_sheets', 'gcgoals_conceded',\n",
       "       'ogown_goals', 'pspenalties_saved', 'pmpenalties_missed',\n",
       "       'ycyellow_cards', 'rcred_cards', 'ssaves', 'bbonus',\n",
       "       'bpsbonus_points_system', 'iinfluence', 'ccreativity', 'tthreat',\n",
       "       'iiict_index', 'nt_net_transfers', 'sb_selected_by', 'p_value', 'name',\n",
       "       'team', 'position', 'total_score_rank'],\n",
       "      dtype='object')"
      ]
     },
     "execution_count": 19,
     "metadata": {},
     "output_type": "execute_result"
    }
   ],
   "source": [
    "season_17_df.columns"
   ]
  },
  {
   "cell_type": "code",
   "execution_count": 20,
   "metadata": {},
   "outputs": [],
   "source": [
    "season_17_df['season'] = 2017\n",
    "season_18_df['season'] = 2018"
   ]
  },
  {
   "cell_type": "code",
   "execution_count": 21,
   "metadata": {},
   "outputs": [],
   "source": [
    "combined_df= season_17_df.append(season_18_df,sort=False)"
   ]
  },
  {
   "cell_type": "code",
   "execution_count": 22,
   "metadata": {},
   "outputs": [],
   "source": [
    "combined_df['player_id'] = combined_df.name + '-' + combined_df.position"
   ]
  },
  {
   "cell_type": "markdown",
   "metadata": {},
   "source": [
    "some duplicates :( - I'll ignore for now"
   ]
  },
  {
   "cell_type": "code",
   "execution_count": 62,
   "metadata": {},
   "outputs": [],
   "source": [
    "combined_df['p_value'] = pd.to_numeric(combined_df.p_value.str.replace('£',''))"
   ]
  },
  {
   "cell_type": "code",
   "execution_count": 64,
   "metadata": {},
   "outputs": [],
   "source": [
    "game_counts_df = combined_df.groupby(['player_id','season'])[['pts']].count().rename({'pts':'count'}).reset_index()"
   ]
  },
  {
   "cell_type": "code",
   "execution_count": 65,
   "metadata": {},
   "outputs": [],
   "source": [
    "season_17_players = set(combined_df.loc[combined_df.season==2018,'player_id'])"
   ]
  },
  {
   "cell_type": "code",
   "execution_count": 66,
   "metadata": {},
   "outputs": [],
   "source": [
    "season_18_players = set(combined_df.loc[combined_df.season==2017,'player_id'])"
   ]
  },
  {
   "cell_type": "code",
   "execution_count": 67,
   "metadata": {},
   "outputs": [
    {
     "data": {
      "text/plain": [
       "336"
      ]
     },
     "execution_count": 67,
     "metadata": {},
     "output_type": "execute_result"
    }
   ],
   "source": [
    "len(season_17_players.intersection(season_18_players))"
   ]
  },
  {
   "cell_type": "code",
   "execution_count": 68,
   "metadata": {},
   "outputs": [],
   "source": [
    "def fit_autoarima(data, player_id, plot_model = False):\n",
    "    train = data.loc[(data.player_id == player_id) &\n",
    "                     (data.season == 2017),'pts']\n",
    "\n",
    "    test = data.loc[(data.player_id == player_id) &\n",
    "                     (data.season == 2018) &\n",
    "                     (data.gw_gameweek < 11),'pts']\n",
    "    # Fit a simple auto_arima model\n",
    "    modl = pm.auto_arima(train,seasonal=False,\n",
    "                         stepwise=True, suppress_warnings=True, D=10, max_D=10,\n",
    "                         error_action='ignore')\n",
    "    \n",
    "    \n",
    "    # Create predictions for the future, evaluate on test\n",
    "    preds, conf_int = modl.predict(n_periods=test.shape[0], return_conf_int=True)\n",
    "    \n",
    "    if plot_model:\n",
    "        print(f\"Test RMSE: {player_id} %.3f\" % np.sqrt(mean_squared_error(test, preds)))\n",
    "\n",
    "        train_idx = np.arange(1,train.shape[0]+1)\n",
    "        test_idx = np.arange(train.shape[0]+1,test.shape[0]+train.shape[0]+1)\n",
    "\n",
    "        plt.plot(train_idx, train, alpha=0.75)\n",
    "        plt.plot(test_idx, preds, alpha=0.75)  # Forecasts\n",
    "        plt.scatter(test_idx, test,\n",
    "                    alpha=0.4, marker='x')  # Test data\n",
    "        plt.fill_between(test_idx,\n",
    "                         conf_int[:, 0], conf_int[:, 1],\n",
    "                         alpha=0.1, color='b')\n",
    "        plt.title(f\"Points forecast - {player_id}\")\n",
    "        plt.xlabel(\"Gameweek\")\n",
    "        plt.show()\n",
    "    return preds[0]"
   ]
  },
  {
   "cell_type": "code",
   "execution_count": 69,
   "metadata": {},
   "outputs": [
    {
     "name": "stdout",
     "output_type": "stream",
     "text": [
      "van Aanholt-DEF\n",
      "Hendrick-MID\n",
      "Hogg-MID\n",
      "Holebas-DEF\n",
      "Simpson-DEF\n",
      "Mavropanos-DEF\n",
      "Cech-GKP\n",
      "Kenny-DEF\n",
      "McArthur-MID\n",
      "Pickford-GKP\n",
      "James-MID\n",
      "Otamendi-DEF\n",
      "Wood-FWD\n",
      "Manquillo-DEF\n",
      "Lössl-GKP\n",
      "Stones-DEF\n",
      "Milivojevic-MID\n",
      "Coleman-DEF\n",
      "Walcott-MID\n",
      "Ki Sung-yueng-MID\n",
      "Darmian-DEF\n",
      "Clark-DEF\n",
      "Firmino-FWD\n",
      "Mané-MID\n",
      "Atsu-MID\n",
      "Crouch-FWD\n",
      "player Crouch-FWD failed\n",
      "McTominay-MID\n",
      "Dummett-DEF\n",
      "Elneny-MID\n",
      "Mendy-DEF\n",
      "Calvert-Lewin-FWD\n",
      "Souaré-DEF\n",
      "Cresswell-DEF\n",
      "Koscielny-DEF\n",
      "Pogba-MID\n",
      "Bruno-DEF\n",
      "Sissoko-MID\n",
      "Gueye-MID\n",
      "Stankovic-DEF\n",
      "Lloris-GKP\n"
     ]
    },
    {
     "name": "stderr",
     "output_type": "stream",
     "text": [
      "/Users/oliver.cairns/anaconda3/lib/python3.7/site-packages/pmdarima/arima/auto.py:253: UserWarning: Input time-series is completely constant; returning a (0, 0, 0) ARMA.\n",
      "  warnings.warn('Input time-series is completely constant; '\n"
     ]
    },
    {
     "name": "stdout",
     "output_type": "stream",
     "text": [
      "Walker-DEF\n",
      "Darlow-GKP\n",
      "Billing-MID\n",
      "Iheanacho-FWD\n",
      "Mustafi-DEF\n",
      "Redmond-MID\n",
      "Stephens-MID\n",
      "Kompany-DEF\n",
      "Cahill-DEF\n",
      "Smalling-DEF\n",
      "Herrera-MID\n",
      "Lanzini-MID\n",
      "Rice-DEF\n",
      "Barnes-MID\n",
      "player Barnes-MID failed\n",
      "Begovic-GKP\n",
      "Jesus-FWD\n",
      "Okazaki-FWD\n",
      "Ward-GKP\n",
      "Son-MID\n"
     ]
    },
    {
     "name": "stderr",
     "output_type": "stream",
     "text": [
      "/Users/oliver.cairns/anaconda3/lib/python3.7/site-packages/pmdarima/arima/auto.py:253: UserWarning: Input time-series is completely constant; returning a (0, 0, 0) ARMA.\n",
      "  warnings.warn('Input time-series is completely constant; '\n"
     ]
    },
    {
     "name": "stdout",
     "output_type": "stream",
     "text": [
      "Bellerín-DEF\n",
      "Sánchez-DEF\n",
      "Surman-MID\n",
      "Antonio-MID\n",
      "Lukaku-FWD\n",
      "Mooy-MID\n",
      "Smith-DEF\n",
      "Azpilicueta-DEF\n",
      "Sinclair-FWD\n",
      "Hart-GKP\n",
      "Jakupovic-GKP\n",
      "Hamer-GKP\n",
      "Trippier-DEF\n",
      "Bravo-GKP\n",
      "Maitland-Niles-MID\n",
      "Riedewald-DEF\n",
      "Choudhury-MID\n",
      "Pedro-MID\n",
      "Holding-DEF\n",
      "Aké-DEF\n",
      "Tomkins-DEF\n",
      "Salah-MID\n",
      "Emerson-DEF\n",
      "Llorente-FWD\n",
      "Adrián-GKP\n",
      "Shelvey-MID\n",
      "Zouma-DEF\n",
      "Yoshida-DEF\n",
      "Davies-DEF\n",
      "Löwe-DEF\n",
      "Vorm-GKP\n",
      "Mawson-DEF\n",
      "Mee-DEF\n",
      "Dubravka-GKP\n",
      "Özil-MID\n",
      "Ampadu-MID\n",
      "Hennessey-GKP\n",
      "Baines-DEF\n",
      "Ramsey-MID\n",
      "Clyne-DEF\n",
      "Murray-FWD\n",
      "Mousset-FWD\n",
      "Kane-FWD\n",
      "Zabaleta-DEF\n",
      "Ings-FWD\n",
      "Ogbonna-DEF\n",
      "Coleman-GKP\n",
      "player Coleman-GKP failed\n",
      "Pereyra-MID\n"
     ]
    },
    {
     "name": "stderr",
     "output_type": "stream",
     "text": [
      "/Users/oliver.cairns/anaconda3/lib/python3.7/site-packages/pmdarima/arima/auto.py:253: UserWarning: Input time-series is completely constant; returning a (0, 0, 0) ARMA.\n",
      "  warnings.warn('Input time-series is completely constant; '\n",
      "/Users/oliver.cairns/anaconda3/lib/python3.7/site-packages/pmdarima/arima/auto.py:253: UserWarning: Input time-series is completely constant; returning a (0, 0, 0) ARMA.\n",
      "  warnings.warn('Input time-series is completely constant; '\n"
     ]
    },
    {
     "name": "stdout",
     "output_type": "stream",
     "text": [
      "Jones-MID\n",
      "player Jones-MID failed\n",
      "Tarkowski-DEF\n",
      "Keane-DEF\n",
      "Nketiah-FWD\n",
      "player Nketiah-FWD failed\n",
      "Stanislas-MID\n",
      "Wilshere-MID\n",
      "Gray-MID\n",
      "Valencia-DEF\n",
      "Fabianski-GKP\n",
      "Deeney-FWD\n",
      "Lallana-MID\n",
      "Lennon-MID\n",
      "Austin-FWD\n",
      "Ward-Prowse-MID\n",
      "Cork-MID\n",
      "Joselu-FWD\n",
      "Yedlin-DEF\n",
      "Ederson-GKP\n",
      "Daniels-DEF\n",
      "Tosun-FWD\n",
      "Cathcart-DEF\n",
      "Deulofeu-MID\n",
      "Prödl-DEF\n",
      "Zinchenko-MID\n",
      "Capoue-MID\n",
      "March-MID\n",
      "Mahrez-MID\n",
      "Gomes-GKP\n",
      "Schneiderlin-MID\n",
      "Moreno-DEF\n",
      "Suttner-DEF\n",
      "Eriksen-MID\n",
      "Johnson-DEF\n",
      "player Johnson-DEF failed\n",
      "Wilson-FWD\n",
      "Matip-DEF\n",
      "Bardsley-DEF\n",
      "Schindler-DEF\n",
      "Diangana-MID\n",
      "Kolasinac-DEF\n",
      "Kenedy-MID\n"
     ]
    },
    {
     "name": "stderr",
     "output_type": "stream",
     "text": [
      "/Users/oliver.cairns/anaconda3/lib/python3.7/site-packages/pmdarima/arima/auto.py:253: UserWarning: Input time-series is completely constant; returning a (0, 0, 0) ARMA.\n",
      "  warnings.warn('Input time-series is completely constant; '\n"
     ]
    },
    {
     "name": "stdout",
     "output_type": "stream",
     "text": [
      "Davies-MID\n",
      "Wickham-FWD\n",
      "Lamela-MID\n"
     ]
    },
    {
     "name": "stderr",
     "output_type": "stream",
     "text": [
      "/Users/oliver.cairns/anaconda3/lib/python3.7/site-packages/pmdarima/arima/auto.py:253: UserWarning: Input time-series is completely constant; returning a (0, 0, 0) ARMA.\n",
      "  warnings.warn('Input time-series is completely constant; '\n"
     ]
    },
    {
     "name": "stdout",
     "output_type": "stream",
     "text": [
      "Britos-DEF\n",
      "Molumby-MID\n",
      "player Molumby-MID failed\n",
      "Rüdiger-DEF\n",
      "Alexander-Arnold-DEF\n"
     ]
    },
    {
     "name": "stderr",
     "output_type": "stream",
     "text": [
      "/Users/oliver.cairns/anaconda3/lib/python3.7/site-packages/pmdarima/arima/auto.py:253: UserWarning: Input time-series is completely constant; returning a (0, 0, 0) ARMA.\n",
      "  warnings.warn('Input time-series is completely constant; '\n"
     ]
    },
    {
     "name": "stdout",
     "output_type": "stream",
     "text": [
      "Monreal-DEF\n",
      "Rose-DEF\n",
      "Bailly-DEF\n",
      "David Silva-MID\n",
      "Sims-MID\n",
      "Lovren-DEF\n",
      "Hazard-MID\n",
      "Forster-GKP\n",
      "Brady-MID\n",
      "Adam Smith-DEF\n",
      "Boruc-GKP\n",
      "Knockaert-MID\n"
     ]
    },
    {
     "name": "stderr",
     "output_type": "stream",
     "text": [
      "/Users/oliver.cairns/anaconda3/lib/python3.7/site-packages/pmdarima/arima/auto.py:253: UserWarning: Input time-series is completely constant; returning a (0, 0, 0) ARMA.\n",
      "  warnings.warn('Input time-series is completely constant; '\n"
     ]
    },
    {
     "name": "stdout",
     "output_type": "stream",
     "text": [
      "Mata-MID\n",
      "Cleverley-MID\n",
      "Barkley-MID\n",
      "Janmaat-DEF\n",
      "Gazzaniga-GKP\n",
      "Chilwell-DEF\n",
      "Christensen-DEF\n",
      "Stekelenburg-GKP\n",
      "Lucas Moura-MID\n",
      "Fosu-Mensah-DEF\n"
     ]
    },
    {
     "name": "stderr",
     "output_type": "stream",
     "text": [
      "/Users/oliver.cairns/anaconda3/lib/python3.7/site-packages/pmdarima/arima/auto.py:253: UserWarning: Input time-series is completely constant; returning a (0, 0, 0) ARMA.\n",
      "  warnings.warn('Input time-series is completely constant; '\n"
     ]
    },
    {
     "name": "stdout",
     "output_type": "stream",
     "text": [
      "Pröpper-MID\n",
      "Fernandinho-MID\n",
      "Mignolet-GKP\n",
      "Hudson-Odoi-MID\n",
      "Defour-MID\n",
      "Foyth-DEF\n",
      "player Foyth-DEF failed\n",
      "Pritchard-MID\n",
      "Alderweireld-DEF\n"
     ]
    },
    {
     "name": "stderr",
     "output_type": "stream",
     "text": [
      "/Users/oliver.cairns/anaconda3/lib/python3.7/site-packages/pmdarima/arima/auto.py:253: UserWarning: Input time-series is completely constant; returning a (0, 0, 0) ARMA.\n",
      "  warnings.warn('Input time-series is completely constant; '\n"
     ]
    },
    {
     "name": "stdout",
     "output_type": "stream",
     "text": [
      "Aubameyang-FWD\n",
      "Chalobah-MID\n",
      "Dunk-DEF\n",
      "Agüero-FWD\n",
      "Danilo-DEF\n",
      "Solanke-FWD\n",
      "Dier-MID\n",
      "Giroud-FWD\n",
      "Taylor-DEF\n",
      "Alli-MID\n",
      "David Luiz-DEF\n",
      "De Bruyne-MID\n",
      "Benteke-FWD\n",
      "Speroni-GKP\n",
      "Sané-MID\n",
      "Francis-DEF\n",
      "Højbjerg-MID\n",
      "Fuchs-DEF\n",
      "Sterling-MID\n",
      "Kabasele-DEF\n",
      "Diamé-MID\n",
      "Vardy-FWD\n",
      "Foster-GKP\n",
      "Iwobi-MID\n",
      "Maguire-DEF\n",
      "McCarthy-GKP\n",
      "Wanyama-MID\n",
      "Chamberlain-MID\n",
      "Schelotto-DEF\n",
      "Richarlison-MID\n",
      "Pope-GKP\n",
      "Willian-MID\n",
      "Lewis Cook-MID\n",
      "Mounie-FWD\n",
      "Lacazette-FWD\n",
      "Long-FWD\n",
      "Chicharito-FWD\n",
      "Obafemi-FWD\n",
      "player Obafemi-FWD failed\n",
      "Robertson-DEF\n",
      "Sabiri-MID\n",
      "Laporte-DEF\n",
      "Schlupp-DEF\n",
      "Murphy-MID\n",
      "Henderson-MID\n",
      "Kanté-MID\n",
      "Lindelöf-DEF\n",
      "Fraser-MID\n",
      "Wijnaldum-MID\n",
      "Jagielka-DEF\n",
      "Gomez-DEF\n",
      "Shaqiri-MID\n",
      "Walters-MID\n",
      "Ryan-GKP\n",
      "Oriol Romeu-MID\n",
      "Reid-DEF\n",
      "Bernardo Silva-MID\n",
      "Winks-MID\n",
      "Stephens-DEF\n",
      "Rojo-DEF\n",
      "Welbeck-FWD\n",
      "Kongolo-DEF\n",
      "Quaner-FWD\n",
      "Sigurdsson-MID\n",
      "Willock-MID\n",
      "player Willock-MID failed\n",
      "Steve Cook-DEF\n",
      "Hadergjonaj-DEF\n",
      "Lascelles-DEF\n",
      "Xhaka-MID\n",
      "Grant-GKP\n",
      "Barnes-FWD\n",
      "Lindegaard-GKP\n",
      "Romero-GKP\n"
     ]
    },
    {
     "name": "stderr",
     "output_type": "stream",
     "text": [
      "/Users/oliver.cairns/anaconda3/lib/python3.7/site-packages/pmdarima/arima/auto.py:253: UserWarning: Input time-series is completely constant; returning a (0, 0, 0) ARMA.\n",
      "  warnings.warn('Input time-series is completely constant; '\n"
     ]
    },
    {
     "name": "stdout",
     "output_type": "stream",
     "text": [
      "Gosling-MID\n",
      "Bednarek-DEF\n",
      "Loftus-Cheek-MID\n",
      "Pérez-FWD\n",
      "Shaw-DEF\n",
      "Kelly-DEF\n",
      "Heaton-GKP\n",
      "Sako-MID\n",
      "Gray-FWD\n",
      "Butcher-MID\n"
     ]
    },
    {
     "name": "stderr",
     "output_type": "stream",
     "text": [
      "/Users/oliver.cairns/anaconda3/lib/python3.7/site-packages/pmdarima/arima/auto.py:253: UserWarning: Input time-series is completely constant; returning a (0, 0, 0) ARMA.\n",
      "  warnings.warn('Input time-series is completely constant; '\n"
     ]
    },
    {
     "name": "stdout",
     "output_type": "stream",
     "text": [
      "player Butcher-MID failed\n",
      "Townsend-MID\n",
      "Ibe-MID\n",
      "Johnson-MID\n"
     ]
    },
    {
     "name": "stderr",
     "output_type": "stream",
     "text": [
      "/Users/oliver.cairns/anaconda3/lib/python3.7/site-packages/pmdarima/arima/auto.py:253: UserWarning: Input time-series is completely constant; returning a (0, 0, 0) ARMA.\n",
      "  warnings.warn('Input time-series is completely constant; '\n"
     ]
    },
    {
     "name": "stdout",
     "output_type": "stream",
     "text": [
      "player Johnson-MID failed\n",
      "Kayal-MID\n",
      "Lingard-MID\n",
      "Quina-MID\n",
      "Doucouré-MID\n"
     ]
    },
    {
     "name": "stderr",
     "output_type": "stream",
     "text": [
      "/Users/oliver.cairns/anaconda3/lib/python3.7/site-packages/pmdarima/arima/auto.py:253: UserWarning: Input time-series is completely constant; returning a (0, 0, 0) ARMA.\n",
      "  warnings.warn('Input time-series is completely constant; '\n"
     ]
    },
    {
     "name": "stdout",
     "output_type": "stream",
     "text": [
      "McCarthy-MID\n",
      "Aurier-DEF\n",
      "Duffy-DEF\n",
      "Obiang-MID\n",
      "Whiteman-GKP\n",
      "Vertonghen-DEF\n"
     ]
    },
    {
     "name": "stderr",
     "output_type": "stream",
     "text": [
      "/Users/oliver.cairns/anaconda3/lib/python3.7/site-packages/pmdarima/arima/auto.py:253: UserWarning: Input time-series is completely constant; returning a (0, 0, 0) ARMA.\n",
      "  warnings.warn('Input time-series is completely constant; '\n"
     ]
    },
    {
     "name": "stdout",
     "output_type": "stream",
     "text": [
      "Depoitre-FWD\n",
      "Sakho-DEF\n",
      "Puncheon-MID\n",
      "Izquierdo-MID\n",
      "Bertrand-DEF\n",
      "Locadia-FWD\n",
      "Bong-DEF\n",
      "Niasse-FWD\n",
      "Camacho-MID\n",
      "player Camacho-MID failed\n",
      "Fernández-DEF\n",
      "Foden-MID\n"
     ]
    },
    {
     "name": "stderr",
     "output_type": "stream",
     "text": [
      "/Users/oliver.cairns/anaconda3/lib/python3.7/site-packages/pmdarima/arima/auto.py:253: UserWarning: Input time-series is completely constant; returning a (0, 0, 0) ARMA.\n",
      "  warnings.warn('Input time-series is completely constant; '\n"
     ]
    },
    {
     "name": "stdout",
     "output_type": "stream",
     "text": [
      "Mkhitaryan-MID\n",
      "Jones-DEF\n",
      "Albrighton-MID\n",
      "Westwood-MID\n",
      "Sturridge-FWD\n",
      "Rondón-FWD\n",
      "Mariappa-DEF\n",
      "Noble-MID\n",
      "Amartey-MID\n",
      "Hughes-MID\n",
      "Gündogan-MID\n",
      "Zappacosta-DEF\n",
      "Sánchez-MID\n",
      "Williams-MID\n",
      "Gudmundsson-MID\n",
      "Caballero-GKP\n",
      "Carroll-FWD\n",
      "King-FWD\n",
      "Taylor-MID\n"
     ]
    },
    {
     "name": "stderr",
     "output_type": "stream",
     "text": [
      "/Users/oliver.cairns/anaconda3/lib/python3.7/site-packages/pmdarima/arima/auto.py:253: UserWarning: Input time-series is completely constant; returning a (0, 0, 0) ARMA.\n",
      "  warnings.warn('Input time-series is completely constant; '\n"
     ]
    },
    {
     "name": "stdout",
     "output_type": "stream",
     "text": [
      "player Taylor-MID failed\n",
      "Long-DEF\n",
      "Drinkwater-MID\n",
      "Walker-Peters-DEF\n",
      "Kouyaté-MID\n",
      "Matic-MID\n",
      "Morgan-DEF\n",
      "van Dijk-DEF\n",
      "Lemina-MID\n",
      "Kiko Femenía-DEF\n",
      "Hyndman-MID\n",
      "Zanka-DEF\n",
      "Martial-MID\n",
      "Lowton-DEF\n",
      "Chambers-DEF\n",
      "Elliot-GKP\n",
      "Evans-DEF\n",
      "Dann-DEF\n",
      "Groß-MID\n",
      "Rashford-FWD\n",
      "Ndidi-MID\n",
      "Ward-DEF\n",
      "Lejeune-DEF\n",
      "Arter-MID\n",
      "Schmeichel-GKP\n",
      "Hayden-MID\n",
      "Ritchie-MID\n",
      "Alonso-DEF\n"
     ]
    }
   ],
   "source": [
    "models = {'player_id':[],\n",
    "         'prediction':[]}\n",
    "for p in season_17_players.intersection(season_18_players):\n",
    "    print(p)\n",
    "    try:\n",
    "        models['prediction'].append(fit_autoarima(combined_df, p))\n",
    "        models['player_id'].append(p) \n",
    "    except:\n",
    "        print(f'player {p} failed')"
   ]
  },
  {
   "cell_type": "code",
   "execution_count": 70,
   "metadata": {},
   "outputs": [],
   "source": [
    "predictions = pd.DataFrame(models)"
   ]
  },
  {
   "cell_type": "code",
   "execution_count": 71,
   "metadata": {},
   "outputs": [
    {
     "data": {
      "text/html": [
       "<div>\n",
       "<style scoped>\n",
       "    .dataframe tbody tr th:only-of-type {\n",
       "        vertical-align: middle;\n",
       "    }\n",
       "\n",
       "    .dataframe tbody tr th {\n",
       "        vertical-align: top;\n",
       "    }\n",
       "\n",
       "    .dataframe thead th {\n",
       "        text-align: right;\n",
       "    }\n",
       "</style>\n",
       "<table border=\"1\" class=\"dataframe\">\n",
       "  <thead>\n",
       "    <tr style=\"text-align: right;\">\n",
       "      <th></th>\n",
       "      <th>player_id</th>\n",
       "      <th>prediction</th>\n",
       "    </tr>\n",
       "  </thead>\n",
       "  <tbody>\n",
       "    <tr>\n",
       "      <th>0</th>\n",
       "      <td>van Aanholt-DEF</td>\n",
       "      <td>14.353512</td>\n",
       "    </tr>\n",
       "    <tr>\n",
       "      <th>70</th>\n",
       "      <td>Bravo-GKP</td>\n",
       "      <td>11.047348</td>\n",
       "    </tr>\n",
       "    <tr>\n",
       "      <th>249</th>\n",
       "      <td>Pérez-FWD</td>\n",
       "      <td>8.509688</td>\n",
       "    </tr>\n",
       "    <tr>\n",
       "      <th>78</th>\n",
       "      <td>Salah-MID</td>\n",
       "      <td>7.973684</td>\n",
       "    </tr>\n",
       "    <tr>\n",
       "      <th>77</th>\n",
       "      <td>Tomkins-DEF</td>\n",
       "      <td>6.908856</td>\n",
       "    </tr>\n",
       "  </tbody>\n",
       "</table>\n",
       "</div>"
      ],
      "text/plain": [
       "           player_id  prediction\n",
       "0    van Aanholt-DEF   14.353512\n",
       "70         Bravo-GKP   11.047348\n",
       "249        Pérez-FWD    8.509688\n",
       "78         Salah-MID    7.973684\n",
       "77       Tomkins-DEF    6.908856"
      ]
     },
     "execution_count": 71,
     "metadata": {},
     "output_type": "execute_result"
    }
   ],
   "source": [
    "predictions.sort_values(by='prediction',ascending=False).head()"
   ]
  },
  {
   "cell_type": "code",
   "execution_count": 72,
   "metadata": {},
   "outputs": [],
   "source": [
    "starting_costs = combined_df.loc[(combined_df.gw_gameweek==1)&\n",
    "               (combined_df.season == 2018),['player_id','p_value','team', 'position']].drop_duplicates(['player_id'])"
   ]
  },
  {
   "cell_type": "code",
   "execution_count": 73,
   "metadata": {},
   "outputs": [],
   "source": [
    "candidates = starting_costs.merge(predictions,on='player_id',how='inner')"
   ]
  },
  {
   "cell_type": "code",
   "execution_count": 74,
   "metadata": {},
   "outputs": [],
   "source": [
    "candidates.sort_values(by='prediction',ascending=False,inplace=True)"
   ]
  },
  {
   "cell_type": "code",
   "execution_count": null,
   "metadata": {},
   "outputs": [],
   "source": []
  },
  {
   "cell_type": "code",
   "execution_count": 75,
   "metadata": {},
   "outputs": [],
   "source": [
    "candidates['p_value_sum'] = candidates.p_value.cumsum()"
   ]
  },
  {
   "cell_type": "code",
   "execution_count": 76,
   "metadata": {},
   "outputs": [
    {
     "data": {
      "text/html": [
       "<div>\n",
       "<style scoped>\n",
       "    .dataframe tbody tr th:only-of-type {\n",
       "        vertical-align: middle;\n",
       "    }\n",
       "\n",
       "    .dataframe tbody tr th {\n",
       "        vertical-align: top;\n",
       "    }\n",
       "\n",
       "    .dataframe thead th {\n",
       "        text-align: right;\n",
       "    }\n",
       "</style>\n",
       "<table border=\"1\" class=\"dataframe\">\n",
       "  <thead>\n",
       "    <tr style=\"text-align: right;\">\n",
       "      <th></th>\n",
       "      <th>player_id</th>\n",
       "      <th>p_value</th>\n",
       "      <th>team</th>\n",
       "      <th>position</th>\n",
       "      <th>prediction</th>\n",
       "      <th>p_value_sum</th>\n",
       "    </tr>\n",
       "  </thead>\n",
       "  <tbody>\n",
       "    <tr>\n",
       "      <th>36</th>\n",
       "      <td>van Aanholt-DEF</td>\n",
       "      <td>5.5</td>\n",
       "      <td>CRY</td>\n",
       "      <td>DEF</td>\n",
       "      <td>14.353512</td>\n",
       "      <td>5.5</td>\n",
       "    </tr>\n",
       "    <tr>\n",
       "      <th>309</th>\n",
       "      <td>Bravo-GKP</td>\n",
       "      <td>5.0</td>\n",
       "      <td>MCI</td>\n",
       "      <td>GKP</td>\n",
       "      <td>11.047348</td>\n",
       "      <td>10.5</td>\n",
       "    </tr>\n",
       "    <tr>\n",
       "      <th>35</th>\n",
       "      <td>Pérez-FWD</td>\n",
       "      <td>6.5</td>\n",
       "      <td>NEW</td>\n",
       "      <td>FWD</td>\n",
       "      <td>8.509688</td>\n",
       "      <td>17.0</td>\n",
       "    </tr>\n",
       "    <tr>\n",
       "      <th>0</th>\n",
       "      <td>Salah-MID</td>\n",
       "      <td>13.0</td>\n",
       "      <td>LIV</td>\n",
       "      <td>MID</td>\n",
       "      <td>7.973684</td>\n",
       "      <td>30.0</td>\n",
       "    </tr>\n",
       "    <tr>\n",
       "      <th>101</th>\n",
       "      <td>Tomkins-DEF</td>\n",
       "      <td>4.5</td>\n",
       "      <td>CRY</td>\n",
       "      <td>DEF</td>\n",
       "      <td>6.908856</td>\n",
       "      <td>34.5</td>\n",
       "    </tr>\n",
       "    <tr>\n",
       "      <th>23</th>\n",
       "      <td>Kane-FWD</td>\n",
       "      <td>12.5</td>\n",
       "      <td>TOT</td>\n",
       "      <td>FWD</td>\n",
       "      <td>6.412367</td>\n",
       "      <td>47.0</td>\n",
       "    </tr>\n",
       "    <tr>\n",
       "      <th>216</th>\n",
       "      <td>Lejeune-DEF</td>\n",
       "      <td>4.5</td>\n",
       "      <td>NEW</td>\n",
       "      <td>DEF</td>\n",
       "      <td>6.412039</td>\n",
       "      <td>51.5</td>\n",
       "    </tr>\n",
       "    <tr>\n",
       "      <th>17</th>\n",
       "      <td>Milivojevic-MID</td>\n",
       "      <td>6.5</td>\n",
       "      <td>CRY</td>\n",
       "      <td>MID</td>\n",
       "      <td>6.274975</td>\n",
       "      <td>58.0</td>\n",
       "    </tr>\n",
       "    <tr>\n",
       "      <th>2</th>\n",
       "      <td>Sterling-MID</td>\n",
       "      <td>11.0</td>\n",
       "      <td>MCI</td>\n",
       "      <td>MID</td>\n",
       "      <td>6.026316</td>\n",
       "      <td>69.0</td>\n",
       "    </tr>\n",
       "    <tr>\n",
       "      <th>40</th>\n",
       "      <td>Wood-FWD</td>\n",
       "      <td>6.5</td>\n",
       "      <td>BUR</td>\n",
       "      <td>FWD</td>\n",
       "      <td>5.823031</td>\n",
       "      <td>75.5</td>\n",
       "    </tr>\n",
       "    <tr>\n",
       "      <th>118</th>\n",
       "      <td>Jesus-FWD</td>\n",
       "      <td>10.5</td>\n",
       "      <td>MCI</td>\n",
       "      <td>FWD</td>\n",
       "      <td>5.668115</td>\n",
       "      <td>86.0</td>\n",
       "    </tr>\n",
       "    <tr>\n",
       "      <th>163</th>\n",
       "      <td>De Bruyne-MID</td>\n",
       "      <td>10.0</td>\n",
       "      <td>MCI</td>\n",
       "      <td>MID</td>\n",
       "      <td>5.500000</td>\n",
       "      <td>96.0</td>\n",
       "    </tr>\n",
       "    <tr>\n",
       "      <th>4</th>\n",
       "      <td>Robertson-DEF</td>\n",
       "      <td>6.0</td>\n",
       "      <td>LIV</td>\n",
       "      <td>DEF</td>\n",
       "      <td>5.426305</td>\n",
       "      <td>102.0</td>\n",
       "    </tr>\n",
       "    <tr>\n",
       "      <th>25</th>\n",
       "      <td>Azpilicueta-DEF</td>\n",
       "      <td>6.5</td>\n",
       "      <td>CHE</td>\n",
       "      <td>DEF</td>\n",
       "      <td>5.325576</td>\n",
       "      <td>108.5</td>\n",
       "    </tr>\n",
       "    <tr>\n",
       "      <th>21</th>\n",
       "      <td>Eriksen-MID</td>\n",
       "      <td>9.5</td>\n",
       "      <td>TOT</td>\n",
       "      <td>MID</td>\n",
       "      <td>5.236842</td>\n",
       "      <td>118.0</td>\n",
       "    </tr>\n",
       "  </tbody>\n",
       "</table>\n",
       "</div>"
      ],
      "text/plain": [
       "           player_id  p_value team position  prediction  p_value_sum\n",
       "36   van Aanholt-DEF      5.5  CRY      DEF   14.353512          5.5\n",
       "309        Bravo-GKP      5.0  MCI      GKP   11.047348         10.5\n",
       "35         Pérez-FWD      6.5  NEW      FWD    8.509688         17.0\n",
       "0          Salah-MID     13.0  LIV      MID    7.973684         30.0\n",
       "101      Tomkins-DEF      4.5  CRY      DEF    6.908856         34.5\n",
       "23          Kane-FWD     12.5  TOT      FWD    6.412367         47.0\n",
       "216      Lejeune-DEF      4.5  NEW      DEF    6.412039         51.5\n",
       "17   Milivojevic-MID      6.5  CRY      MID    6.274975         58.0\n",
       "2       Sterling-MID     11.0  MCI      MID    6.026316         69.0\n",
       "40          Wood-FWD      6.5  BUR      FWD    5.823031         75.5\n",
       "118        Jesus-FWD     10.5  MCI      FWD    5.668115         86.0\n",
       "163    De Bruyne-MID     10.0  MCI      MID    5.500000         96.0\n",
       "4      Robertson-DEF      6.0  LIV      DEF    5.426305        102.0\n",
       "25   Azpilicueta-DEF      6.5  CHE      DEF    5.325576        108.5\n",
       "21       Eriksen-MID      9.5  TOT      MID    5.236842        118.0"
      ]
     },
     "execution_count": 76,
     "metadata": {},
     "output_type": "execute_result"
    }
   ],
   "source": [
    "candidates.head(15)"
   ]
  },
  {
   "cell_type": "code",
   "execution_count": null,
   "metadata": {},
   "outputs": [],
   "source": []
  }
 ],
 "metadata": {
  "kernelspec": {
   "display_name": "Python 3",
   "language": "python",
   "name": "python3"
  },
  "language_info": {
   "codemirror_mode": {
    "name": "ipython",
    "version": 3
   },
   "file_extension": ".py",
   "mimetype": "text/x-python",
   "name": "python",
   "nbconvert_exporter": "python",
   "pygments_lexer": "ipython3",
   "version": "3.7.3"
  }
 },
 "nbformat": 4,
 "nbformat_minor": 2
}
