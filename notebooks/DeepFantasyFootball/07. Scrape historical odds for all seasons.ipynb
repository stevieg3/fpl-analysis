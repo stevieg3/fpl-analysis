{
 "cells": [
  {
   "cell_type": "code",
   "execution_count": 1,
   "metadata": {},
   "outputs": [],
   "source": [
    "import time\n",
    "\n",
    "import pandas as pd\n",
    "import numpy as np\n",
    "from selenium import webdriver"
   ]
  },
  {
   "cell_type": "code",
   "execution_count": 2,
   "metadata": {},
   "outputs": [],
   "source": [
    "chrome_options = webdriver.ChromeOptions()\n",
    "chrome_options.add_argument(\"--window-size=1920,1080\")\n",
    "chrome_options.add_argument(\"--start-maximized\")"
   ]
  },
  {
   "cell_type": "code",
   "execution_count": 3,
   "metadata": {},
   "outputs": [
    {
     "data": {
      "text/plain": [
       "'/Users/stevengeorge/Documents/Github/fpl-analysis/notebooks/DeepFantasyFootball'"
      ]
     },
     "execution_count": 3,
     "metadata": {},
     "output_type": "execute_result"
    }
   ],
   "source": [
    "import os\n",
    "os.getcwd()"
   ]
  },
  {
   "cell_type": "code",
   "execution_count": 4,
   "metadata": {},
   "outputs": [],
   "source": [
    "driver = webdriver.Chrome(\n",
    "    \"../../../../Python/Chrome Driver/chromedriver\",\n",
    "    options=chrome_options,\n",
    ")"
   ]
  },
  {
   "cell_type": "code",
   "execution_count": 5,
   "metadata": {},
   "outputs": [],
   "source": [
    "driver.implicitly_wait(10)"
   ]
  },
  {
   "cell_type": "code",
   "execution_count": 6,
   "metadata": {},
   "outputs": [],
   "source": [
    "TABLE_XPATH = '//*[@id=\"tournamentTable\"]'"
   ]
  },
  {
   "cell_type": "code",
   "execution_count": 7,
   "metadata": {},
   "outputs": [],
   "source": [
    "COLUMN_NAMES = ['KO', 'Match', 'Result', '1', 'X', '2', 'num_available_bookmakers']"
   ]
  },
  {
   "cell_type": "code",
   "execution_count": 8,
   "metadata": {},
   "outputs": [],
   "source": [
    "ALL_SEASONS = [f'20{i}-20{i+1}' for i in range(11, 20)]"
   ]
  },
  {
   "cell_type": "code",
   "execution_count": 9,
   "metadata": {},
   "outputs": [
    {
     "name": "stdout",
     "output_type": "stream",
     "text": [
      "2011-2012\n",
      "1\n",
      "(50, 9)\n",
      "2\n",
      "(50, 9)\n",
      "3\n",
      "(50, 9)\n",
      "4\n",
      "(50, 9)\n",
      "5\n",
      "(50, 9)\n",
      "6\n",
      "(50, 9)\n",
      "7\n",
      "(50, 9)\n",
      "8\n",
      "(30, 9)\n",
      "2012-2013\n",
      "1\n",
      "(50, 9)\n",
      "2\n",
      "(50, 9)\n",
      "3\n",
      "(50, 9)\n",
      "4\n",
      "(50, 9)\n",
      "5\n",
      "(50, 9)\n",
      "6\n",
      "(50, 9)\n",
      "7\n",
      "(50, 9)\n",
      "8\n",
      "(30, 9)\n",
      "2013-2014\n",
      "1\n",
      "(50, 9)\n",
      "2\n",
      "(50, 9)\n",
      "3\n",
      "(50, 9)\n",
      "4\n",
      "(50, 9)\n",
      "5\n",
      "(50, 9)\n",
      "6\n",
      "(50, 9)\n",
      "7\n",
      "(50, 9)\n",
      "8\n",
      "(30, 9)\n",
      "2014-2015\n",
      "1\n",
      "(50, 9)\n",
      "2\n",
      "(50, 9)\n",
      "3\n",
      "(50, 9)\n",
      "4\n",
      "(50, 9)\n",
      "5\n",
      "(50, 9)\n",
      "6\n",
      "(50, 9)\n",
      "7\n",
      "(50, 9)\n",
      "8\n",
      "(30, 9)\n",
      "2015-2016\n",
      "1\n",
      "(50, 9)\n",
      "2\n",
      "(50, 9)\n",
      "3\n",
      "(50, 9)\n",
      "4\n",
      "(50, 9)\n",
      "5\n",
      "(50, 9)\n",
      "6\n",
      "(50, 9)\n",
      "7\n",
      "(50, 9)\n",
      "8\n",
      "(30, 9)\n",
      "2016-2017\n",
      "1\n",
      "(50, 9)\n",
      "2\n",
      "(50, 9)\n",
      "3\n",
      "(50, 9)\n",
      "4\n",
      "(50, 9)\n",
      "5\n",
      "(50, 9)\n",
      "6\n",
      "(50, 9)\n",
      "7\n",
      "(50, 9)\n",
      "8\n",
      "(30, 9)\n",
      "2017-2018\n",
      "1\n",
      "(50, 9)\n",
      "2\n",
      "(50, 9)\n",
      "3\n",
      "(50, 9)\n",
      "4\n",
      "(50, 9)\n",
      "5\n",
      "(50, 9)\n",
      "6\n",
      "(50, 9)\n",
      "7\n",
      "(50, 9)\n",
      "8\n",
      "(30, 9)\n",
      "2018-2019\n",
      "1\n",
      "(50, 9)\n",
      "2\n",
      "(50, 9)\n",
      "3\n",
      "(50, 9)\n",
      "4\n",
      "(50, 9)\n",
      "5\n",
      "(50, 9)\n",
      "6\n",
      "(50, 9)\n",
      "7\n",
      "(50, 9)\n",
      "8\n",
      "(30, 9)\n",
      "2019-2020\n",
      "1\n",
      "(50, 9)\n",
      "2\n",
      "(50, 9)\n",
      "3\n",
      "(50, 9)\n",
      "4\n",
      "(50, 9)\n",
      "5\n",
      "(50, 9)\n",
      "6\n",
      "(50, 9)\n",
      "7\n",
      "(50, 9)\n",
      "8\n",
      "(30, 9)\n",
      "CPU times: user 2.72 s, sys: 144 ms, total: 2.87 s\n",
      "Wall time: 1min 27s\n"
     ]
    }
   ],
   "source": [
    "%%time\n",
    "all_season_data = pd.DataFrame()\n",
    "\n",
    "for season in ALL_SEASONS:\n",
    "    \n",
    "    print(season)\n",
    "\n",
    "    season_odds_df = pd.DataFrame()\n",
    "\n",
    "    for page_number in range(1, 9):\n",
    "        print(page_number)\n",
    "\n",
    "        if season == '2019-2020':\n",
    "            driver.get(f'https://www.oddsportal.com/soccer/england/premier-league/results/#/page/{page_number}/')\n",
    "        else:\n",
    "            driver.get(f'https://www.oddsportal.com/soccer/england/premier-league-{season}/results/#/page/{page_number}/')\n",
    "        \n",
    "        time.sleep(1)\n",
    "\n",
    "        tbl = driver.find_element_by_xpath(TABLE_XPATH).get_attribute(\"outerHTML\")\n",
    "        odds_table = pd.read_html(tbl, header=0)[0]\n",
    "\n",
    "        odds_table.columns = COLUMN_NAMES\n",
    "        odds_table.dropna(axis=0, how='all', inplace=True)\n",
    "\n",
    "        # Keep matches only (some rows are repeats of the header)\n",
    "        odds_table = odds_table[odds_table['Match'].str.contains('-')]\n",
    "\n",
    "        for odd_col in ['1', 'X', '2']:\n",
    "            odds_table[odd_col].replace('-', np.nan, inplace=True)\n",
    "            odds_table.loc[\n",
    "                ~odds_table[odd_col].isnull(), \n",
    "                odd_col\n",
    "            ] = odds_table.loc[\n",
    "                ~odds_table[odd_col].isnull(), \n",
    "                odd_col\n",
    "            ].str.split('/').apply(lambda x: float(x[0]) / float(x[1]))\n",
    "\n",
    "        odds_table['home_team'] = odds_table['Match'].str.split(' - ').apply(lambda x: x[0])\n",
    "        odds_table['away_team'] = odds_table['Match'].str.split(' - ').apply(lambda x: x[1])\n",
    "\n",
    "        print(odds_table.shape)\n",
    "\n",
    "        season_odds_df = season_odds_df.append(odds_table)\n",
    "\n",
    "    assert season_odds_df.shape[0] == 380\n",
    "\n",
    "    season_odds_df['season'] = season\n",
    "    \n",
    "    all_season_data = all_season_data.append(season_odds_df)"
   ]
  },
  {
   "cell_type": "code",
   "execution_count": 10,
   "metadata": {},
   "outputs": [
    {
     "data": {
      "text/plain": [
       "(3420, 10)"
      ]
     },
     "execution_count": 10,
     "metadata": {},
     "output_type": "execute_result"
    }
   ],
   "source": [
    "all_season_data.shape"
   ]
  },
  {
   "cell_type": "code",
   "execution_count": 11,
   "metadata": {},
   "outputs": [
    {
     "data": {
      "text/plain": [
       "3420"
      ]
     },
     "execution_count": 11,
     "metadata": {},
     "output_type": "execute_result"
    }
   ],
   "source": [
    "380*9"
   ]
  },
  {
   "cell_type": "code",
   "execution_count": 12,
   "metadata": {},
   "outputs": [
    {
     "data": {
      "text/html": [
       "<div>\n",
       "<style scoped>\n",
       "    .dataframe tbody tr th:only-of-type {\n",
       "        vertical-align: middle;\n",
       "    }\n",
       "\n",
       "    .dataframe tbody tr th {\n",
       "        vertical-align: top;\n",
       "    }\n",
       "\n",
       "    .dataframe thead th {\n",
       "        text-align: right;\n",
       "    }\n",
       "</style>\n",
       "<table border=\"1\" class=\"dataframe\">\n",
       "  <thead>\n",
       "    <tr style=\"text-align: right;\">\n",
       "      <th></th>\n",
       "      <th>KO</th>\n",
       "      <th>Match</th>\n",
       "      <th>Result</th>\n",
       "      <th>1</th>\n",
       "      <th>X</th>\n",
       "      <th>2</th>\n",
       "      <th>num_available_bookmakers</th>\n",
       "      <th>home_team</th>\n",
       "      <th>away_team</th>\n",
       "      <th>season</th>\n",
       "    </tr>\n",
       "  </thead>\n",
       "  <tbody>\n",
       "    <tr>\n",
       "      <th>2</th>\n",
       "      <td>14:00</td>\n",
       "      <td>Chelsea - Blackburn</td>\n",
       "      <td>2:1</td>\n",
       "      <td>0.25</td>\n",
       "      <td>5.05</td>\n",
       "      <td>9.87</td>\n",
       "      <td>6</td>\n",
       "      <td>Chelsea</td>\n",
       "      <td>Blackburn</td>\n",
       "      <td>2011-2012</td>\n",
       "    </tr>\n",
       "    <tr>\n",
       "      <th>3</th>\n",
       "      <td>14:00</td>\n",
       "      <td>Everton - Newcastle</td>\n",
       "      <td>3:1</td>\n",
       "      <td>1.03</td>\n",
       "      <td>2.64</td>\n",
       "      <td>2.45</td>\n",
       "      <td>6</td>\n",
       "      <td>Everton</td>\n",
       "      <td>Newcastle</td>\n",
       "      <td>2011-2012</td>\n",
       "    </tr>\n",
       "    <tr>\n",
       "      <th>4</th>\n",
       "      <td>14:00</td>\n",
       "      <td>Manchester City - QPR</td>\n",
       "      <td>3:2</td>\n",
       "      <td>0.12</td>\n",
       "      <td>7.76</td>\n",
       "      <td>18.06</td>\n",
       "      <td>6</td>\n",
       "      <td>Manchester City</td>\n",
       "      <td>QPR</td>\n",
       "      <td>2011-2012</td>\n",
       "    </tr>\n",
       "    <tr>\n",
       "      <th>5</th>\n",
       "      <td>14:00</td>\n",
       "      <td>Norwich - Aston Villa</td>\n",
       "      <td>2:0</td>\n",
       "      <td>1.02</td>\n",
       "      <td>2.46</td>\n",
       "      <td>2.65</td>\n",
       "      <td>6</td>\n",
       "      <td>Norwich</td>\n",
       "      <td>Aston Villa</td>\n",
       "      <td>2011-2012</td>\n",
       "    </tr>\n",
       "    <tr>\n",
       "      <th>6</th>\n",
       "      <td>14:00</td>\n",
       "      <td>Stoke - Bolton</td>\n",
       "      <td>2:2</td>\n",
       "      <td>1.15</td>\n",
       "      <td>2.86</td>\n",
       "      <td>1.99</td>\n",
       "      <td>6</td>\n",
       "      <td>Stoke</td>\n",
       "      <td>Bolton</td>\n",
       "      <td>2011-2012</td>\n",
       "    </tr>\n",
       "  </tbody>\n",
       "</table>\n",
       "</div>"
      ],
      "text/plain": [
       "      KO                  Match Result     1     X      2  \\\n",
       "2  14:00    Chelsea - Blackburn    2:1  0.25  5.05   9.87   \n",
       "3  14:00    Everton - Newcastle    3:1  1.03  2.64   2.45   \n",
       "4  14:00  Manchester City - QPR    3:2  0.12  7.76  18.06   \n",
       "5  14:00  Norwich - Aston Villa    2:0  1.02  2.46   2.65   \n",
       "6  14:00         Stoke - Bolton    2:2  1.15  2.86   1.99   \n",
       "\n",
       "  num_available_bookmakers        home_team    away_team     season  \n",
       "2                        6          Chelsea    Blackburn  2011-2012  \n",
       "3                        6          Everton    Newcastle  2011-2012  \n",
       "4                        6  Manchester City          QPR  2011-2012  \n",
       "5                        6          Norwich  Aston Villa  2011-2012  \n",
       "6                        6            Stoke       Bolton  2011-2012  "
      ]
     },
     "execution_count": 12,
     "metadata": {},
     "output_type": "execute_result"
    }
   ],
   "source": [
    "all_season_data.head()"
   ]
  },
  {
   "cell_type": "code",
   "execution_count": 13,
   "metadata": {},
   "outputs": [
    {
     "data": {
      "text/plain": [
       "array(['2015-2016'], dtype=object)"
      ]
     },
     "execution_count": 13,
     "metadata": {},
     "output_type": "execute_result"
    }
   ],
   "source": [
    "all_season_data[all_season_data['1'].isnull()]['season'].unique()"
   ]
  },
  {
   "cell_type": "code",
   "execution_count": 14,
   "metadata": {},
   "outputs": [
    {
     "data": {
      "text/plain": [
       "KO                           0\n",
       "Match                        0\n",
       "Result                       0\n",
       "1                           28\n",
       "X                           28\n",
       "2                           28\n",
       "num_available_bookmakers     0\n",
       "home_team                    0\n",
       "away_team                    0\n",
       "season                       0\n",
       "dtype: int64"
      ]
     },
     "execution_count": 14,
     "metadata": {},
     "output_type": "execute_result"
    }
   ],
   "source": [
    "all_season_data.isnull().sum()"
   ]
  },
  {
   "cell_type": "code",
   "execution_count": 27,
   "metadata": {},
   "outputs": [
    {
     "data": {
      "text/html": [
       "<div>\n",
       "<style scoped>\n",
       "    .dataframe tbody tr th:only-of-type {\n",
       "        vertical-align: middle;\n",
       "    }\n",
       "\n",
       "    .dataframe tbody tr th {\n",
       "        vertical-align: top;\n",
       "    }\n",
       "\n",
       "    .dataframe thead th {\n",
       "        text-align: right;\n",
       "    }\n",
       "</style>\n",
       "<table border=\"1\" class=\"dataframe\">\n",
       "  <thead>\n",
       "    <tr style=\"text-align: right;\">\n",
       "      <th></th>\n",
       "      <th>KO</th>\n",
       "      <th>Match</th>\n",
       "      <th>Result</th>\n",
       "      <th>1</th>\n",
       "      <th>X</th>\n",
       "      <th>2</th>\n",
       "      <th>num_available_bookmakers</th>\n",
       "      <th>home_team</th>\n",
       "      <th>away_team</th>\n",
       "      <th>season</th>\n",
       "    </tr>\n",
       "  </thead>\n",
       "  <tbody>\n",
       "    <tr>\n",
       "      <th>15</th>\n",
       "      <td>17:00</td>\n",
       "      <td>Manchester Utd - West Ham</td>\n",
       "      <td>1:1</td>\n",
       "      <td>0.26</td>\n",
       "      <td>5.55</td>\n",
       "      <td>10.43</td>\n",
       "      <td>12</td>\n",
       "      <td>Manchester Utd</td>\n",
       "      <td>West Ham</td>\n",
       "      <td>2019-2020</td>\n",
       "    </tr>\n",
       "    <tr>\n",
       "      <th>52</th>\n",
       "      <td>16:15</td>\n",
       "      <td>West Ham - Manchester Utd</td>\n",
       "      <td>0:2</td>\n",
       "      <td>5.34</td>\n",
       "      <td>3.42</td>\n",
       "      <td>0.54</td>\n",
       "      <td>8</td>\n",
       "      <td>West Ham</td>\n",
       "      <td>Manchester Utd</td>\n",
       "      <td>2016-2017</td>\n",
       "    </tr>\n",
       "    <tr>\n",
       "      <th>52</th>\n",
       "      <td>15:00</td>\n",
       "      <td>Tottenham - Manchester City</td>\n",
       "      <td>0:1</td>\n",
       "      <td>2.35</td>\n",
       "      <td>2.62</td>\n",
       "      <td>1.18</td>\n",
       "      <td>8</td>\n",
       "      <td>Tottenham</td>\n",
       "      <td>Manchester City</td>\n",
       "      <td>2014-2015</td>\n",
       "    </tr>\n",
       "    <tr>\n",
       "      <th>4</th>\n",
       "      <td>14:00</td>\n",
       "      <td>West Ham - Wigan</td>\n",
       "      <td>2:0</td>\n",
       "      <td>1.38</td>\n",
       "      <td>2.37</td>\n",
       "      <td>2.06</td>\n",
       "      <td>7</td>\n",
       "      <td>West Ham</td>\n",
       "      <td>Wigan</td>\n",
       "      <td>2012-2013</td>\n",
       "    </tr>\n",
       "    <tr>\n",
       "      <th>5</th>\n",
       "      <td>19:00</td>\n",
       "      <td>Chelsea - Tottenham</td>\n",
       "      <td>2:0</td>\n",
       "      <td>1.38</td>\n",
       "      <td>2.26</td>\n",
       "      <td>2.28</td>\n",
       "      <td>11</td>\n",
       "      <td>Chelsea</td>\n",
       "      <td>Tottenham</td>\n",
       "      <td>2018-2019</td>\n",
       "    </tr>\n",
       "  </tbody>\n",
       "</table>\n",
       "</div>"
      ],
      "text/plain": [
       "       KO                        Match Result     1     X      2  \\\n",
       "15  17:00    Manchester Utd - West Ham    1:1  0.26  5.55  10.43   \n",
       "52  16:15    West Ham - Manchester Utd    0:2  5.34  3.42   0.54   \n",
       "52  15:00  Tottenham - Manchester City    0:1  2.35  2.62   1.18   \n",
       "4   14:00             West Ham - Wigan    2:0  1.38  2.37   2.06   \n",
       "5   19:00          Chelsea - Tottenham    2:0  1.38  2.26   2.28   \n",
       "\n",
       "   num_available_bookmakers       home_team        away_team     season  \n",
       "15                       12  Manchester Utd         West Ham  2019-2020  \n",
       "52                        8        West Ham   Manchester Utd  2016-2017  \n",
       "52                        8       Tottenham  Manchester City  2014-2015  \n",
       "4                         7        West Ham            Wigan  2012-2013  \n",
       "5                        11         Chelsea        Tottenham  2018-2019  "
      ]
     },
     "execution_count": 27,
     "metadata": {},
     "output_type": "execute_result"
    }
   ],
   "source": [
    "all_season_data.sample(n=5)"
   ]
  },
  {
   "cell_type": "code",
   "execution_count": 15,
   "metadata": {},
   "outputs": [],
   "source": [
    "driver.close()"
   ]
  },
  {
   "cell_type": "code",
   "execution_count": 17,
   "metadata": {},
   "outputs": [],
   "source": [
    "all_season_data.to_parquet('../../data/external/oddsportal_odds_2011to2020.parquet', index=False)"
   ]
  }
 ],
 "metadata": {
  "kernelspec": {
   "display_name": "Python 3",
   "language": "python",
   "name": "python3"
  },
  "language_info": {
   "codemirror_mode": {
    "name": "ipython",
    "version": 3
   },
   "file_extension": ".py",
   "mimetype": "text/x-python",
   "name": "python",
   "nbconvert_exporter": "python",
   "pygments_lexer": "ipython3",
   "version": "3.7.6"
  }
 },
 "nbformat": 4,
 "nbformat_minor": 4
}
