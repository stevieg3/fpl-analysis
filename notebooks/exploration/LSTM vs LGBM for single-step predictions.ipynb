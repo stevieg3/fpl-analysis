{
 "cells": [
  {
   "cell_type": "markdown",
   "metadata": {},
   "source": [
    "# LSTM vs LGBM for single-step predictions\n",
    "\n",
    "In this notebook we compare the performance of our best LSTM with a lightgbm regressor for predicting the points scored in the next gameweek (i.e. a single timestep)."
   ]
  },
  {
   "cell_type": "markdown",
   "metadata": {},
   "source": [
    "## Set-up"
   ]
  },
  {
   "cell_type": "code",
   "execution_count": 1,
   "metadata": {},
   "outputs": [
    {
     "name": "stderr",
     "output_type": "stream",
     "text": [
      "Using TensorFlow backend.\n"
     ]
    }
   ],
   "source": [
    "import os\n",
    "import itertools\n",
    "import pickle\n",
    "\n",
    "import pandas as pd\n",
    "import numpy as np\n",
    "from keras.layers import \\\n",
    "    Dense, \\\n",
    "    LSTM, \\\n",
    "    BatchNormalization, \\\n",
    "    Dropout, \\\n",
    "    Activation\n",
    "from keras import \\\n",
    "    initializers, \\\n",
    "    optimizers, \\\n",
    "    Sequential\n",
    "from hyperopt import hp, fmin, rand, tpe, Trials\n",
    "from sklearn.metrics import mean_squared_error\n",
    "import matplotlib.pyplot as plt\n",
    "import seaborn as sns"
   ]
  },
  {
   "cell_type": "code",
   "execution_count": 2,
   "metadata": {},
   "outputs": [],
   "source": [
    "os.chdir('../..')"
   ]
  },
  {
   "cell_type": "code",
   "execution_count": 3,
   "metadata": {},
   "outputs": [],
   "source": [
    "from src.models.utils import \\\n",
    "    _load_all_historical_data, \\\n",
    "    _map_season_string_to_ordered_numeric, \\\n",
    "    _generate_known_features_for_next_gw, \\\n",
    "    custom_train_test_split, \\\n",
    "    split_sequences, \\\n",
    "    _load_model_from_pickle\n",
    "from src.models.constants import \\\n",
    "    COLUMNS_TO_DROP_FOR_TRAINING\n",
    "from src.models.LSTM.make_predictions import LSTMPlayerPredictor\n",
    "from src.visualisation.utils import plot_learning_curve"
   ]
  },
  {
   "cell_type": "code",
   "execution_count": 4,
   "metadata": {},
   "outputs": [],
   "source": [
    "pd.options.display.max_columns = None"
   ]
  },
  {
   "cell_type": "code",
   "execution_count": 5,
   "metadata": {},
   "outputs": [],
   "source": [
    "RANDOM_SEED = 42"
   ]
  },
  {
   "cell_type": "markdown",
   "metadata": {},
   "source": [
    "## Load training data"
   ]
  },
  {
   "cell_type": "code",
   "execution_count": 6,
   "metadata": {},
   "outputs": [],
   "source": [
    "def load_all_data():\n",
    "    full_data = _load_all_historical_data()\n",
    "    full_data.sort_values(['name', 'season', 'gw'], inplace=True)\n",
    "\n",
    "    _map_season_string_to_ordered_numeric(full_data)\n",
    "    _generate_known_features_for_next_gw(full_data)\n",
    "\n",
    "    # Remove Brendan Galloway due to unexplained gap in gameweek data\n",
    "    full_data = full_data[full_data['name'] != 'brendan_galloway']\n",
    "    full_data.drop('ID', axis=1, inplace=True)\n",
    "\n",
    "#     logging.info(f\"Loaded historical data of shape {full_data.shape}\")\n",
    "\n",
    "    return full_data"
   ]
  },
  {
   "cell_type": "code",
   "execution_count": 7,
   "metadata": {},
   "outputs": [
    {
     "name": "stderr",
     "output_type": "stream",
     "text": [
      "2020-06-08 22:51:40,082 - Loading raw historical FPL data\n",
      "2020-06-08 22:51:40,349 - Creating season order column\n",
      "2020-06-08 22:51:40,356 - Generating known features for next GW\n"
     ]
    }
   ],
   "source": [
    "all_data = load_all_data()"
   ]
  },
  {
   "cell_type": "code",
   "execution_count": 8,
   "metadata": {},
   "outputs": [
    {
     "name": "stdout",
     "output_type": "stream",
     "text": [
      "(67797, 68)\n"
     ]
    },
    {
     "data": {
      "text/html": [
       "<div>\n",
       "<style scoped>\n",
       "    .dataframe tbody tr th:only-of-type {\n",
       "        vertical-align: middle;\n",
       "    }\n",
       "\n",
       "    .dataframe tbody tr th {\n",
       "        vertical-align: top;\n",
       "    }\n",
       "\n",
       "    .dataframe thead th {\n",
       "        text-align: right;\n",
       "    }\n",
       "</style>\n",
       "<table border=\"1\" class=\"dataframe\">\n",
       "  <thead>\n",
       "    <tr style=\"text-align: right;\">\n",
       "      <th></th>\n",
       "      <th>assists</th>\n",
       "      <th>bonus</th>\n",
       "      <th>bps</th>\n",
       "      <th>clean_sheets</th>\n",
       "      <th>creativity</th>\n",
       "      <th>goals_conceded</th>\n",
       "      <th>goals_scored</th>\n",
       "      <th>ict_index</th>\n",
       "      <th>influence</th>\n",
       "      <th>minutes</th>\n",
       "      <th>own_goals</th>\n",
       "      <th>penalties_missed</th>\n",
       "      <th>penalties_saved</th>\n",
       "      <th>red_cards</th>\n",
       "      <th>gw</th>\n",
       "      <th>saves</th>\n",
       "      <th>selected</th>\n",
       "      <th>team_a_score</th>\n",
       "      <th>team_h_score</th>\n",
       "      <th>threat</th>\n",
       "      <th>total_points</th>\n",
       "      <th>transfers_balance</th>\n",
       "      <th>transfers_in</th>\n",
       "      <th>transfers_out</th>\n",
       "      <th>value</th>\n",
       "      <th>was_home</th>\n",
       "      <th>yellow_cards</th>\n",
       "      <th>name</th>\n",
       "      <th>team_name</th>\n",
       "      <th>promoted_side</th>\n",
       "      <th>top_6_last_season</th>\n",
       "      <th>season</th>\n",
       "      <th>position_DEF</th>\n",
       "      <th>position_FWD</th>\n",
       "      <th>position_GK</th>\n",
       "      <th>position_MID</th>\n",
       "      <th>team_name_opponent</th>\n",
       "      <th>promoted_side_opponent</th>\n",
       "      <th>top_6_last_season_opponent</th>\n",
       "      <th>late_kickoff</th>\n",
       "      <th>early_kickoff</th>\n",
       "      <th>kickoff_month_Aug</th>\n",
       "      <th>kickoff_month_Sep</th>\n",
       "      <th>kickoff_month_Oct</th>\n",
       "      <th>kickoff_month_Nov</th>\n",
       "      <th>kickoff_month_Dec</th>\n",
       "      <th>kickoff_month_Jan</th>\n",
       "      <th>kickoff_month_Feb</th>\n",
       "      <th>kickoff_month_Mar</th>\n",
       "      <th>kickoff_month_Apr</th>\n",
       "      <th>kickoff_month_May</th>\n",
       "      <th>season_order</th>\n",
       "      <th>next_match_value</th>\n",
       "      <th>next_match_was_home</th>\n",
       "      <th>next_match_promoted_side_opponent</th>\n",
       "      <th>next_match_top_6_last_season_opponent</th>\n",
       "      <th>next_match_kickoff_month_Aug</th>\n",
       "      <th>next_match_kickoff_month_Sep</th>\n",
       "      <th>next_match_kickoff_month_Oct</th>\n",
       "      <th>next_match_kickoff_month_Nov</th>\n",
       "      <th>next_match_kickoff_month_Dec</th>\n",
       "      <th>next_match_kickoff_month_Jan</th>\n",
       "      <th>next_match_kickoff_month_Feb</th>\n",
       "      <th>next_match_kickoff_month_Mar</th>\n",
       "      <th>next_match_kickoff_month_Apr</th>\n",
       "      <th>next_match_kickoff_month_May</th>\n",
       "      <th>next_match_late_kickoff</th>\n",
       "      <th>next_match_early_kickoff</th>\n",
       "    </tr>\n",
       "  </thead>\n",
       "  <tbody>\n",
       "    <tr>\n",
       "      <th>0</th>\n",
       "      <td>0</td>\n",
       "      <td>0</td>\n",
       "      <td>0</td>\n",
       "      <td>0</td>\n",
       "      <td>0.0</td>\n",
       "      <td>0</td>\n",
       "      <td>0</td>\n",
       "      <td>0.0</td>\n",
       "      <td>0.0</td>\n",
       "      <td>0</td>\n",
       "      <td>0</td>\n",
       "      <td>0</td>\n",
       "      <td>0</td>\n",
       "      <td>0</td>\n",
       "      <td>1</td>\n",
       "      <td>0</td>\n",
       "      <td>14023</td>\n",
       "      <td>1</td>\n",
       "      <td>2</td>\n",
       "      <td>0.0</td>\n",
       "      <td>0</td>\n",
       "      <td>0</td>\n",
       "      <td>0</td>\n",
       "      <td>0</td>\n",
       "      <td>5.5</td>\n",
       "      <td>False</td>\n",
       "      <td>0</td>\n",
       "      <td>aaron_cresswell</td>\n",
       "      <td>West Ham United</td>\n",
       "      <td>0</td>\n",
       "      <td>0</td>\n",
       "      <td>2016-17</td>\n",
       "      <td>1</td>\n",
       "      <td>0</td>\n",
       "      <td>0</td>\n",
       "      <td>0</td>\n",
       "      <td>Chelsea</td>\n",
       "      <td>0</td>\n",
       "      <td>0</td>\n",
       "      <td>1</td>\n",
       "      <td>0</td>\n",
       "      <td>1</td>\n",
       "      <td>0</td>\n",
       "      <td>0</td>\n",
       "      <td>0</td>\n",
       "      <td>0</td>\n",
       "      <td>0</td>\n",
       "      <td>0</td>\n",
       "      <td>0</td>\n",
       "      <td>0</td>\n",
       "      <td>0</td>\n",
       "      <td>1</td>\n",
       "      <td>5.5</td>\n",
       "      <td>1.0</td>\n",
       "      <td>0.0</td>\n",
       "      <td>0.0</td>\n",
       "      <td>1.0</td>\n",
       "      <td>0.0</td>\n",
       "      <td>0.0</td>\n",
       "      <td>0.0</td>\n",
       "      <td>0.0</td>\n",
       "      <td>0.0</td>\n",
       "      <td>0.0</td>\n",
       "      <td>0.0</td>\n",
       "      <td>0.0</td>\n",
       "      <td>0.0</td>\n",
       "      <td>0.0</td>\n",
       "      <td>0.0</td>\n",
       "    </tr>\n",
       "    <tr>\n",
       "      <th>1</th>\n",
       "      <td>0</td>\n",
       "      <td>0</td>\n",
       "      <td>0</td>\n",
       "      <td>0</td>\n",
       "      <td>0.0</td>\n",
       "      <td>0</td>\n",
       "      <td>0</td>\n",
       "      <td>0.0</td>\n",
       "      <td>0.0</td>\n",
       "      <td>0</td>\n",
       "      <td>0</td>\n",
       "      <td>0</td>\n",
       "      <td>0</td>\n",
       "      <td>0</td>\n",
       "      <td>2</td>\n",
       "      <td>0</td>\n",
       "      <td>11531</td>\n",
       "      <td>0</td>\n",
       "      <td>1</td>\n",
       "      <td>0.0</td>\n",
       "      <td>0</td>\n",
       "      <td>-3002</td>\n",
       "      <td>79</td>\n",
       "      <td>3081</td>\n",
       "      <td>5.5</td>\n",
       "      <td>True</td>\n",
       "      <td>0</td>\n",
       "      <td>aaron_cresswell</td>\n",
       "      <td>West Ham United</td>\n",
       "      <td>0</td>\n",
       "      <td>0</td>\n",
       "      <td>2016-17</td>\n",
       "      <td>1</td>\n",
       "      <td>0</td>\n",
       "      <td>0</td>\n",
       "      <td>0</td>\n",
       "      <td>Bournemouth</td>\n",
       "      <td>0</td>\n",
       "      <td>0</td>\n",
       "      <td>0</td>\n",
       "      <td>0</td>\n",
       "      <td>1</td>\n",
       "      <td>0</td>\n",
       "      <td>0</td>\n",
       "      <td>0</td>\n",
       "      <td>0</td>\n",
       "      <td>0</td>\n",
       "      <td>0</td>\n",
       "      <td>0</td>\n",
       "      <td>0</td>\n",
       "      <td>0</td>\n",
       "      <td>1</td>\n",
       "      <td>5.4</td>\n",
       "      <td>0.0</td>\n",
       "      <td>0.0</td>\n",
       "      <td>1.0</td>\n",
       "      <td>1.0</td>\n",
       "      <td>0.0</td>\n",
       "      <td>0.0</td>\n",
       "      <td>0.0</td>\n",
       "      <td>0.0</td>\n",
       "      <td>0.0</td>\n",
       "      <td>0.0</td>\n",
       "      <td>0.0</td>\n",
       "      <td>0.0</td>\n",
       "      <td>0.0</td>\n",
       "      <td>0.0</td>\n",
       "      <td>0.0</td>\n",
       "    </tr>\n",
       "    <tr>\n",
       "      <th>2</th>\n",
       "      <td>0</td>\n",
       "      <td>0</td>\n",
       "      <td>0</td>\n",
       "      <td>0</td>\n",
       "      <td>0.0</td>\n",
       "      <td>0</td>\n",
       "      <td>0</td>\n",
       "      <td>0.0</td>\n",
       "      <td>0.0</td>\n",
       "      <td>0</td>\n",
       "      <td>0</td>\n",
       "      <td>0</td>\n",
       "      <td>0</td>\n",
       "      <td>0</td>\n",
       "      <td>3</td>\n",
       "      <td>0</td>\n",
       "      <td>9587</td>\n",
       "      <td>1</td>\n",
       "      <td>3</td>\n",
       "      <td>0.0</td>\n",
       "      <td>0</td>\n",
       "      <td>-2053</td>\n",
       "      <td>28</td>\n",
       "      <td>2081</td>\n",
       "      <td>5.4</td>\n",
       "      <td>False</td>\n",
       "      <td>0</td>\n",
       "      <td>aaron_cresswell</td>\n",
       "      <td>West Ham United</td>\n",
       "      <td>0</td>\n",
       "      <td>0</td>\n",
       "      <td>2016-17</td>\n",
       "      <td>1</td>\n",
       "      <td>0</td>\n",
       "      <td>0</td>\n",
       "      <td>0</td>\n",
       "      <td>Manchester City</td>\n",
       "      <td>0</td>\n",
       "      <td>1</td>\n",
       "      <td>0</td>\n",
       "      <td>0</td>\n",
       "      <td>1</td>\n",
       "      <td>0</td>\n",
       "      <td>0</td>\n",
       "      <td>0</td>\n",
       "      <td>0</td>\n",
       "      <td>0</td>\n",
       "      <td>0</td>\n",
       "      <td>0</td>\n",
       "      <td>0</td>\n",
       "      <td>0</td>\n",
       "      <td>1</td>\n",
       "      <td>5.4</td>\n",
       "      <td>1.0</td>\n",
       "      <td>0.0</td>\n",
       "      <td>0.0</td>\n",
       "      <td>0.0</td>\n",
       "      <td>1.0</td>\n",
       "      <td>0.0</td>\n",
       "      <td>0.0</td>\n",
       "      <td>0.0</td>\n",
       "      <td>0.0</td>\n",
       "      <td>0.0</td>\n",
       "      <td>0.0</td>\n",
       "      <td>0.0</td>\n",
       "      <td>0.0</td>\n",
       "      <td>0.0</td>\n",
       "      <td>0.0</td>\n",
       "    </tr>\n",
       "    <tr>\n",
       "      <th>3</th>\n",
       "      <td>0</td>\n",
       "      <td>0</td>\n",
       "      <td>0</td>\n",
       "      <td>0</td>\n",
       "      <td>0.0</td>\n",
       "      <td>0</td>\n",
       "      <td>0</td>\n",
       "      <td>0.0</td>\n",
       "      <td>0.0</td>\n",
       "      <td>0</td>\n",
       "      <td>0</td>\n",
       "      <td>0</td>\n",
       "      <td>0</td>\n",
       "      <td>0</td>\n",
       "      <td>4</td>\n",
       "      <td>0</td>\n",
       "      <td>8427</td>\n",
       "      <td>4</td>\n",
       "      <td>2</td>\n",
       "      <td>0.0</td>\n",
       "      <td>0</td>\n",
       "      <td>-1221</td>\n",
       "      <td>45</td>\n",
       "      <td>1266</td>\n",
       "      <td>5.4</td>\n",
       "      <td>True</td>\n",
       "      <td>0</td>\n",
       "      <td>aaron_cresswell</td>\n",
       "      <td>West Ham United</td>\n",
       "      <td>0</td>\n",
       "      <td>0</td>\n",
       "      <td>2016-17</td>\n",
       "      <td>1</td>\n",
       "      <td>0</td>\n",
       "      <td>0</td>\n",
       "      <td>0</td>\n",
       "      <td>Watford</td>\n",
       "      <td>0</td>\n",
       "      <td>0</td>\n",
       "      <td>0</td>\n",
       "      <td>0</td>\n",
       "      <td>0</td>\n",
       "      <td>1</td>\n",
       "      <td>0</td>\n",
       "      <td>0</td>\n",
       "      <td>0</td>\n",
       "      <td>0</td>\n",
       "      <td>0</td>\n",
       "      <td>0</td>\n",
       "      <td>0</td>\n",
       "      <td>0</td>\n",
       "      <td>1</td>\n",
       "      <td>5.4</td>\n",
       "      <td>0.0</td>\n",
       "      <td>0.0</td>\n",
       "      <td>0.0</td>\n",
       "      <td>0.0</td>\n",
       "      <td>1.0</td>\n",
       "      <td>0.0</td>\n",
       "      <td>0.0</td>\n",
       "      <td>0.0</td>\n",
       "      <td>0.0</td>\n",
       "      <td>0.0</td>\n",
       "      <td>0.0</td>\n",
       "      <td>0.0</td>\n",
       "      <td>0.0</td>\n",
       "      <td>0.0</td>\n",
       "      <td>0.0</td>\n",
       "    </tr>\n",
       "    <tr>\n",
       "      <th>4</th>\n",
       "      <td>0</td>\n",
       "      <td>0</td>\n",
       "      <td>0</td>\n",
       "      <td>0</td>\n",
       "      <td>0.0</td>\n",
       "      <td>0</td>\n",
       "      <td>0</td>\n",
       "      <td>0.0</td>\n",
       "      <td>0.0</td>\n",
       "      <td>0</td>\n",
       "      <td>0</td>\n",
       "      <td>0</td>\n",
       "      <td>0</td>\n",
       "      <td>0</td>\n",
       "      <td>5</td>\n",
       "      <td>0</td>\n",
       "      <td>7933</td>\n",
       "      <td>2</td>\n",
       "      <td>4</td>\n",
       "      <td>0.0</td>\n",
       "      <td>0</td>\n",
       "      <td>-520</td>\n",
       "      <td>29</td>\n",
       "      <td>549</td>\n",
       "      <td>5.4</td>\n",
       "      <td>False</td>\n",
       "      <td>0</td>\n",
       "      <td>aaron_cresswell</td>\n",
       "      <td>West Ham United</td>\n",
       "      <td>0</td>\n",
       "      <td>0</td>\n",
       "      <td>2016-17</td>\n",
       "      <td>1</td>\n",
       "      <td>0</td>\n",
       "      <td>0</td>\n",
       "      <td>0</td>\n",
       "      <td>West Bromwich Albion</td>\n",
       "      <td>0</td>\n",
       "      <td>0</td>\n",
       "      <td>0</td>\n",
       "      <td>0</td>\n",
       "      <td>0</td>\n",
       "      <td>1</td>\n",
       "      <td>0</td>\n",
       "      <td>0</td>\n",
       "      <td>0</td>\n",
       "      <td>0</td>\n",
       "      <td>0</td>\n",
       "      <td>0</td>\n",
       "      <td>0</td>\n",
       "      <td>0</td>\n",
       "      <td>1</td>\n",
       "      <td>5.4</td>\n",
       "      <td>1.0</td>\n",
       "      <td>0.0</td>\n",
       "      <td>1.0</td>\n",
       "      <td>0.0</td>\n",
       "      <td>1.0</td>\n",
       "      <td>0.0</td>\n",
       "      <td>0.0</td>\n",
       "      <td>0.0</td>\n",
       "      <td>0.0</td>\n",
       "      <td>0.0</td>\n",
       "      <td>0.0</td>\n",
       "      <td>0.0</td>\n",
       "      <td>0.0</td>\n",
       "      <td>0.0</td>\n",
       "      <td>0.0</td>\n",
       "    </tr>\n",
       "  </tbody>\n",
       "</table>\n",
       "</div>"
      ],
      "text/plain": [
       "   assists  bonus  bps  clean_sheets  creativity  goals_conceded  \\\n",
       "0        0      0    0             0         0.0               0   \n",
       "1        0      0    0             0         0.0               0   \n",
       "2        0      0    0             0         0.0               0   \n",
       "3        0      0    0             0         0.0               0   \n",
       "4        0      0    0             0         0.0               0   \n",
       "\n",
       "   goals_scored  ict_index  influence  minutes  own_goals  penalties_missed  \\\n",
       "0             0        0.0        0.0        0          0                 0   \n",
       "1             0        0.0        0.0        0          0                 0   \n",
       "2             0        0.0        0.0        0          0                 0   \n",
       "3             0        0.0        0.0        0          0                 0   \n",
       "4             0        0.0        0.0        0          0                 0   \n",
       "\n",
       "   penalties_saved  red_cards  gw  saves  selected  team_a_score  \\\n",
       "0                0          0   1      0     14023             1   \n",
       "1                0          0   2      0     11531             0   \n",
       "2                0          0   3      0      9587             1   \n",
       "3                0          0   4      0      8427             4   \n",
       "4                0          0   5      0      7933             2   \n",
       "\n",
       "   team_h_score  threat  total_points  transfers_balance  transfers_in  \\\n",
       "0             2     0.0             0                  0             0   \n",
       "1             1     0.0             0              -3002            79   \n",
       "2             3     0.0             0              -2053            28   \n",
       "3             2     0.0             0              -1221            45   \n",
       "4             4     0.0             0               -520            29   \n",
       "\n",
       "   transfers_out  value  was_home  yellow_cards             name  \\\n",
       "0              0    5.5     False             0  aaron_cresswell   \n",
       "1           3081    5.5      True             0  aaron_cresswell   \n",
       "2           2081    5.4     False             0  aaron_cresswell   \n",
       "3           1266    5.4      True             0  aaron_cresswell   \n",
       "4            549    5.4     False             0  aaron_cresswell   \n",
       "\n",
       "         team_name  promoted_side  top_6_last_season   season  position_DEF  \\\n",
       "0  West Ham United              0                  0  2016-17             1   \n",
       "1  West Ham United              0                  0  2016-17             1   \n",
       "2  West Ham United              0                  0  2016-17             1   \n",
       "3  West Ham United              0                  0  2016-17             1   \n",
       "4  West Ham United              0                  0  2016-17             1   \n",
       "\n",
       "   position_FWD  position_GK  position_MID    team_name_opponent  \\\n",
       "0             0            0             0               Chelsea   \n",
       "1             0            0             0           Bournemouth   \n",
       "2             0            0             0       Manchester City   \n",
       "3             0            0             0               Watford   \n",
       "4             0            0             0  West Bromwich Albion   \n",
       "\n",
       "   promoted_side_opponent  top_6_last_season_opponent  late_kickoff  \\\n",
       "0                       0                           0             1   \n",
       "1                       0                           0             0   \n",
       "2                       0                           1             0   \n",
       "3                       0                           0             0   \n",
       "4                       0                           0             0   \n",
       "\n",
       "   early_kickoff  kickoff_month_Aug  kickoff_month_Sep  kickoff_month_Oct  \\\n",
       "0              0                  1                  0                  0   \n",
       "1              0                  1                  0                  0   \n",
       "2              0                  1                  0                  0   \n",
       "3              0                  0                  1                  0   \n",
       "4              0                  0                  1                  0   \n",
       "\n",
       "   kickoff_month_Nov  kickoff_month_Dec  kickoff_month_Jan  kickoff_month_Feb  \\\n",
       "0                  0                  0                  0                  0   \n",
       "1                  0                  0                  0                  0   \n",
       "2                  0                  0                  0                  0   \n",
       "3                  0                  0                  0                  0   \n",
       "4                  0                  0                  0                  0   \n",
       "\n",
       "   kickoff_month_Mar  kickoff_month_Apr  kickoff_month_May  season_order  \\\n",
       "0                  0                  0                  0             1   \n",
       "1                  0                  0                  0             1   \n",
       "2                  0                  0                  0             1   \n",
       "3                  0                  0                  0             1   \n",
       "4                  0                  0                  0             1   \n",
       "\n",
       "   next_match_value  next_match_was_home  next_match_promoted_side_opponent  \\\n",
       "0               5.5                  1.0                                0.0   \n",
       "1               5.4                  0.0                                0.0   \n",
       "2               5.4                  1.0                                0.0   \n",
       "3               5.4                  0.0                                0.0   \n",
       "4               5.4                  1.0                                0.0   \n",
       "\n",
       "   next_match_top_6_last_season_opponent  next_match_kickoff_month_Aug  \\\n",
       "0                                    0.0                           1.0   \n",
       "1                                    1.0                           1.0   \n",
       "2                                    0.0                           0.0   \n",
       "3                                    0.0                           0.0   \n",
       "4                                    1.0                           0.0   \n",
       "\n",
       "   next_match_kickoff_month_Sep  next_match_kickoff_month_Oct  \\\n",
       "0                           0.0                           0.0   \n",
       "1                           0.0                           0.0   \n",
       "2                           1.0                           0.0   \n",
       "3                           1.0                           0.0   \n",
       "4                           1.0                           0.0   \n",
       "\n",
       "   next_match_kickoff_month_Nov  next_match_kickoff_month_Dec  \\\n",
       "0                           0.0                           0.0   \n",
       "1                           0.0                           0.0   \n",
       "2                           0.0                           0.0   \n",
       "3                           0.0                           0.0   \n",
       "4                           0.0                           0.0   \n",
       "\n",
       "   next_match_kickoff_month_Jan  next_match_kickoff_month_Feb  \\\n",
       "0                           0.0                           0.0   \n",
       "1                           0.0                           0.0   \n",
       "2                           0.0                           0.0   \n",
       "3                           0.0                           0.0   \n",
       "4                           0.0                           0.0   \n",
       "\n",
       "   next_match_kickoff_month_Mar  next_match_kickoff_month_Apr  \\\n",
       "0                           0.0                           0.0   \n",
       "1                           0.0                           0.0   \n",
       "2                           0.0                           0.0   \n",
       "3                           0.0                           0.0   \n",
       "4                           0.0                           0.0   \n",
       "\n",
       "   next_match_kickoff_month_May  next_match_late_kickoff  \\\n",
       "0                           0.0                      0.0   \n",
       "1                           0.0                      0.0   \n",
       "2                           0.0                      0.0   \n",
       "3                           0.0                      0.0   \n",
       "4                           0.0                      0.0   \n",
       "\n",
       "   next_match_early_kickoff  \n",
       "0                       0.0  \n",
       "1                       0.0  \n",
       "2                       0.0  \n",
       "3                       0.0  \n",
       "4                       0.0  "
      ]
     },
     "execution_count": 8,
     "metadata": {},
     "output_type": "execute_result"
    }
   ],
   "source": [
    "print(all_data.shape)\n",
    "all_data.head()"
   ]
  },
  {
   "cell_type": "code",
   "execution_count": 9,
   "metadata": {},
   "outputs": [
    {
     "data": {
      "text/plain": [
       "array(['2016-17', '2017-18', '2018-19'], dtype=object)"
      ]
     },
     "execution_count": 9,
     "metadata": {},
     "output_type": "execute_result"
    }
   ],
   "source": [
    "all_data['season'].unique()"
   ]
  },
  {
   "cell_type": "markdown",
   "metadata": {},
   "source": [
    "### Create target"
   ]
  },
  {
   "cell_type": "code",
   "execution_count": 10,
   "metadata": {},
   "outputs": [],
   "source": [
    "all_data['total_points_plus1_gw'] = all_data.groupby(['name'])['total_points'].shift(-1)\n",
    "all_data = all_data[~all_data['total_points_plus1_gw'].isnull()]  # drop nulls (last gw)"
   ]
  },
  {
   "cell_type": "markdown",
   "metadata": {},
   "source": [
    "### Train/dev/test split"
   ]
  },
  {
   "cell_type": "markdown",
   "metadata": {},
   "source": [
    "We now added a random_state parameter to `custom_train_test_split` to ensure consistent training sets"
   ]
  },
  {
   "cell_type": "code",
   "execution_count": 11,
   "metadata": {},
   "outputs": [
    {
     "name": "stdout",
     "output_type": "stream",
     "text": [
      "Proportion in test set: 0.09869880673982132\n",
      "Test set size: (6584, 70)\n",
      "Training set size: (60124, 70)\n"
     ]
    },
    {
     "name": "stderr",
     "output_type": "stream",
     "text": [
      "/Users/stevengeorge/opt/anaconda3/envs/fpl-analysis/lib/python3.7/site-packages/pandas/core/frame.py:3997: SettingWithCopyWarning: \n",
      "A value is trying to be set on a copy of a slice from a DataFrame\n",
      "\n",
      "See the caveats in the documentation: https://pandas.pydata.org/pandas-docs/stable/user_guide/indexing.html#returning-a-view-versus-a-copy\n",
      "  errors=errors,\n"
     ]
    }
   ],
   "source": [
    "training_df, test_df = custom_train_test_split(all_data, random_state=RANDOM_SEED, rand_sample_prop=0.0027)"
   ]
  },
  {
   "cell_type": "code",
   "execution_count": 12,
   "metadata": {},
   "outputs": [
    {
     "name": "stdout",
     "output_type": "stream",
     "text": [
      "Proportion in test set: 0.10238839731222141\n",
      "Test set size: (6156, 70)\n",
      "Training set size: (53968, 70)\n"
     ]
    }
   ],
   "source": [
    "training_df, dev_df = custom_train_test_split(training_df, random_state=RANDOM_SEED, rand_sample_prop=0.003)"
   ]
  },
  {
   "cell_type": "code",
   "execution_count": 13,
   "metadata": {},
   "outputs": [
    {
     "name": "stdout",
     "output_type": "stream",
     "text": [
      "Proportion training: 0.8090184085866763\n",
      "Proportion dev: 0.09228278467350243\n",
      "Proportion test: 0.09869880673982132\n"
     ]
    }
   ],
   "source": [
    "print(f\"Proportion training: {training_df.shape[0]/all_data.shape[0]}\")\n",
    "print(f\"Proportion dev: {dev_df.shape[0]/all_data.shape[0]}\")\n",
    "print(f\"Proportion test: {test_df.shape[0]/all_data.shape[0]}\")"
   ]
  },
  {
   "cell_type": "markdown",
   "metadata": {},
   "source": [
    "We now get a close 80/10/10 split"
   ]
  },
  {
   "cell_type": "code",
   "execution_count": 14,
   "metadata": {},
   "outputs": [],
   "source": [
    "mms = _load_model_from_pickle('src/models/pickles/min_max_scalar_lstm_v4.pickle')\n",
    "COLUMNS_TO_SCALE = _load_model_from_pickle('src/models/pickles/min_max_scalar_columns_v4.pickle')"
   ]
  },
  {
   "cell_type": "markdown",
   "metadata": {},
   "source": [
    "### Filter out ineligible players"
   ]
  },
  {
   "cell_type": "code",
   "execution_count": 15,
   "metadata": {},
   "outputs": [],
   "source": [
    "N_STEPS_IN = 5\n",
    "N_STEPS_OUT = 5"
   ]
  },
  {
   "cell_type": "code",
   "execution_count": 16,
   "metadata": {},
   "outputs": [],
   "source": [
    "def filter_eligible_players(training_subset_df):\n",
    "    training_subset_df['total_number_of_gameweeks'] = training_subset_df.groupby(['name']).transform('count')['team_name']\n",
    "    training_subset_df = training_subset_df[training_subset_df['total_number_of_gameweeks'] >= (N_STEPS_IN + N_STEPS_OUT - 1)]\n",
    "    training_subset_df.drop('total_number_of_gameweeks', axis=1, inplace=True)\n",
    "    \n",
    "    return training_subset_df"
   ]
  },
  {
   "cell_type": "code",
   "execution_count": 17,
   "metadata": {},
   "outputs": [],
   "source": [
    "training_df = filter_eligible_players(training_df)\n",
    "dev_df = filter_eligible_players(dev_df)\n",
    "test_df = filter_eligible_players(test_df)"
   ]
  },
  {
   "cell_type": "code",
   "execution_count": 18,
   "metadata": {},
   "outputs": [],
   "source": [
    "def prepare_data_for_lstm(df):\n",
    "    df = df.copy()    \n",
    "    df[COLUMNS_TO_SCALE] = mms.transform(df[COLUMNS_TO_SCALE])\n",
    "\n",
    "    X_list = []\n",
    "    y_list = []\n",
    "\n",
    "    for player in list(df['name'].unique()):\n",
    "        player_df = df[df['name'] == player]\n",
    "        player_df.drop(\n",
    "            COLUMNS_TO_DROP_FOR_TRAINING,\n",
    "            axis=1,\n",
    "            inplace=True\n",
    "        )\n",
    "        X_player, y_player = split_sequences(\n",
    "            df=player_df,\n",
    "            target_column='total_points_plus1_gw',\n",
    "            n_steps_in=N_STEPS_IN,\n",
    "            n_steps_out=N_STEPS_OUT\n",
    "        )\n",
    "        X_list.append(X_player)\n",
    "        y_list.append(y_player)\n",
    "\n",
    "    X = np.concatenate(X_list, axis=0)\n",
    "    y = np.concatenate(y_list, axis=0)\n",
    "    print(X.shape)\n",
    "    print(y.shape)\n",
    "    \n",
    "    return X, y"
   ]
  },
  {
   "cell_type": "code",
   "execution_count": 19,
   "metadata": {},
   "outputs": [
    {
     "name": "stderr",
     "output_type": "stream",
     "text": [
      "/Users/stevengeorge/opt/anaconda3/envs/fpl-analysis/lib/python3.7/site-packages/pandas/core/frame.py:3997: SettingWithCopyWarning: \n",
      "A value is trying to be set on a copy of a slice from a DataFrame\n",
      "\n",
      "See the caveats in the documentation: https://pandas.pydata.org/pandas-docs/stable/user_guide/indexing.html#returning-a-view-versus-a-copy\n",
      "  errors=errors,\n"
     ]
    },
    {
     "name": "stdout",
     "output_type": "stream",
     "text": [
      "(45691, 5, 63)\n",
      "(45691, 5)\n"
     ]
    },
    {
     "name": "stderr",
     "output_type": "stream",
     "text": [
      "/Users/stevengeorge/opt/anaconda3/envs/fpl-analysis/lib/python3.7/site-packages/pandas/core/frame.py:3997: SettingWithCopyWarning: \n",
      "A value is trying to be set on a copy of a slice from a DataFrame\n",
      "\n",
      "See the caveats in the documentation: https://pandas.pydata.org/pandas-docs/stable/user_guide/indexing.html#returning-a-view-versus-a-copy\n",
      "  errors=errors,\n"
     ]
    },
    {
     "name": "stdout",
     "output_type": "stream",
     "text": [
      "(4995, 5, 63)\n",
      "(4995, 5)\n"
     ]
    },
    {
     "name": "stderr",
     "output_type": "stream",
     "text": [
      "/Users/stevengeorge/opt/anaconda3/envs/fpl-analysis/lib/python3.7/site-packages/pandas/core/frame.py:3997: SettingWithCopyWarning: \n",
      "A value is trying to be set on a copy of a slice from a DataFrame\n",
      "\n",
      "See the caveats in the documentation: https://pandas.pydata.org/pandas-docs/stable/user_guide/indexing.html#returning-a-view-versus-a-copy\n",
      "  errors=errors,\n"
     ]
    },
    {
     "name": "stdout",
     "output_type": "stream",
     "text": [
      "(5355, 5, 63)\n",
      "(5355, 5)\n"
     ]
    }
   ],
   "source": [
    "X_train, y_train = prepare_data_for_lstm(training_df)\n",
    "X_dev, y_dev = prepare_data_for_lstm(dev_df)\n",
    "X_test, y_test = prepare_data_for_lstm(test_df)"
   ]
  },
  {
   "cell_type": "markdown",
   "metadata": {},
   "source": [
    "## LSTM model\n",
    "\n",
    "Load best model architecture"
   ]
  },
  {
   "cell_type": "code",
   "execution_count": 20,
   "metadata": {},
   "outputs": [],
   "source": [
    "from src.models.LSTM.bayes_hyperparameter_search import create_model"
   ]
  },
  {
   "cell_type": "code",
   "execution_count": 21,
   "metadata": {},
   "outputs": [],
   "source": [
    "colab_trials_dict = pickle.load(open('src/models/pickles/colab_trials_dict.pickle', 'rb'))"
   ]
  },
  {
   "cell_type": "code",
   "execution_count": 22,
   "metadata": {},
   "outputs": [
    {
     "data": {
      "text/plain": [
       "dict_keys(['bayes_trials', 'best'])"
      ]
     },
     "execution_count": 22,
     "metadata": {},
     "output_type": "execute_result"
    }
   ],
   "source": [
    "colab_trials_dict.keys()"
   ]
  },
  {
   "cell_type": "code",
   "execution_count": 23,
   "metadata": {},
   "outputs": [],
   "source": [
    "bayes_trials = colab_trials_dict['bayes_trials']\n",
    "best = colab_trials_dict['best']"
   ]
  },
  {
   "cell_type": "code",
   "execution_count": 24,
   "metadata": {},
   "outputs": [
    {
     "data": {
      "text/plain": [
       "{'batch_size': 527.0,\n",
       " 'dense_dropout': 0.46,\n",
       " 'dense_units': 25.0,\n",
       " 'learning_rate': 0.0010974169408205815,\n",
       " 'lstm_dropout': 0.02,\n",
       " 'lstm_output_dropout': 0.03,\n",
       " 'lstm_recurrent_dropout': 0.5,\n",
       " 'lstm_units': 15.0,\n",
       " 'n_dense_layers': 0.0,\n",
       " 'n_lstm_layers': 1.0}"
      ]
     },
     "execution_count": 24,
     "metadata": {},
     "output_type": "execute_result"
    }
   ],
   "source": [
    "best"
   ]
  },
  {
   "cell_type": "code",
   "execution_count": 25,
   "metadata": {},
   "outputs": [],
   "source": [
    "hyperparams = best.copy()"
   ]
  },
  {
   "cell_type": "code",
   "execution_count": 26,
   "metadata": {},
   "outputs": [],
   "source": [
    "fitting_params = {}\n",
    "fitting_params['learning_rate'] = hyperparams['learning_rate']\n",
    "fitting_params['batch_size'] = hyperparams['batch_size']\n",
    "\n",
    "del hyperparams['learning_rate'], hyperparams['batch_size']"
   ]
  },
  {
   "cell_type": "code",
   "execution_count": 27,
   "metadata": {},
   "outputs": [
    {
     "data": {
      "text/plain": [
       "{'dense_dropout': 0.46,\n",
       " 'dense_units': 25.0,\n",
       " 'lstm_dropout': 0.02,\n",
       " 'lstm_output_dropout': 0.03,\n",
       " 'lstm_recurrent_dropout': 0.5,\n",
       " 'lstm_units': 15.0,\n",
       " 'n_dense_layers': 0.0,\n",
       " 'n_lstm_layers': 1.0}"
      ]
     },
     "execution_count": 27,
     "metadata": {},
     "output_type": "execute_result"
    }
   ],
   "source": [
    "hyperparams"
   ]
  },
  {
   "cell_type": "code",
   "execution_count": 28,
   "metadata": {},
   "outputs": [
    {
     "data": {
      "text/plain": [
       "{'learning_rate': 0.0010974169408205815, 'batch_size': 527.0}"
      ]
     },
     "execution_count": 28,
     "metadata": {},
     "output_type": "execute_result"
    }
   ],
   "source": [
    "fitting_params"
   ]
  },
  {
   "cell_type": "code",
   "execution_count": 29,
   "metadata": {},
   "outputs": [],
   "source": [
    "fitting_params['batch_size'] = int(fitting_params['batch_size'])"
   ]
  },
  {
   "cell_type": "code",
   "execution_count": 30,
   "metadata": {},
   "outputs": [],
   "source": [
    "INTEGER_PARAMS = ['n_lstm_layers', 'lstm_units', 'n_dense_layers', 'dense_units', 'batch_size']\n",
    "\n",
    "for hyper in INTEGER_PARAMS:\n",
    "    try:\n",
    "        as_int = int(hyperparams[hyper])\n",
    "        hyperparams[hyper] = as_int\n",
    "    except:\n",
    "        continue"
   ]
  },
  {
   "cell_type": "code",
   "execution_count": 35,
   "metadata": {},
   "outputs": [],
   "source": [
    "colab_model = create_model(n_steps_in=N_STEPS_IN, n_steps_out=N_STEPS_OUT, n_features=63, **hyperparams)"
   ]
  },
  {
   "cell_type": "code",
   "execution_count": 36,
   "metadata": {},
   "outputs": [
    {
     "name": "stdout",
     "output_type": "stream",
     "text": [
      "Model: \"lstm_model\"\n",
      "_________________________________________________________________\n",
      "Layer (type)                 Output Shape              Param #   \n",
      "=================================================================\n",
      "lstm_layer_1 (LSTM)          (None, 15)                4740      \n",
      "_________________________________________________________________\n",
      "lstm_layer_1_dropout (Dropou (None, 15)                0         \n",
      "_________________________________________________________________\n",
      "dense_output (Dense)         (None, 5)                 80        \n",
      "=================================================================\n",
      "Total params: 4,820\n",
      "Trainable params: 4,820\n",
      "Non-trainable params: 0\n",
      "_________________________________________________________________\n"
     ]
    }
   ],
   "source": [
    "colab_model.summary()"
   ]
  },
  {
   "cell_type": "code",
   "execution_count": 37,
   "metadata": {},
   "outputs": [],
   "source": [
    "# Compile model\n",
    "optimizer = optimizers.Adam(learning_rate=fitting_params['learning_rate'])\n",
    "colab_model.compile(loss='mse', optimizer=optimizer)"
   ]
  },
  {
   "cell_type": "code",
   "execution_count": 38,
   "metadata": {},
   "outputs": [
    {
     "name": "stdout",
     "output_type": "stream",
     "text": [
      "Train on 45691 samples, validate on 4995 samples\n",
      "Epoch 1/30\n",
      "45691/45691 [==============================] - 2s 36us/step - loss: 6.6444 - val_loss: 7.6192\n",
      "Epoch 2/30\n",
      "45691/45691 [==============================] - 1s 26us/step - loss: 5.2712 - val_loss: 6.8170\n",
      "Epoch 3/30\n",
      "45691/45691 [==============================] - 1s 25us/step - loss: 4.9930 - val_loss: 6.6655\n",
      "Epoch 4/30\n",
      "45691/45691 [==============================] - 1s 25us/step - loss: 4.9025 - val_loss: 6.5936\n",
      "Epoch 5/30\n",
      "45691/45691 [==============================] - 1s 25us/step - loss: 4.8612 - val_loss: 6.5515\n",
      "Epoch 6/30\n",
      "45691/45691 [==============================] - 1s 25us/step - loss: 4.8338 - val_loss: 6.5177\n",
      "Epoch 7/30\n",
      "45691/45691 [==============================] - 1s 26us/step - loss: 4.8129 - val_loss: 6.5045\n",
      "Epoch 8/30\n",
      "45691/45691 [==============================] - 1s 25us/step - loss: 4.8047 - val_loss: 6.4894\n",
      "Epoch 9/30\n",
      "45691/45691 [==============================] - 1s 25us/step - loss: 4.8014 - val_loss: 6.4841\n",
      "Epoch 10/30\n",
      "45691/45691 [==============================] - 1s 25us/step - loss: 4.7882 - val_loss: 6.4766\n",
      "Epoch 11/30\n",
      "45691/45691 [==============================] - 1s 25us/step - loss: 4.7824 - val_loss: 6.4680\n",
      "Epoch 12/30\n",
      "45691/45691 [==============================] - 1s 25us/step - loss: 4.7736 - val_loss: 6.4624\n",
      "Epoch 13/30\n",
      "45691/45691 [==============================] - 1s 25us/step - loss: 4.7679 - val_loss: 6.4619\n",
      "Epoch 14/30\n",
      "45691/45691 [==============================] - 1s 25us/step - loss: 4.7628 - val_loss: 6.4541\n",
      "Epoch 15/30\n",
      "45691/45691 [==============================] - 1s 25us/step - loss: 4.7610 - val_loss: 6.4570\n",
      "Epoch 16/30\n",
      "45691/45691 [==============================] - 1s 25us/step - loss: 4.7547 - val_loss: 6.4502\n",
      "Epoch 17/30\n",
      "45691/45691 [==============================] - 1s 25us/step - loss: 4.7486 - val_loss: 6.4418\n",
      "Epoch 18/30\n",
      "45691/45691 [==============================] - 1s 25us/step - loss: 4.7437 - val_loss: 6.4432\n",
      "Epoch 19/30\n",
      "45691/45691 [==============================] - 1s 25us/step - loss: 4.7425 - val_loss: 6.4425\n",
      "Epoch 20/30\n",
      "45691/45691 [==============================] - 1s 25us/step - loss: 4.7371 - val_loss: 6.4385\n",
      "Epoch 21/30\n",
      "45691/45691 [==============================] - 1s 25us/step - loss: 4.7338 - val_loss: 6.4428\n",
      "Epoch 22/30\n",
      "45691/45691 [==============================] - 1s 25us/step - loss: 4.7330 - val_loss: 6.4326\n",
      "Epoch 23/30\n",
      "45691/45691 [==============================] - 1s 25us/step - loss: 4.7288 - val_loss: 6.4329\n",
      "Epoch 24/30\n",
      "45691/45691 [==============================] - 1s 25us/step - loss: 4.7226 - val_loss: 6.4290\n",
      "Epoch 25/30\n",
      "45691/45691 [==============================] - 1s 25us/step - loss: 4.7198 - val_loss: 6.4287\n",
      "Epoch 26/30\n",
      "45691/45691 [==============================] - 1s 25us/step - loss: 4.7193 - val_loss: 6.4261\n",
      "Epoch 27/30\n",
      "45691/45691 [==============================] - 1s 25us/step - loss: 4.7103 - val_loss: 6.4275\n",
      "Epoch 28/30\n",
      "45691/45691 [==============================] - 1s 25us/step - loss: 4.7090 - val_loss: 6.4261\n",
      "Epoch 29/30\n",
      "45691/45691 [==============================] - 1s 25us/step - loss: 4.7090 - val_loss: 6.4340\n",
      "Epoch 30/30\n",
      "45691/45691 [==============================] - 1s 25us/step - loss: 4.7081 - val_loss: 6.4295\n"
     ]
    },
    {
     "data": {
      "text/plain": [
       "<keras.callbacks.callbacks.History at 0x7fa3a39e88d0>"
      ]
     },
     "execution_count": 38,
     "metadata": {},
     "output_type": "execute_result"
    }
   ],
   "source": [
    "# Fit model\n",
    "colab_model.fit(X_train, y_train, batch_size=fitting_params['batch_size'], epochs=30, validation_data=(X_dev, y_dev))"
   ]
  },
  {
   "cell_type": "code",
   "execution_count": 39,
   "metadata": {},
   "outputs": [
    {
     "data": {
      "text/plain": [
       "(4995, 5)"
      ]
     },
     "execution_count": 39,
     "metadata": {},
     "output_type": "execute_result"
    }
   ],
   "source": [
    "prediction_lstm = colab_model.predict(X_dev)\n",
    "prediction_lstm.shape"
   ]
  },
  {
   "cell_type": "code",
   "execution_count": 40,
   "metadata": {},
   "outputs": [
    {
     "data": {
      "text/plain": [
       "array([[ 0.0641978 ],\n",
       "       [-0.05815956],\n",
       "       [ 0.00838789],\n",
       "       ...,\n",
       "       [ 1.1740205 ],\n",
       "       [ 0.2239496 ],\n",
       "       [ 0.36354005]], dtype=float32)"
      ]
     },
     "execution_count": 40,
     "metadata": {},
     "output_type": "execute_result"
    }
   ],
   "source": [
    "prediction_lstm[:, :1]"
   ]
  },
  {
   "cell_type": "code",
   "execution_count": 41,
   "metadata": {},
   "outputs": [
    {
     "data": {
      "text/plain": [
       "array([[0.0],\n",
       "       [0.0],\n",
       "       [0.0],\n",
       "       ...,\n",
       "       [0.0],\n",
       "       [0.0],\n",
       "       [0.0]], dtype=object)"
      ]
     },
     "execution_count": 41,
     "metadata": {},
     "output_type": "execute_result"
    }
   ],
   "source": [
    "y_dev[:, :1]"
   ]
  },
  {
   "cell_type": "code",
   "execution_count": 42,
   "metadata": {},
   "outputs": [
    {
     "data": {
      "text/plain": [
       "6.064538493140892"
      ]
     },
     "execution_count": 42,
     "metadata": {},
     "output_type": "execute_result"
    }
   ],
   "source": [
    "mean_squared_error(y_dev[:, :1], prediction_lstm[:, :1])"
   ]
  },
  {
   "cell_type": "markdown",
   "metadata": {},
   "source": [
    "## LGBM"
   ]
  },
  {
   "cell_type": "markdown",
   "metadata": {},
   "source": [
    "Train a lightgbm regressor using the features from a single gamewek to predict the next"
   ]
  },
  {
   "cell_type": "code",
   "execution_count": 65,
   "metadata": {},
   "outputs": [],
   "source": [
    "X_train_lgbm = np.squeeze(X_train[:,:1,:], axis=1)\n",
    "y_train_lgbm = np.squeeze(y_train[:,:1], axis=1)\n",
    "X_dev_lgbm = np.squeeze(X_dev[:,:1,:], axis=1)"
   ]
  },
  {
   "cell_type": "code",
   "execution_count": 66,
   "metadata": {},
   "outputs": [
    {
     "data": {
      "text/plain": [
       "(45691, 63)"
      ]
     },
     "execution_count": 66,
     "metadata": {},
     "output_type": "execute_result"
    }
   ],
   "source": [
    "X_train_lgbm.shape"
   ]
  },
  {
   "cell_type": "code",
   "execution_count": 67,
   "metadata": {},
   "outputs": [
    {
     "data": {
      "text/plain": [
       "(45691,)"
      ]
     },
     "execution_count": 67,
     "metadata": {},
     "output_type": "execute_result"
    }
   ],
   "source": [
    "y_train_lgbm.shape"
   ]
  },
  {
   "cell_type": "code",
   "execution_count": 68,
   "metadata": {},
   "outputs": [],
   "source": [
    "import lightgbm"
   ]
  },
  {
   "cell_type": "code",
   "execution_count": 69,
   "metadata": {},
   "outputs": [],
   "source": [
    "lgbm_model = lightgbm.LGBMRegressor()"
   ]
  },
  {
   "cell_type": "code",
   "execution_count": 70,
   "metadata": {},
   "outputs": [
    {
     "data": {
      "text/plain": [
       "LGBMRegressor(boosting_type='gbdt', class_weight=None, colsample_bytree=1.0,\n",
       "              importance_type='split', learning_rate=0.1, max_depth=-1,\n",
       "              min_child_samples=20, min_child_weight=0.001, min_split_gain=0.0,\n",
       "              n_estimators=100, n_jobs=-1, num_leaves=31, objective=None,\n",
       "              random_state=None, reg_alpha=0.0, reg_lambda=0.0, silent=True,\n",
       "              subsample=1.0, subsample_for_bin=200000, subsample_freq=0)"
      ]
     },
     "execution_count": 70,
     "metadata": {},
     "output_type": "execute_result"
    }
   ],
   "source": [
    "lgbm_model.fit(X_train_lgbm, y_train_lgbm)"
   ]
  },
  {
   "cell_type": "code",
   "execution_count": 71,
   "metadata": {},
   "outputs": [],
   "source": [
    "predictions_lgbm = lgbm_model.predict(X_dev_lgbm)"
   ]
  },
  {
   "cell_type": "code",
   "execution_count": 73,
   "metadata": {},
   "outputs": [
    {
     "data": {
      "text/plain": [
       "6.871341565786178"
      ]
     },
     "execution_count": 73,
     "metadata": {},
     "output_type": "execute_result"
    }
   ],
   "source": [
    "mean_squared_error(y_dev[:, :1], predictions_lgbm)"
   ]
  },
  {
   "cell_type": "code",
   "execution_count": 74,
   "metadata": {},
   "outputs": [
    {
     "data": {
      "text/plain": [
       "4.182833664146814"
      ]
     },
     "execution_count": 74,
     "metadata": {},
     "output_type": "execute_result"
    }
   ],
   "source": [
    "mean_squared_error(y_train[:, :1], lgbm_model.predict(X_train_lgbm))"
   ]
  },
  {
   "cell_type": "code",
   "execution_count": 77,
   "metadata": {},
   "outputs": [
    {
     "data": {
      "text/plain": [
       "4.378458847686254"
      ]
     },
     "execution_count": 77,
     "metadata": {},
     "output_type": "execute_result"
    }
   ],
   "source": [
    "mean_squared_error(y_train[:, :1], colab_model.predict(X_train)[:, :1])"
   ]
  },
  {
   "cell_type": "markdown",
   "metadata": {},
   "source": [
    "__Comparison__\n",
    "\n",
    "MSE LSTM: 6.064538493140892\n",
    "\n",
    "MSE LGBM: 6.871341565786178\n",
    "\n",
    "We're being a bit unfair to lightgbm as our LSTM architecture was the result of Bayes tuning whereas our lightgbm is out-of-the-box. Let's do random search to find a better lightgbm."
   ]
  },
  {
   "cell_type": "markdown",
   "metadata": {},
   "source": [
    "### Random search"
   ]
  },
  {
   "cell_type": "code",
   "execution_count": 78,
   "metadata": {},
   "outputs": [],
   "source": [
    "from sklearn.model_selection import RandomizedSearchCV"
   ]
  },
  {
   "cell_type": "code",
   "execution_count": 88,
   "metadata": {},
   "outputs": [],
   "source": [
    "PARAM_DISTRIBUTIONS = {\n",
    "    'num_leaves': list(range(20, 150)),\n",
    "    'learning_rate': list(np.logspace(np.log10(0.005), np.log10(0.5), base=10, num=1000)),\n",
    "    'subsample_for_bin': list(range(20000, 300000, 20000)),\n",
    "    'min_child_samples': list(range(20, 500, 5)),\n",
    "    'reg_alpha': list(np.logspace(np.log10(0.01), np.log10(100), base=10, num=1000)),\n",
    "    'reg_lambda': list(np.logspace(np.log10(0.01), np.log10(100), base=10, num=1000)),\n",
    "    'colsample_bytree': list(np.linspace(0.6, 1, 10)),\n",
    "    'subsample': list(np.linspace(0.5, 1, 100)),\n",
    "}"
   ]
  },
  {
   "cell_type": "code",
   "execution_count": 98,
   "metadata": {},
   "outputs": [],
   "source": [
    "lgbm_random = RandomizedSearchCV(\n",
    "    lightgbm.LGBMRegressor(),\n",
    "    param_distributions=PARAM_DISTRIBUTIONS,\n",
    "    n_iter=200,\n",
    "    scoring='neg_mean_squared_error',\n",
    "    cv=5,\n",
    "    verbose=1,\n",
    "    n_jobs=-1\n",
    ")"
   ]
  },
  {
   "cell_type": "code",
   "execution_count": 99,
   "metadata": {},
   "outputs": [
    {
     "name": "stdout",
     "output_type": "stream",
     "text": [
      "Fitting 5 folds for each of 200 candidates, totalling 1000 fits\n"
     ]
    },
    {
     "name": "stderr",
     "output_type": "stream",
     "text": [
      "[Parallel(n_jobs=-1)]: Using backend LokyBackend with 8 concurrent workers.\n",
      "[Parallel(n_jobs=-1)]: Done  34 tasks      | elapsed:   10.8s\n",
      "[Parallel(n_jobs=-1)]: Done 184 tasks      | elapsed:   54.4s\n",
      "[Parallel(n_jobs=-1)]: Done 434 tasks      | elapsed:  2.1min\n",
      "[Parallel(n_jobs=-1)]: Done 784 tasks      | elapsed:  3.8min\n",
      "[Parallel(n_jobs=-1)]: Done 1000 out of 1000 | elapsed:  4.8min finished\n"
     ]
    },
    {
     "data": {
      "text/plain": [
       "RandomizedSearchCV(cv=5, error_score=nan,\n",
       "                   estimator=LGBMRegressor(boosting_type='gbdt',\n",
       "                                           class_weight=None,\n",
       "                                           colsample_bytree=1.0,\n",
       "                                           importance_type='split',\n",
       "                                           learning_rate=0.1, max_depth=-1,\n",
       "                                           min_child_samples=20,\n",
       "                                           min_child_weight=0.001,\n",
       "                                           min_split_gain=0.0, n_estimators=100,\n",
       "                                           n_jobs=-1, num_leaves=31,\n",
       "                                           objective=None, random_state=None,\n",
       "                                           reg_alpha=0.0, reg_lambda=0.0,\n",
       "                                           silen...\n",
       "                                                      0.6212121212121212,\n",
       "                                                      0.6262626262626263,\n",
       "                                                      0.6313131313131313,\n",
       "                                                      0.6363636363636364,\n",
       "                                                      0.6414141414141414,\n",
       "                                                      0.6464646464646464, ...],\n",
       "                                        'subsample_for_bin': [20000, 40000,\n",
       "                                                              60000, 80000,\n",
       "                                                              100000, 120000,\n",
       "                                                              140000, 160000,\n",
       "                                                              180000, 200000,\n",
       "                                                              220000, 240000,\n",
       "                                                              260000, 280000]},\n",
       "                   pre_dispatch='2*n_jobs', random_state=None, refit=True,\n",
       "                   return_train_score=False, scoring='neg_mean_squared_error',\n",
       "                   verbose=1)"
      ]
     },
     "execution_count": 99,
     "metadata": {},
     "output_type": "execute_result"
    }
   ],
   "source": [
    "lgbm_random.fit(X_train_lgbm, y_train_lgbm)"
   ]
  },
  {
   "cell_type": "code",
   "execution_count": 100,
   "metadata": {},
   "outputs": [],
   "source": [
    "predictions_lgbm = lgbm_random.predict(X_dev_lgbm)"
   ]
  },
  {
   "cell_type": "code",
   "execution_count": 101,
   "metadata": {},
   "outputs": [
    {
     "data": {
      "text/plain": [
       "6.719226873747672"
      ]
     },
     "execution_count": 101,
     "metadata": {},
     "output_type": "execute_result"
    }
   ],
   "source": [
    "mean_squared_error(y_dev[:, :1], predictions_lgbm)"
   ]
  },
  {
   "cell_type": "markdown",
   "metadata": {},
   "source": [
    "__Comparison__\n",
    "\n",
    "MSE LSTM: 6.064538493140892\n",
    "\n",
    "MSE LGBM (out-of-the-box): 6.871341565786178\n",
    "\n",
    "MSE LGBM (random search): 6.719226873747672\n",
    "\n",
    "We're still being unfair to lightgbm as we are only using a single gameweek's worth of features whereas the LSTM uses 5 previous gameweeks. Let's feed the same data to lightgbm. Any performance gain from LSTM should be a result of it's ability to 'remember' useful features in the past."
   ]
  },
  {
   "cell_type": "markdown",
   "metadata": {},
   "source": [
    "### Random search and past 5 gameweek features"
   ]
  },
  {
   "cell_type": "markdown",
   "metadata": {},
   "source": [
    "Reshape the data to get features for all 5 gameweeks on a single row"
   ]
  },
  {
   "cell_type": "code",
   "execution_count": 120,
   "metadata": {},
   "outputs": [],
   "source": [
    "X_train_lgbm = np.reshape(X_train, (X_train.shape[0], -1))\n",
    "y_train_lgbm = np.squeeze(y_train[:,:1], axis=1)  # as before\n",
    "X_dev_lgbm = np.reshape(X_dev, (X_dev.shape[0], -1))"
   ]
  },
  {
   "cell_type": "code",
   "execution_count": 122,
   "metadata": {},
   "outputs": [
    {
     "data": {
      "text/plain": [
       "(45691, 315)"
      ]
     },
     "execution_count": 122,
     "metadata": {},
     "output_type": "execute_result"
    }
   ],
   "source": [
    "X_train_lgbm.shape"
   ]
  },
  {
   "cell_type": "code",
   "execution_count": 123,
   "metadata": {},
   "outputs": [
    {
     "data": {
      "text/plain": [
       "(4995, 315)"
      ]
     },
     "execution_count": 123,
     "metadata": {},
     "output_type": "execute_result"
    }
   ],
   "source": [
    "X_dev_lgbm.shape"
   ]
  },
  {
   "cell_type": "code",
   "execution_count": 146,
   "metadata": {},
   "outputs": [],
   "source": [
    "lgbm_random = RandomizedSearchCV(\n",
    "    lightgbm.LGBMRegressor(),\n",
    "    param_distributions=PARAM_DISTRIBUTIONS,\n",
    "    n_iter=200,\n",
    "    scoring='neg_mean_squared_error',\n",
    "    cv=5,\n",
    "    verbose=1,\n",
    "    n_jobs=-1\n",
    ")"
   ]
  },
  {
   "cell_type": "code",
   "execution_count": 147,
   "metadata": {},
   "outputs": [
    {
     "name": "stdout",
     "output_type": "stream",
     "text": [
      "Fitting 5 folds for each of 200 candidates, totalling 1000 fits\n"
     ]
    },
    {
     "name": "stderr",
     "output_type": "stream",
     "text": [
      "[Parallel(n_jobs=-1)]: Using backend LokyBackend with 8 concurrent workers.\n",
      "[Parallel(n_jobs=-1)]: Done  34 tasks      | elapsed:   50.9s\n",
      "[Parallel(n_jobs=-1)]: Done 184 tasks      | elapsed:  4.1min\n",
      "[Parallel(n_jobs=-1)]: Done 434 tasks      | elapsed:  9.6min\n",
      "[Parallel(n_jobs=-1)]: Done 784 tasks      | elapsed: 16.7min\n",
      "[Parallel(n_jobs=-1)]: Done 1000 out of 1000 | elapsed: 21.4min finished\n"
     ]
    },
    {
     "data": {
      "text/plain": [
       "RandomizedSearchCV(cv=5, error_score=nan,\n",
       "                   estimator=LGBMRegressor(boosting_type='gbdt',\n",
       "                                           class_weight=None,\n",
       "                                           colsample_bytree=1.0,\n",
       "                                           importance_type='split',\n",
       "                                           learning_rate=0.1, max_depth=-1,\n",
       "                                           min_child_samples=20,\n",
       "                                           min_child_weight=0.001,\n",
       "                                           min_split_gain=0.0, n_estimators=100,\n",
       "                                           n_jobs=-1, num_leaves=31,\n",
       "                                           objective=None, random_state=None,\n",
       "                                           reg_alpha=0.0, reg_lambda=0.0,\n",
       "                                           silen...\n",
       "                                                      0.6212121212121212,\n",
       "                                                      0.6262626262626263,\n",
       "                                                      0.6313131313131313,\n",
       "                                                      0.6363636363636364,\n",
       "                                                      0.6414141414141414,\n",
       "                                                      0.6464646464646464, ...],\n",
       "                                        'subsample_for_bin': [20000, 40000,\n",
       "                                                              60000, 80000,\n",
       "                                                              100000, 120000,\n",
       "                                                              140000, 160000,\n",
       "                                                              180000, 200000,\n",
       "                                                              220000, 240000,\n",
       "                                                              260000, 280000]},\n",
       "                   pre_dispatch='2*n_jobs', random_state=None, refit=True,\n",
       "                   return_train_score=False, scoring='neg_mean_squared_error',\n",
       "                   verbose=1)"
      ]
     },
     "execution_count": 147,
     "metadata": {},
     "output_type": "execute_result"
    }
   ],
   "source": [
    "lgbm_random.fit(X_train_lgbm, y_train_lgbm)"
   ]
  },
  {
   "cell_type": "code",
   "execution_count": 148,
   "metadata": {},
   "outputs": [],
   "source": [
    "predictions_lgbm = lgbm_random.predict(X_dev_lgbm)"
   ]
  },
  {
   "cell_type": "code",
   "execution_count": 149,
   "metadata": {},
   "outputs": [
    {
     "data": {
      "text/plain": [
       "5.976896894513474"
      ]
     },
     "execution_count": 149,
     "metadata": {},
     "output_type": "execute_result"
    }
   ],
   "source": [
    "mean_squared_error(y_dev[:, :1], predictions_lgbm)"
   ]
  },
  {
   "cell_type": "markdown",
   "metadata": {},
   "source": [
    "__Comparison__\n",
    "\n",
    "MSE LSTM: 6.064538493140892\n",
    "\n",
    "MSE LGBM (out-of-the-box): 6.871341565786178\n",
    "\n",
    "MSE LGBM (random search): 6.719226873747672\n",
    "\n",
    "MSE LGBM (random search and 5 GWs): 5.976896894513474\n",
    "\n",
    "_LGBM does better than LSTM for the single time-step prediction! An interesting result!_"
   ]
  },
  {
   "cell_type": "markdown",
   "metadata": {},
   "source": [
    "### Ensemble"
   ]
  },
  {
   "cell_type": "code",
   "execution_count": 154,
   "metadata": {},
   "outputs": [
    {
     "data": {
      "text/plain": [
       "Text(0, 0.5, 'LightGBM GW+1 predictions')"
      ]
     },
     "execution_count": 154,
     "metadata": {},
     "output_type": "execute_result"
    },
    {
     "data": {
      "image/png": "[encoded data removed]",
      "text/plain": [
       "<Figure size 432x288 with 1 Axes>"
      ]
     },
     "metadata": {
      "needs_background": "light"
     },
     "output_type": "display_data"
    }
   ],
   "source": [
    "sns.scatterplot(x=np.squeeze(prediction_lstm[:, :1]), y=predictions_lgbm)\n",
    "plt.xlabel('LSTM GW+1 predictions')\n",
    "plt.ylabel('LightGBM GW+1 predictions')"
   ]
  },
  {
   "cell_type": "markdown",
   "metadata": {},
   "source": [
    "Maybe the LSTM has been 'drowned' by the number of players who score 0 points and as such predicts lower values on average which has led to a worse MSE than LightGBM?\n",
    "\n",
    "Maybe we can strip out these players before training our model."
   ]
  },
  {
   "cell_type": "code",
   "execution_count": 155,
   "metadata": {},
   "outputs": [],
   "source": [
    "ensemble_predictions = np.mean(\n",
    "    np.array(\n",
    "        [\n",
    "            np.squeeze(prediction_lstm[:, :1]), \n",
    "            predictions_lgbm\n",
    "        ]\n",
    "    ),\n",
    "    axis=0\n",
    ")"
   ]
  },
  {
   "cell_type": "code",
   "execution_count": 156,
   "metadata": {},
   "outputs": [
    {
     "data": {
      "text/plain": [
       "(4995,)"
      ]
     },
     "execution_count": 156,
     "metadata": {},
     "output_type": "execute_result"
    }
   ],
   "source": [
    "ensemble_predictions.shape"
   ]
  },
  {
   "cell_type": "code",
   "execution_count": 157,
   "metadata": {},
   "outputs": [
    {
     "data": {
      "text/plain": [
       "5.9755796171182505"
      ]
     },
     "execution_count": 157,
     "metadata": {},
     "output_type": "execute_result"
    }
   ],
   "source": [
    "mean_squared_error(y_dev[:, :1], ensemble_predictions)"
   ]
  },
  {
   "cell_type": "markdown",
   "metadata": {},
   "source": [
    "## Final comparison\n",
    "\n",
    "MSE LSTM: 6.064538493140892\n",
    "\n",
    "MSE LGBM (out-of-the-box): 6.871341565786178\n",
    "\n",
    "MSE LGBM (random search): 6.719226873747672\n",
    "\n",
    "MSE LGBM (random search and 5 GWs): 5.976896894513474\n",
    "\n",
    "MSE Ensemble (LGBM (random search and 5 GWs) and LSTM): 5.9755796171182505\n",
    "\n",
    "_Minor performance gain by ensembling the 2 models_"
   ]
  },
  {
   "cell_type": "markdown",
   "metadata": {},
   "source": [
    "## Next steps\n",
    "\n",
    "- Using LightGBM for single step predictions looks like a beneficial change and should be relatively straightforward to incorporate.\n",
    "- We will refrain from using 5 LightGBM models (one for each timestep) due to the added burden of maintaining 5 models. Also suspect that LSTM will provide more robust predictions for future GWs as it can more easily find trends.\n",
    "- Explore the benefits of using non-zero-points players to train our LSTM.\n",
    "- Maybe our dataset is too imbalanced in this sense which is why it tends to be quite conservative in it's predictions.\n",
    "- If we are to use data from Fantasy Football Scout we will only have data for players who played >0 minutes in a game."
   ]
  }
 ],
 "metadata": {
  "kernelspec": {
   "display_name": "Python 3",
   "language": "python",
   "name": "python3"
  },
  "language_info": {
   "codemirror_mode": {
    "name": "ipython",
    "version": 3
   },
   "file_extension": ".py",
   "mimetype": "text/x-python",
   "name": "python",
   "nbconvert_exporter": "python",
   "pygments_lexer": "ipython3",
   "version": "3.7.6"
  }
 },
 "nbformat": 4,
 "nbformat_minor": 4
}
