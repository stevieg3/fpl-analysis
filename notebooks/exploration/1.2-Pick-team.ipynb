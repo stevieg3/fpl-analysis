{
 "cells": [
  {
   "cell_type": "code",
   "execution_count": 107,
   "metadata": {},
   "outputs": [],
   "source": [
    "import pandas as pd\n",
    "import re\n",
    "import matplotlib.pyplot as plt\n",
    "import numpy as np\n",
    "import seaborn as sns\n",
    "import pulp"
   ]
  },
  {
   "cell_type": "markdown",
   "metadata": {},
   "source": [
    "### Load data"
   ]
  },
  {
   "cell_type": "code",
   "execution_count": 108,
   "metadata": {},
   "outputs": [],
   "source": [
    "selection_df = pd.read_pickle('../../data/processed/live_selections.pkl')"
   ]
  },
  {
   "cell_type": "code",
   "execution_count": 109,
   "metadata": {},
   "outputs": [
    {
     "data": {
      "text/plain": [
       "<matplotlib.axes._subplots.AxesSubplot at 0x7faba0bd76d8>"
      ]
     },
     "execution_count": 109,
     "metadata": {},
     "output_type": "execute_result"
    },
    {
     "data": {
      "image/png": "[encoded data removed]",
      "text/plain": [
       "<Figure size 432x288 with 1 Axes>"
      ]
     },
     "metadata": {
      "needs_background": "light"
     },
     "output_type": "display_data"
    }
   ],
   "source": [
    "sns.scatterplot(data=selection_df,x='value',y='score_forecast',hue='pos')"
   ]
  },
  {
   "cell_type": "markdown",
   "metadata": {},
   "source": [
    "### Select best 15 players"
   ]
  },
  {
   "cell_type": "markdown",
   "metadata": {},
   "source": [
    "choose highest expected points per game, subject to constraints on total cost, and positions "
   ]
  },
  {
   "cell_type": "markdown",
   "metadata": {},
   "source": [
    "note - doesn't capture fact that subs are less valuable (particularly 2nd keeper)"
   ]
  },
  {
   "cell_type": "markdown",
   "metadata": {},
   "source": [
    "removing new-joiners, and manually dropping some guys that moved club"
   ]
  },
  {
   "cell_type": "code",
   "execution_count": 110,
   "metadata": {},
   "outputs": [],
   "source": [
    "BLACKLIST = ['Chris_Wood','Marko_Arnautovic']"
   ]
  },
  {
   "cell_type": "code",
   "execution_count": 111,
   "metadata": {},
   "outputs": [],
   "source": [
    "selection_df = selection_df.loc[~selection_df.clean_name.isin(BLACKLIST),:]"
   ]
  },
  {
   "cell_type": "code",
   "execution_count": 135,
   "metadata": {},
   "outputs": [],
   "source": [
    "def select_best_11(data,prediction_col):\n",
    "    player_ids = [str(i) for i in range(data.shape[0])]\n",
    "\n",
    "    # Setup\n",
    "    point = dict(zip(player_ids,data[prediction_col]))\n",
    "    cost = dict(zip(player_ids,data.value))\n",
    "    gk = dict(zip(player_ids,(data.pos == 'GK').astype(int)))\n",
    "    defe = dict(zip(player_ids,(data.pos == 'DEF').astype(int)))\n",
    "    mid = dict(zip(player_ids,(data.pos == 'MID').astype(int)))\n",
    "    stri = dict(zip(player_ids,(data.pos == 'FWD').astype(int)))\n",
    "    \n",
    "    prob = pulp.LpProblem(\"Fantasy Football\",pulp.LpMaximize)\n",
    "    player_vars = pulp.LpVariable.dicts(\"Players\",player_ids,0,1,pulp.LpBinary)\n",
    "\n",
    "    liecester = dict(zip(player_ids,(data.team == 'Leicester City').astype(int)))\n",
    "    liverpool = dict(zip(player_ids,(data.team == 'Liverpool').astype(int)))\n",
    "\n",
    "    \n",
    "    # objective function\n",
    "    prob += pulp.lpSum([point[i]*player_vars[i] for i in player_ids]), \"Total Cost\"\n",
    "\n",
    "    # constraint\n",
    "    prob += pulp.lpSum([player_vars[i] for i in player_ids]) == 11, \"Total 15 Players\"\n",
    "    prob += pulp.lpSum([cost[i] * player_vars[i] for i in player_ids]) <= 800, \"Total Cost\"\n",
    "    prob += pulp.lpSum([gk[i] * player_vars[i] for i in player_ids]) == 1, \"2 GK\"\n",
    "    prob += pulp.lpSum([defe[i] * player_vars[i] for i in player_ids]) <= 5, \"5 DEF\"\n",
    "    prob += pulp.lpSum([mid[i] * player_vars[i] for i in player_ids]) <= 5, \"5 MID\"\n",
    "    prob += pulp.lpSum([stri[i] * player_vars[i] for i in player_ids]) <= 3, \"Less than 3 STR\"\n",
    "    prob += pulp.lpSum([liecester[i] * player_vars[i] for i in player_ids]) <= 3, \"Less than 3 liecester\"\n",
    "    prob += pulp.lpSum([liverpool[i] * player_vars[i] for i in player_ids]) <= 3, \"Less than 3 liverpool\"\n",
    "\n",
    "    \n",
    "    # solve\n",
    "    status = prob.solve()\n",
    "    \n",
    "    return status, prob, [int(f.name.replace('Players_','')) for f in prob.variables() if f.varValue == 1 ]"
   ]
  },
  {
   "cell_type": "code",
   "execution_count": 136,
   "metadata": {},
   "outputs": [],
   "source": [
    "def select_best_15(data,prediction_col):\n",
    "    player_ids = [str(i) for i in range(data.shape[0])]\n",
    "\n",
    "    # Setup\n",
    "    point = dict(zip(player_ids,data[prediction_col]))\n",
    "    cost = dict(zip(player_ids,data.value))\n",
    "    gk = dict(zip(player_ids,(data.pos == 'GK').astype(int)))\n",
    "    defe = dict(zip(player_ids,(data.pos == 'DEF').astype(int)))\n",
    "    mid = dict(zip(player_ids,(data.pos == 'MID').astype(int)))\n",
    "    stri = dict(zip(player_ids,(data.pos == 'FWD').astype(int)))\n",
    "    \n",
    "    liecester = dict(zip(player_ids,(data.team == 'Leicester City').astype(int)))\n",
    "    liverpool = dict(zip(player_ids,(data.team == 'Liverpool').astype(int)))\n",
    "    \n",
    "    prob = pulp.LpProblem(\"Fantasy Football\",pulp.LpMaximize)\n",
    "    player_vars = pulp.LpVariable.dicts(\"Players\",player_ids,0,1,pulp.LpBinary)\n",
    "\n",
    "    # objective function\n",
    "    prob += pulp.lpSum([point[i]*player_vars[i] for i in player_ids]), \"Total Cost\"\n",
    "\n",
    "    # constraint\n",
    "    prob += pulp.lpSum([player_vars[i] for i in player_ids]) == 15, \"Total 15 Players\"\n",
    "    prob += pulp.lpSum([cost[i] * player_vars[i] for i in player_ids]) <= 1000, \"Total Cost\"\n",
    "    prob += pulp.lpSum([gk[i] * player_vars[i] for i in player_ids]) == 2, \"2 GK\"\n",
    "    prob += pulp.lpSum([defe[i] * player_vars[i] for i in player_ids]) == 5, \"5 DEF\"\n",
    "    prob += pulp.lpSum([mid[i] * player_vars[i] for i in player_ids]) == 5, \"5 MID\"\n",
    "    prob += pulp.lpSum([liecester[i] * player_vars[i] for i in player_ids]) <= 3, \"Less than 3 liecester\"\n",
    "    prob += pulp.lpSum([liverpool[i] * player_vars[i] for i in player_ids]) <= 3, \"Less than 3 liverpool\"\n",
    "\n",
    "    # solve\n",
    "    status = prob.solve()\n",
    "    \n",
    "    return status, prob, [int(f.name.replace('Players_','')) for f in prob.variables() if f.varValue == 1 ]"
   ]
  },
  {
   "cell_type": "code",
   "execution_count": 144,
   "metadata": {},
   "outputs": [],
   "source": [
    "selection_df.loc[selection_df.clean_name == 'Raheem_Sterling','score_forecast'] = 7"
   ]
  },
  {
   "cell_type": "code",
   "execution_count": 145,
   "metadata": {},
   "outputs": [],
   "source": [
    "_, _, selections_lgb_15 = select_best_15(selection_df,'score_forecast')"
   ]
  },
  {
   "cell_type": "code",
   "execution_count": 146,
   "metadata": {},
   "outputs": [],
   "source": [
    "_, _, selections_lgb_11 = select_best_11(selection_df,'score_forecast')"
   ]
  },
  {
   "cell_type": "code",
   "execution_count": null,
   "metadata": {},
   "outputs": [],
   "source": []
  },
  {
   "cell_type": "code",
   "execution_count": 147,
   "metadata": {},
   "outputs": [],
   "source": [
    "def show_team(candidates, selection):\n",
    "    position_map = {'GK':1,'DEF':2,'MID':3,'FWD':4}\n",
    "    candidates['position_num'] = candidates.pos.map(position_map)\n",
    "    return candidates.iloc[selection].sort_values(by='position_num').drop(columns='position_num')"
   ]
  },
  {
   "cell_type": "code",
   "execution_count": 148,
   "metadata": {},
   "outputs": [
    {
     "data": {
      "text/html": [
       "<div>\n",
       "<style scoped>\n",
       "    .dataframe tbody tr th:only-of-type {\n",
       "        vertical-align: middle;\n",
       "    }\n",
       "\n",
       "    .dataframe tbody tr th {\n",
       "        vertical-align: top;\n",
       "    }\n",
       "\n",
       "    .dataframe thead th {\n",
       "        text-align: right;\n",
       "    }\n",
       "</style>\n",
       "<table border=\"1\" class=\"dataframe\">\n",
       "  <thead>\n",
       "    <tr style=\"text-align: right;\">\n",
       "      <th></th>\n",
       "      <th>clean_name</th>\n",
       "      <th>pos</th>\n",
       "      <th>team</th>\n",
       "      <th>score_forecast</th>\n",
       "      <th>value</th>\n",
       "      <th>selected_by_percent</th>\n",
       "    </tr>\n",
       "  </thead>\n",
       "  <tbody>\n",
       "    <tr>\n",
       "      <th>207</th>\n",
       "      <td>Kasper_Schmeichel</td>\n",
       "      <td>GK</td>\n",
       "      <td>Leicester City</td>\n",
       "      <td>5.603575</td>\n",
       "      <td>50</td>\n",
       "      <td>5.1</td>\n",
       "    </tr>\n",
       "    <tr>\n",
       "      <th>361</th>\n",
       "      <td>Trent_Alexander-Arnold</td>\n",
       "      <td>DEF</td>\n",
       "      <td>Liverpool</td>\n",
       "      <td>8.811152</td>\n",
       "      <td>70</td>\n",
       "      <td>28.7</td>\n",
       "    </tr>\n",
       "    <tr>\n",
       "      <th>369</th>\n",
       "      <td>Virgil_van Dijk</td>\n",
       "      <td>DEF</td>\n",
       "      <td>Liverpool</td>\n",
       "      <td>6.953997</td>\n",
       "      <td>65</td>\n",
       "      <td>42.7</td>\n",
       "    </tr>\n",
       "    <tr>\n",
       "      <th>22</th>\n",
       "      <td>Andrew_Robertson</td>\n",
       "      <td>DEF</td>\n",
       "      <td>Liverpool</td>\n",
       "      <td>6.902782</td>\n",
       "      <td>70</td>\n",
       "      <td>36.2</td>\n",
       "    </tr>\n",
       "    <tr>\n",
       "      <th>2</th>\n",
       "      <td>Aaron_Wan-Bissaka</td>\n",
       "      <td>DEF</td>\n",
       "      <td>Manchester United</td>\n",
       "      <td>6.402908</td>\n",
       "      <td>55</td>\n",
       "      <td>32.4</td>\n",
       "    </tr>\n",
       "    <tr>\n",
       "      <th>227</th>\n",
       "      <td>Lucas_Digne</td>\n",
       "      <td>DEF</td>\n",
       "      <td>Everton</td>\n",
       "      <td>6.286767</td>\n",
       "      <td>60</td>\n",
       "      <td>27.8</td>\n",
       "    </tr>\n",
       "    <tr>\n",
       "      <th>281</th>\n",
       "      <td>Nathan_Redmond</td>\n",
       "      <td>MID</td>\n",
       "      <td>Southampton</td>\n",
       "      <td>6.033214</td>\n",
       "      <td>65</td>\n",
       "      <td>2.9</td>\n",
       "    </tr>\n",
       "    <tr>\n",
       "      <th>373</th>\n",
       "      <td>Wilfried_Zaha</td>\n",
       "      <td>MID</td>\n",
       "      <td>Crystal Palace</td>\n",
       "      <td>5.804067</td>\n",
       "      <td>70</td>\n",
       "      <td>30.9</td>\n",
       "    </tr>\n",
       "    <tr>\n",
       "      <th>309</th>\n",
       "      <td>Raheem_Sterling</td>\n",
       "      <td>MID</td>\n",
       "      <td>Manchester City</td>\n",
       "      <td>7.000000</td>\n",
       "      <td>120</td>\n",
       "      <td>25.4</td>\n",
       "    </tr>\n",
       "    <tr>\n",
       "      <th>384</th>\n",
       "      <td>Youri_Tielemans</td>\n",
       "      <td>MID</td>\n",
       "      <td>Leicester City</td>\n",
       "      <td>6.622786</td>\n",
       "      <td>65</td>\n",
       "      <td>5.7</td>\n",
       "    </tr>\n",
       "    <tr>\n",
       "      <th>171</th>\n",
       "      <td>Jamie_Vardy</td>\n",
       "      <td>FWD</td>\n",
       "      <td>Leicester City</td>\n",
       "      <td>6.912983</td>\n",
       "      <td>90</td>\n",
       "      <td>11.3</td>\n",
       "    </tr>\n",
       "  </tbody>\n",
       "</table>\n",
       "</div>"
      ],
      "text/plain": [
       "                 clean_name  pos               team  score_forecast  value  \\\n",
       "207       Kasper_Schmeichel   GK     Leicester City        5.603575     50   \n",
       "361  Trent_Alexander-Arnold  DEF          Liverpool        8.811152     70   \n",
       "369         Virgil_van Dijk  DEF          Liverpool        6.953997     65   \n",
       "22         Andrew_Robertson  DEF          Liverpool        6.902782     70   \n",
       "2         Aaron_Wan-Bissaka  DEF  Manchester United        6.402908     55   \n",
       "227             Lucas_Digne  DEF            Everton        6.286767     60   \n",
       "281          Nathan_Redmond  MID        Southampton        6.033214     65   \n",
       "373           Wilfried_Zaha  MID     Crystal Palace        5.804067     70   \n",
       "309         Raheem_Sterling  MID    Manchester City        7.000000    120   \n",
       "384         Youri_Tielemans  MID     Leicester City        6.622786     65   \n",
       "171             Jamie_Vardy  FWD     Leicester City        6.912983     90   \n",
       "\n",
       "     selected_by_percent  \n",
       "207                  5.1  \n",
       "361                 28.7  \n",
       "369                 42.7  \n",
       "22                  36.2  \n",
       "2                   32.4  \n",
       "227                 27.8  \n",
       "281                  2.9  \n",
       "373                 30.9  \n",
       "309                 25.4  \n",
       "384                  5.7  \n",
       "171                 11.3  "
      ]
     },
     "execution_count": 148,
     "metadata": {},
     "output_type": "execute_result"
    }
   ],
   "source": [
    "selected_lgb_11 = show_team(selection_df,selections_lgb_11); selected_lgb_11"
   ]
  },
  {
   "cell_type": "code",
   "execution_count": 149,
   "metadata": {},
   "outputs": [
    {
     "data": {
      "text/html": [
       "<div>\n",
       "<style scoped>\n",
       "    .dataframe tbody tr th:only-of-type {\n",
       "        vertical-align: middle;\n",
       "    }\n",
       "\n",
       "    .dataframe tbody tr th {\n",
       "        vertical-align: top;\n",
       "    }\n",
       "\n",
       "    .dataframe thead th {\n",
       "        text-align: right;\n",
       "    }\n",
       "</style>\n",
       "<table border=\"1\" class=\"dataframe\">\n",
       "  <thead>\n",
       "    <tr style=\"text-align: right;\">\n",
       "      <th></th>\n",
       "      <th>clean_name</th>\n",
       "      <th>pos</th>\n",
       "      <th>team</th>\n",
       "      <th>score_forecast</th>\n",
       "      <th>value</th>\n",
       "      <th>selected_by_percent</th>\n",
       "    </tr>\n",
       "  </thead>\n",
       "  <tbody>\n",
       "    <tr>\n",
       "      <th>207</th>\n",
       "      <td>Kasper_Schmeichel</td>\n",
       "      <td>GK</td>\n",
       "      <td>Leicester City</td>\n",
       "      <td>5.603575</td>\n",
       "      <td>50</td>\n",
       "      <td>5.1</td>\n",
       "    </tr>\n",
       "    <tr>\n",
       "      <th>231</th>\n",
       "      <td>Lukasz_Fabianski</td>\n",
       "      <td>GK</td>\n",
       "      <td>West Ham United</td>\n",
       "      <td>5.094775</td>\n",
       "      <td>50</td>\n",
       "      <td>10.2</td>\n",
       "    </tr>\n",
       "    <tr>\n",
       "      <th>361</th>\n",
       "      <td>Trent_Alexander-Arnold</td>\n",
       "      <td>DEF</td>\n",
       "      <td>Liverpool</td>\n",
       "      <td>8.811152</td>\n",
       "      <td>70</td>\n",
       "      <td>28.7</td>\n",
       "    </tr>\n",
       "    <tr>\n",
       "      <th>369</th>\n",
       "      <td>Virgil_van Dijk</td>\n",
       "      <td>DEF</td>\n",
       "      <td>Liverpool</td>\n",
       "      <td>6.953997</td>\n",
       "      <td>65</td>\n",
       "      <td>42.7</td>\n",
       "    </tr>\n",
       "    <tr>\n",
       "      <th>22</th>\n",
       "      <td>Andrew_Robertson</td>\n",
       "      <td>DEF</td>\n",
       "      <td>Liverpool</td>\n",
       "      <td>6.902782</td>\n",
       "      <td>70</td>\n",
       "      <td>36.2</td>\n",
       "    </tr>\n",
       "    <tr>\n",
       "      <th>2</th>\n",
       "      <td>Aaron_Wan-Bissaka</td>\n",
       "      <td>DEF</td>\n",
       "      <td>Manchester United</td>\n",
       "      <td>6.402908</td>\n",
       "      <td>55</td>\n",
       "      <td>32.4</td>\n",
       "    </tr>\n",
       "    <tr>\n",
       "      <th>227</th>\n",
       "      <td>Lucas_Digne</td>\n",
       "      <td>DEF</td>\n",
       "      <td>Everton</td>\n",
       "      <td>6.286767</td>\n",
       "      <td>60</td>\n",
       "      <td>27.8</td>\n",
       "    </tr>\n",
       "    <tr>\n",
       "      <th>281</th>\n",
       "      <td>Nathan_Redmond</td>\n",
       "      <td>MID</td>\n",
       "      <td>Southampton</td>\n",
       "      <td>6.033214</td>\n",
       "      <td>65</td>\n",
       "      <td>2.9</td>\n",
       "    </tr>\n",
       "    <tr>\n",
       "      <th>373</th>\n",
       "      <td>Wilfried_Zaha</td>\n",
       "      <td>MID</td>\n",
       "      <td>Crystal Palace</td>\n",
       "      <td>5.804067</td>\n",
       "      <td>70</td>\n",
       "      <td>30.9</td>\n",
       "    </tr>\n",
       "    <tr>\n",
       "      <th>326</th>\n",
       "      <td>Ryan_Fraser</td>\n",
       "      <td>MID</td>\n",
       "      <td>Bournemouth</td>\n",
       "      <td>5.476223</td>\n",
       "      <td>75</td>\n",
       "      <td>21.4</td>\n",
       "    </tr>\n",
       "    <tr>\n",
       "      <th>140</th>\n",
       "      <td>Gylfi_Sigurdsson</td>\n",
       "      <td>MID</td>\n",
       "      <td>Everton</td>\n",
       "      <td>5.183864</td>\n",
       "      <td>80</td>\n",
       "      <td>15.8</td>\n",
       "    </tr>\n",
       "    <tr>\n",
       "      <th>384</th>\n",
       "      <td>Youri_Tielemans</td>\n",
       "      <td>MID</td>\n",
       "      <td>Leicester City</td>\n",
       "      <td>6.622786</td>\n",
       "      <td>65</td>\n",
       "      <td>5.7</td>\n",
       "    </tr>\n",
       "    <tr>\n",
       "      <th>171</th>\n",
       "      <td>Jamie_Vardy</td>\n",
       "      <td>FWD</td>\n",
       "      <td>Leicester City</td>\n",
       "      <td>6.912983</td>\n",
       "      <td>90</td>\n",
       "      <td>11.3</td>\n",
       "    </tr>\n",
       "    <tr>\n",
       "      <th>135</th>\n",
       "      <td>Gerard_Deulofeu</td>\n",
       "      <td>FWD</td>\n",
       "      <td>Watford</td>\n",
       "      <td>4.439364</td>\n",
       "      <td>65</td>\n",
       "      <td>13.8</td>\n",
       "    </tr>\n",
       "    <tr>\n",
       "      <th>197</th>\n",
       "      <td>Joshua_King</td>\n",
       "      <td>FWD</td>\n",
       "      <td>Bournemouth</td>\n",
       "      <td>4.223342</td>\n",
       "      <td>65</td>\n",
       "      <td>20.9</td>\n",
       "    </tr>\n",
       "  </tbody>\n",
       "</table>\n",
       "</div>"
      ],
      "text/plain": [
       "                 clean_name  pos               team  score_forecast  value  \\\n",
       "207       Kasper_Schmeichel   GK     Leicester City        5.603575     50   \n",
       "231        Lukasz_Fabianski   GK    West Ham United        5.094775     50   \n",
       "361  Trent_Alexander-Arnold  DEF          Liverpool        8.811152     70   \n",
       "369         Virgil_van Dijk  DEF          Liverpool        6.953997     65   \n",
       "22         Andrew_Robertson  DEF          Liverpool        6.902782     70   \n",
       "2         Aaron_Wan-Bissaka  DEF  Manchester United        6.402908     55   \n",
       "227             Lucas_Digne  DEF            Everton        6.286767     60   \n",
       "281          Nathan_Redmond  MID        Southampton        6.033214     65   \n",
       "373           Wilfried_Zaha  MID     Crystal Palace        5.804067     70   \n",
       "326             Ryan_Fraser  MID        Bournemouth        5.476223     75   \n",
       "140        Gylfi_Sigurdsson  MID            Everton        5.183864     80   \n",
       "384         Youri_Tielemans  MID     Leicester City        6.622786     65   \n",
       "171             Jamie_Vardy  FWD     Leicester City        6.912983     90   \n",
       "135         Gerard_Deulofeu  FWD            Watford        4.439364     65   \n",
       "197             Joshua_King  FWD        Bournemouth        4.223342     65   \n",
       "\n",
       "     selected_by_percent  \n",
       "207                  5.1  \n",
       "231                 10.2  \n",
       "361                 28.7  \n",
       "369                 42.7  \n",
       "22                  36.2  \n",
       "2                   32.4  \n",
       "227                 27.8  \n",
       "281                  2.9  \n",
       "373                 30.9  \n",
       "326                 21.4  \n",
       "140                 15.8  \n",
       "384                  5.7  \n",
       "171                 11.3  \n",
       "135                 13.8  \n",
       "197                 20.9  "
      ]
     },
     "execution_count": 149,
     "metadata": {},
     "output_type": "execute_result"
    }
   ],
   "source": [
    "selected_lgb_15 = show_team(selection_df,selections_lgb_15); selected_lgb_15"
   ]
  },
  {
   "cell_type": "code",
   "execution_count": 134,
   "metadata": {},
   "outputs": [
    {
     "data": {
      "text/plain": [
       "1000"
      ]
     },
     "execution_count": 134,
     "metadata": {},
     "output_type": "execute_result"
    }
   ],
   "source": [
    "selected_lgb.value.sum()"
   ]
  },
  {
   "cell_type": "code",
   "execution_count": null,
   "metadata": {},
   "outputs": [],
   "source": []
  },
  {
   "cell_type": "code",
   "execution_count": null,
   "metadata": {},
   "outputs": [],
   "source": []
  }
 ],
 "metadata": {
  "kernelspec": {
   "display_name": "Python 3",
   "language": "python",
   "name": "python3"
  },
  "language_info": {
   "codemirror_mode": {
    "name": "ipython",
    "version": 3
   },
   "file_extension": ".py",
   "mimetype": "text/x-python",
   "name": "python",
   "nbconvert_exporter": "python",
   "pygments_lexer": "ipython3",
   "version": "3.7.3"
  }
 },
 "nbformat": 4,
 "nbformat_minor": 2
}
