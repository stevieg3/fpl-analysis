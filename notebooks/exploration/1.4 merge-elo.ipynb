{
 "cells": [
  {
   "cell_type": "code",
   "execution_count": 88,
   "metadata": {},
   "outputs": [],
   "source": [
    "import pandas as pd\n",
    "import numpy as np\n",
    "import matplotlib.pyplot as plt\n",
    "import seaborn as sns\n",
    "import pickle"
   ]
  },
  {
   "cell_type": "code",
   "execution_count": 89,
   "metadata": {},
   "outputs": [],
   "source": [
    "from utils import rating"
   ]
  },
  {
   "cell_type": "code",
   "execution_count": 90,
   "metadata": {},
   "outputs": [],
   "source": [
    "with open('../../data/processed/ratings.pkl', 'rb') as handle:\n",
    "    ratings = pickle.load(handle)"
   ]
  },
  {
   "cell_type": "code",
   "execution_count": 91,
   "metadata": {},
   "outputs": [],
   "source": [
    "gameweek_df = pd.read_pickle( \"../../data/processed/gameweek_data.pkl\")"
   ]
  },
  {
   "cell_type": "code",
   "execution_count": 92,
   "metadata": {},
   "outputs": [],
   "source": [
    "raw_gameweek = pd.read_pickle('../../data/raw/gameweek_data.pkl')"
   ]
  },
  {
   "cell_type": "code",
   "execution_count": 93,
   "metadata": {},
   "outputs": [],
   "source": [
    "player_df = pd.read_pickle('../../data/raw/player_data.pkl')"
   ]
  },
  {
   "cell_type": "code",
   "execution_count": 94,
   "metadata": {},
   "outputs": [],
   "source": [
    "gameweek_df['home_team'] = np.where(gameweek_df.was_home, gameweek_df.team, gameweek_df.opponent_team)\n",
    "gameweek_df['away_team'] = np.where(gameweek_df.was_home, gameweek_df.opponent_team, gameweek_df.team)"
   ]
  },
  {
   "cell_type": "code",
   "execution_count": 95,
   "metadata": {},
   "outputs": [],
   "source": [
    "def result_map(home_score, away_score):\n",
    "    if home_score > away_score:\n",
    "        return 1.0\n",
    "    elif home_score < away_score:\n",
    "        return 0.0\n",
    "    else:\n",
    "        return 0.5"
   ]
  },
  {
   "cell_type": "code",
   "execution_count": 96,
   "metadata": {},
   "outputs": [],
   "source": [
    "gameweek_df['result'] = gameweek_df.apply(lambda x: result_map(x.team_h_score, x.team_a_score),axis=1)"
   ]
  },
  {
   "cell_type": "markdown",
   "metadata": {},
   "source": [
    " find people who often have different team names from fixture with same score at same time (possible mid-season transfers)"
   ]
  },
  {
   "cell_type": "code",
   "execution_count": 97,
   "metadata": {},
   "outputs": [],
   "source": [
    "gameweek_df['transfer_column'] =(gameweek_df.groupby(['kickoff_time','team_h_score','team_a_score',\n",
    "             'home_team','away_team'])['team_h_score'].transform('count') < 11)"
   ]
  },
  {
   "cell_type": "code",
   "execution_count": 98,
   "metadata": {},
   "outputs": [],
   "source": [
    "gameweek_df['transfer_likeliness'] = gameweek_df.groupby(['clean_name','season'])['transfer_column'].transform('mean')"
   ]
  },
  {
   "cell_type": "markdown",
   "metadata": {},
   "source": [
    "only 50 or so players moving to different club in same window. "
   ]
  },
  {
   "cell_type": "code",
   "execution_count": 99,
   "metadata": {},
   "outputs": [
    {
     "data": {
      "text/plain": [
       "55"
      ]
     },
     "execution_count": 99,
     "metadata": {},
     "output_type": "execute_result"
    }
   ],
   "source": [
    "(gameweek_df.loc[gameweek_df.transfer_likeliness > 0.05,'clean_name']).unique().shape[0]"
   ]
  },
  {
   "cell_type": "markdown",
   "metadata": {},
   "source": [
    "If I exclude these guys, then I get pretty close to the 380 fixtures there should be per season"
   ]
  },
  {
   "cell_type": "code",
   "execution_count": 100,
   "metadata": {},
   "outputs": [
    {
     "data": {
      "text/plain": [
       "season\n",
       "2016-17    383\n",
       "2017-18    383\n",
       "2018-19    380\n",
       "Name: team_h_score, dtype: int64"
      ]
     },
     "execution_count": 100,
     "metadata": {},
     "output_type": "execute_result"
    }
   ],
   "source": [
    "gameweek_df.loc[~((gameweek_df.transfer_likeliness > 0.05) &\n",
    "                (gameweek_df.transfer_column< 11 )),['kickoff_time','team_h_score','team_a_score','home_team','away_team','season']].drop_duplicates().groupby('season')['team_h_score'].count()"
   ]
  },
  {
   "cell_type": "code",
   "execution_count": 101,
   "metadata": {},
   "outputs": [],
   "source": [
    "fixtures = gameweek_df.loc[~((gameweek_df.transfer_likeliness > 0.05) &\n",
    "                (gameweek_df.transfer_column< 11 )),\n",
    "                           ['kickoff_time','team_h_score','team_a_score',\n",
    "                            'home_team','away_team','season','result']].drop_duplicates().sort_values(by='kickoff_time')"
   ]
  },
  {
   "cell_type": "code",
   "execution_count": 102,
   "metadata": {},
   "outputs": [],
   "source": [
    "rated = pd.read_pickle('../../data/processed/matches_with_rating.pkl')"
   ]
  },
  {
   "cell_type": "code",
   "execution_count": 110,
   "metadata": {},
   "outputs": [],
   "source": [
    "fixtures['Date']= pd.to_datetime(fixtures.kickoff_time).dt.tz_localize(None)\n",
    "gameweek_df['Date']= pd.to_datetime(gameweek_df.kickoff_time).dt.tz_localize(None)\n"
   ]
  },
  {
   "cell_type": "code",
   "execution_count": 111,
   "metadata": {},
   "outputs": [
    {
     "ename": "AttributeError",
     "evalue": "'DataFrame' object has no attribute 'FTHG'",
     "output_type": "error",
     "traceback": [
      "\u001b[0;31m---------------------------------------------------------------------------\u001b[0m",
      "\u001b[0;31mAttributeError\u001b[0m                            Traceback (most recent call last)",
      "\u001b[0;32m<ipython-input-111-0dfe6ae54438>\u001b[0m in \u001b[0;36m<module>\u001b[0;34m\u001b[0m\n\u001b[0;32m----> 1\u001b[0;31m \u001b[0mrated\u001b[0m\u001b[0;34m[\u001b[0m\u001b[0;34m'FTHG'\u001b[0m\u001b[0;34m]\u001b[0m \u001b[0;34m=\u001b[0m \u001b[0mrated\u001b[0m\u001b[0;34m.\u001b[0m\u001b[0mFTHG\u001b[0m\u001b[0;34m.\u001b[0m\u001b[0mastype\u001b[0m\u001b[0;34m(\u001b[0m\u001b[0mint\u001b[0m\u001b[0;34m)\u001b[0m\u001b[0;34m\u001b[0m\u001b[0;34m\u001b[0m\u001b[0m\n\u001b[0m\u001b[1;32m      2\u001b[0m \u001b[0mrated\u001b[0m\u001b[0;34m[\u001b[0m\u001b[0;34m'FTAG'\u001b[0m\u001b[0;34m]\u001b[0m \u001b[0;34m=\u001b[0m\u001b[0mrated\u001b[0m\u001b[0;34m.\u001b[0m\u001b[0mFTAG\u001b[0m\u001b[0;34m.\u001b[0m\u001b[0mastype\u001b[0m\u001b[0;34m(\u001b[0m\u001b[0mint\u001b[0m\u001b[0;34m)\u001b[0m\u001b[0;34m\u001b[0m\u001b[0;34m\u001b[0m\u001b[0m\n",
      "\u001b[0;32m~/anaconda3/lib/python3.7/site-packages/pandas/core/generic.py\u001b[0m in \u001b[0;36m__getattr__\u001b[0;34m(self, name)\u001b[0m\n\u001b[1;32m   5065\u001b[0m             \u001b[0;32mif\u001b[0m \u001b[0mself\u001b[0m\u001b[0;34m.\u001b[0m\u001b[0m_info_axis\u001b[0m\u001b[0;34m.\u001b[0m\u001b[0m_can_hold_identifiers_and_holds_name\u001b[0m\u001b[0;34m(\u001b[0m\u001b[0mname\u001b[0m\u001b[0;34m)\u001b[0m\u001b[0;34m:\u001b[0m\u001b[0;34m\u001b[0m\u001b[0;34m\u001b[0m\u001b[0m\n\u001b[1;32m   5066\u001b[0m                 \u001b[0;32mreturn\u001b[0m \u001b[0mself\u001b[0m\u001b[0;34m[\u001b[0m\u001b[0mname\u001b[0m\u001b[0;34m]\u001b[0m\u001b[0;34m\u001b[0m\u001b[0;34m\u001b[0m\u001b[0m\n\u001b[0;32m-> 5067\u001b[0;31m             \u001b[0;32mreturn\u001b[0m \u001b[0mobject\u001b[0m\u001b[0;34m.\u001b[0m\u001b[0m__getattribute__\u001b[0m\u001b[0;34m(\u001b[0m\u001b[0mself\u001b[0m\u001b[0;34m,\u001b[0m \u001b[0mname\u001b[0m\u001b[0;34m)\u001b[0m\u001b[0;34m\u001b[0m\u001b[0;34m\u001b[0m\u001b[0m\n\u001b[0m\u001b[1;32m   5068\u001b[0m \u001b[0;34m\u001b[0m\u001b[0m\n\u001b[1;32m   5069\u001b[0m     \u001b[0;32mdef\u001b[0m \u001b[0m__setattr__\u001b[0m\u001b[0;34m(\u001b[0m\u001b[0mself\u001b[0m\u001b[0;34m,\u001b[0m \u001b[0mname\u001b[0m\u001b[0;34m,\u001b[0m \u001b[0mvalue\u001b[0m\u001b[0;34m)\u001b[0m\u001b[0;34m:\u001b[0m\u001b[0;34m\u001b[0m\u001b[0;34m\u001b[0m\u001b[0m\n",
      "\u001b[0;31mAttributeError\u001b[0m: 'DataFrame' object has no attribute 'FTHG'"
     ]
    }
   ],
   "source": [
    "rated['FTHG'] = rated.FTHG.astype(int)\n",
    "rated['FTAG'] =rated.FTAG.astype(int)"
   ]
  },
  {
   "cell_type": "code",
   "execution_count": 112,
   "metadata": {},
   "outputs": [],
   "source": [
    "rated.rename(columns={'HomeTeam':'home_team',\n",
    "                        'AwayTeam': 'away_team',\n",
    "                        'FTHG':'team_h_score',\n",
    "                     'FTAG':'team_a_score'},inplace=True)"
   ]
  },
  {
   "cell_type": "code",
   "execution_count": 113,
   "metadata": {},
   "outputs": [],
   "source": [
    "test = pd.merge_asof(fixtures, rated, \n",
    "                     by=['home_team','away_team','team_h_score','team_a_score'], \n",
    "              on='Date', direction='nearest')"
   ]
  },
  {
   "cell_type": "code",
   "execution_count": 115,
   "metadata": {},
   "outputs": [],
   "source": [
    "gameweek_with_elo = pd.merge_asof(gameweek_df.sort_values(by='Date'), rated, \n",
    "                     by=['home_team','away_team','team_h_score','team_a_score'], \n",
    "              on='Date', direction='nearest')"
   ]
  },
  {
   "cell_type": "code",
   "execution_count": 121,
   "metadata": {},
   "outputs": [
    {
     "data": {
      "text/plain": [
       "['elo_outcome_rating_1',\n",
       " 'elo_outcome_rating_2',\n",
       " 'elo_outcome_rating_diff',\n",
       " 'elo_outcome_e']"
      ]
     },
     "execution_count": 121,
     "metadata": {},
     "output_type": "execute_result"
    }
   ],
   "source": []
  },
  {
   "cell_type": "code",
   "execution_count": 122,
   "metadata": {},
   "outputs": [],
   "source": [
    "gameweek_with_elo['elo_outcome_rating_p'] = np.where(gameweek_with_elo.was_home,\n",
    "                                                    gameweek_with_elo.elo_outcome_rating_1,\n",
    "                                                    gameweek_with_elo.elo_outcome_rating_2)\n",
    "\n",
    "gameweek_with_elo['elo_outcome_rating_o'] = np.where(gameweek_with_elo.was_home,\n",
    "                                                    gameweek_with_elo.elo_outcome_rating_2,\n",
    "                                                    gameweek_with_elo.elo_outcome_rating_1)\n",
    "\n",
    "gameweek_with_elo['elo_outcome_rating_d'] = np.where(gameweek_with_elo.was_home,\n",
    "                                                    gameweek_with_elo.elo_outcome_rating_diff,\n",
    "                                                    gameweek_with_elo.elo_outcome_rating_diff * -1)\n",
    "\n",
    "gameweek_with_elo['elo_outcome_rating_ex'] = np.where(gameweek_with_elo.was_home,\n",
    "                                                    gameweek_with_elo.elo_outcome_e,\n",
    "                                                    1.0 - gameweek_with_elo.elo_outcome_e)\n"
   ]
  },
  {
   "cell_type": "code",
   "execution_count": 123,
   "metadata": {},
   "outputs": [],
   "source": [
    "gameweek_with_elo.to_pickle('../../data/gameweek_with_elo.pkl')"
   ]
  },
  {
   "cell_type": "code",
   "execution_count": 86,
   "metadata": {},
   "outputs": [
    {
     "data": {
      "text/plain": [
       "Bradford                   13\n",
       "Wigan                      12\n",
       "Fleetwood Town             12\n",
       "Oldham                     12\n",
       "Bury                       12\n",
       "Rochdale                   12\n",
       "Blackpool                  12\n",
       "Blackburn                  12\n",
       "Swindon                    11\n",
       "Sheffield Weds             11\n",
       "Sheffield United           11\n",
       "Reading                    11\n",
       "Port Vale                  11\n",
       "Doncaster                  11\n",
       "Charlton                   11\n",
       "Millwall                   11\n",
       "Wolverhampton Wanderers    11\n",
       "Middlesbrough              11\n",
       "Bristol City               11\n",
       "Burnley                    11\n",
       "Huddersfield Town          11\n",
       "Brentford                  11\n",
       "Colchester                 11\n",
       "Scunthorpe                 11\n",
       "Nott'm Forest              11\n",
       "Hull City                  11\n",
       "Derby                      11\n",
       "Crewe                      11\n",
       "Ipswich                    11\n",
       "Preston                    11\n",
       "                           ..\n",
       "Gillingham                 11\n",
       "Barnsley                   11\n",
       "Rotherham                  11\n",
       "Milton Keynes Dons         11\n",
       "Coventry                   11\n",
       "Fulham                     11\n",
       "Shrewsbury                 11\n",
       "Bolton                     11\n",
       "Aston Villa                10\n",
       "QPR                        10\n",
       "Sunderland                 10\n",
       "Norwich                    10\n",
       "Stoke City                 10\n",
       "Liverpool                  10\n",
       "West Ham United            10\n",
       "Bournemouth                10\n",
       "Brighton & Hove Albion     10\n",
       "Leicester City             10\n",
       "Manchester United          10\n",
       "Arsenal                    10\n",
       "Crystal Palace              9\n",
       "Southampton                 9\n",
       "Watford                     9\n",
       "Manchester City             9\n",
       "Everton                     9\n",
       "Swansea City                9\n",
       "West Bromwich Albion        9\n",
       "Tottenham Hotspur           9\n",
       "Newcastle United            9\n",
       "Chelsea                     9\n",
       "Name: home_team, Length: 68, dtype: int64"
      ]
     },
     "execution_count": 86,
     "metadata": {},
     "output_type": "execute_result"
    }
   ],
   "source": [
    "rated.loc[\n",
    "          (rated.Date > '2016'),'home_team'].value_counts()"
   ]
  },
  {
   "cell_type": "code",
   "execution_count": 73,
   "metadata": {},
   "outputs": [
    {
     "data": {
      "text/plain": [
       "2016-17    102\n",
       "2017-18     86\n",
       "2018-19     66\n",
       "Name: season, dtype: int64"
      ]
     },
     "execution_count": 73,
     "metadata": {},
     "output_type": "execute_result"
    }
   ],
   "source": [
    "test.season.value_counts()"
   ]
  },
  {
   "cell_type": "code",
   "execution_count": null,
   "metadata": {},
   "outputs": [],
   "source": [
    "test.home_team.notna().mean()"
   ]
  },
  {
   "cell_type": "code",
   "execution_count": null,
   "metadata": {},
   "outputs": [],
   "source": [
    "test.shape"
   ]
  },
  {
   "cell_type": "code",
   "execution_count": null,
   "metadata": {},
   "outputs": [],
   "source": [
    "gameweek_df[['kickoff_time','team_h_score','team_a_score','home_team','away_team','season']].drop_duplicates().groupby('season')['team_h_score'].count()"
   ]
  },
  {
   "cell_type": "code",
   "execution_count": null,
   "metadata": {},
   "outputs": [],
   "source": [
    "(gameweek_df\n",
    " [['kickoff_time','away_team',\n",
    "   'team_h_score','team_a_score','season','result']]\n",
    ".sort_values(by='kickoff_time')).groupby(['kickoff_time','team_a_score'])['result'].count()"
   ]
  },
  {
   "cell_type": "code",
   "execution_count": null,
   "metadata": {},
   "outputs": [],
   "source": []
  },
  {
   "cell_type": "code",
   "execution_count": null,
   "metadata": {},
   "outputs": [],
   "source": []
  },
  {
   "cell_type": "code",
   "execution_count": null,
   "metadata": {},
   "outputs": [],
   "source": []
  },
  {
   "cell_type": "code",
   "execution_count": null,
   "metadata": {},
   "outputs": [],
   "source": []
  }
 ],
 "metadata": {
  "kernelspec": {
   "display_name": "Python 3",
   "language": "python",
   "name": "python3"
  },
  "language_info": {
   "codemirror_mode": {
    "name": "ipython",
    "version": 3
   },
   "file_extension": ".py",
   "mimetype": "text/x-python",
   "name": "python",
   "nbconvert_exporter": "python",
   "pygments_lexer": "ipython3",
   "version": "3.7.3"
  }
 },
 "nbformat": 4,
 "nbformat_minor": 2
}
