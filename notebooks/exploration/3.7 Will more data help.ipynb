{
 "cells": [
  {
   "cell_type": "markdown",
   "metadata": {},
   "source": [
    "# Will more data help?"
   ]
  },
  {
   "cell_type": "markdown",
   "metadata": {},
   "source": [
    "Following Bayes hyperparameter search we concluded that future performance improvements would likely be the result of:\n",
    "\n",
    "    1) More data (in the form of historical seasons)\n",
    "\n",
    "    2) More features \n",
    "\n",
    "Fantasy Football Scout (FFS) (https://www.fantasyfootballscout.co.uk/) has a members area which includes player-level data going back to the 2011/2012 season. The data has many player and team-level features which are not in the current FPL API and which may be predictive of performance. However, there are also features in the FPL API which are not on FFS.\n",
    "\n",
    "Getting the data from FFS is not trivial and would require well-defined web scraping. In this notebook we assess the potential benefits of training on more data by doing the following.\n",
    "\n",
    "    1) Look at what features in the current FPL API and used by the current model are available on FFS\n",
    "\n",
    "    2) Train an LSTM model (using the Bayes architecture) on the subset of available FFS features\n",
    "\n",
    "    3) See how much worse the model is than the current one (a new FFS model would need to at least close this gap to be worthwhile)\n",
    "\n",
    "    4) Plot a more accurate learning curve to see how performance changes with data size"
   ]
  },
  {
   "cell_type": "markdown",
   "metadata": {},
   "source": [
    "## Set-up"
   ]
  },
  {
   "cell_type": "code",
   "execution_count": 169,
   "metadata": {},
   "outputs": [],
   "source": [
    "import os\n",
    "import itertools\n",
    "import pickle\n",
    "\n",
    "import pandas as pd\n",
    "import numpy as np\n",
    "from keras.layers import \\\n",
    "    Dense, \\\n",
    "    LSTM, \\\n",
    "    BatchNormalization, \\\n",
    "    Dropout, \\\n",
    "    Activation\n",
    "from keras import \\\n",
    "    initializers, \\\n",
    "    optimizers, \\\n",
    "    Sequential\n",
    "from hyperopt import hp, fmin, rand, tpe, Trials\n",
    "from sklearn.metrics import mean_squared_error\n",
    "import matplotlib.pyplot as plt\n",
    "import seaborn as sns"
   ]
  },
  {
   "cell_type": "code",
   "execution_count": 2,
   "metadata": {},
   "outputs": [],
   "source": [
    "os.chdir('../..')"
   ]
  },
  {
   "cell_type": "code",
   "execution_count": 3,
   "metadata": {},
   "outputs": [],
   "source": [
    "from src.models.utils import \\\n",
    "    _load_all_historical_data, \\\n",
    "    _map_season_string_to_ordered_numeric, \\\n",
    "    _generate_known_features_for_next_gw, \\\n",
    "    custom_train_test_split, \\\n",
    "    split_sequences, \\\n",
    "    _load_model_from_pickle\n",
    "from src.models.constants import \\\n",
    "    COLUMNS_TO_DROP_FOR_TRAINING\n",
    "from src.models.LSTM.make_predictions import LSTMPlayerPredictor\n",
    "from src.visualisation.utils import plot_learning_curve"
   ]
  },
  {
   "cell_type": "code",
   "execution_count": 4,
   "metadata": {},
   "outputs": [],
   "source": [
    "pd.options.display.max_columns = None"
   ]
  },
  {
   "cell_type": "code",
   "execution_count": 5,
   "metadata": {},
   "outputs": [],
   "source": [
    "RANDOM_SEED = 42"
   ]
  },
  {
   "cell_type": "markdown",
   "metadata": {},
   "source": [
    "## Load training data"
   ]
  },
  {
   "cell_type": "code",
   "execution_count": 6,
   "metadata": {},
   "outputs": [],
   "source": [
    "def load_all_data():\n",
    "    full_data = _load_all_historical_data()\n",
    "    full_data.sort_values(['name', 'season', 'gw'], inplace=True)\n",
    "\n",
    "    _map_season_string_to_ordered_numeric(full_data)\n",
    "    _generate_known_features_for_next_gw(full_data)\n",
    "\n",
    "    # Remove Brendan Galloway due to unexplained gap in gameweek data\n",
    "    full_data = full_data[full_data['name'] != 'brendan_galloway']\n",
    "    full_data.drop('ID', axis=1, inplace=True)\n",
    "\n",
    "#     logging.info(f\"Loaded historical data of shape {full_data.shape}\")\n",
    "\n",
    "    return full_data"
   ]
  },
  {
   "cell_type": "code",
   "execution_count": 7,
   "metadata": {},
   "outputs": [
    {
     "name": "stderr",
     "output_type": "stream",
     "text": [
      "2020-06-07 22:50:18,018 - Loading raw historical FPL data\n",
      "2020-06-07 22:50:18,228 - Creating season order column\n",
      "2020-06-07 22:50:18,234 - Generating known features for next GW\n"
     ]
    }
   ],
   "source": [
    "all_data = load_all_data()"
   ]
  },
  {
   "cell_type": "code",
   "execution_count": 8,
   "metadata": {},
   "outputs": [
    {
     "name": "stdout",
     "output_type": "stream",
     "text": [
      "(67797, 68)\n"
     ]
    },
    {
     "data": {
      "text/html": [
       "<div>\n",
       "<style scoped>\n",
       "    .dataframe tbody tr th:only-of-type {\n",
       "        vertical-align: middle;\n",
       "    }\n",
       "\n",
       "    .dataframe tbody tr th {\n",
       "        vertical-align: top;\n",
       "    }\n",
       "\n",
       "    .dataframe thead th {\n",
       "        text-align: right;\n",
       "    }\n",
       "</style>\n",
       "<table border=\"1\" class=\"dataframe\">\n",
       "  <thead>\n",
       "    <tr style=\"text-align: right;\">\n",
       "      <th></th>\n",
       "      <th>assists</th>\n",
       "      <th>bonus</th>\n",
       "      <th>bps</th>\n",
       "      <th>clean_sheets</th>\n",
       "      <th>creativity</th>\n",
       "      <th>goals_conceded</th>\n",
       "      <th>goals_scored</th>\n",
       "      <th>ict_index</th>\n",
       "      <th>influence</th>\n",
       "      <th>minutes</th>\n",
       "      <th>own_goals</th>\n",
       "      <th>penalties_missed</th>\n",
       "      <th>penalties_saved</th>\n",
       "      <th>red_cards</th>\n",
       "      <th>gw</th>\n",
       "      <th>saves</th>\n",
       "      <th>selected</th>\n",
       "      <th>team_a_score</th>\n",
       "      <th>team_h_score</th>\n",
       "      <th>threat</th>\n",
       "      <th>total_points</th>\n",
       "      <th>transfers_balance</th>\n",
       "      <th>transfers_in</th>\n",
       "      <th>transfers_out</th>\n",
       "      <th>value</th>\n",
       "      <th>was_home</th>\n",
       "      <th>yellow_cards</th>\n",
       "      <th>name</th>\n",
       "      <th>team_name</th>\n",
       "      <th>promoted_side</th>\n",
       "      <th>top_6_last_season</th>\n",
       "      <th>season</th>\n",
       "      <th>position_DEF</th>\n",
       "      <th>position_FWD</th>\n",
       "      <th>position_GK</th>\n",
       "      <th>position_MID</th>\n",
       "      <th>team_name_opponent</th>\n",
       "      <th>promoted_side_opponent</th>\n",
       "      <th>top_6_last_season_opponent</th>\n",
       "      <th>late_kickoff</th>\n",
       "      <th>early_kickoff</th>\n",
       "      <th>kickoff_month_Aug</th>\n",
       "      <th>kickoff_month_Sep</th>\n",
       "      <th>kickoff_month_Oct</th>\n",
       "      <th>kickoff_month_Nov</th>\n",
       "      <th>kickoff_month_Dec</th>\n",
       "      <th>kickoff_month_Jan</th>\n",
       "      <th>kickoff_month_Feb</th>\n",
       "      <th>kickoff_month_Mar</th>\n",
       "      <th>kickoff_month_Apr</th>\n",
       "      <th>kickoff_month_May</th>\n",
       "      <th>season_order</th>\n",
       "      <th>next_match_value</th>\n",
       "      <th>next_match_was_home</th>\n",
       "      <th>next_match_promoted_side_opponent</th>\n",
       "      <th>next_match_top_6_last_season_opponent</th>\n",
       "      <th>next_match_kickoff_month_Aug</th>\n",
       "      <th>next_match_kickoff_month_Sep</th>\n",
       "      <th>next_match_kickoff_month_Oct</th>\n",
       "      <th>next_match_kickoff_month_Nov</th>\n",
       "      <th>next_match_kickoff_month_Dec</th>\n",
       "      <th>next_match_kickoff_month_Jan</th>\n",
       "      <th>next_match_kickoff_month_Feb</th>\n",
       "      <th>next_match_kickoff_month_Mar</th>\n",
       "      <th>next_match_kickoff_month_Apr</th>\n",
       "      <th>next_match_kickoff_month_May</th>\n",
       "      <th>next_match_late_kickoff</th>\n",
       "      <th>next_match_early_kickoff</th>\n",
       "    </tr>\n",
       "  </thead>\n",
       "  <tbody>\n",
       "    <tr>\n",
       "      <th>0</th>\n",
       "      <td>0</td>\n",
       "      <td>0</td>\n",
       "      <td>0</td>\n",
       "      <td>0</td>\n",
       "      <td>0.0</td>\n",
       "      <td>0</td>\n",
       "      <td>0</td>\n",
       "      <td>0.0</td>\n",
       "      <td>0.0</td>\n",
       "      <td>0</td>\n",
       "      <td>0</td>\n",
       "      <td>0</td>\n",
       "      <td>0</td>\n",
       "      <td>0</td>\n",
       "      <td>1</td>\n",
       "      <td>0</td>\n",
       "      <td>14023</td>\n",
       "      <td>1</td>\n",
       "      <td>2</td>\n",
       "      <td>0.0</td>\n",
       "      <td>0</td>\n",
       "      <td>0</td>\n",
       "      <td>0</td>\n",
       "      <td>0</td>\n",
       "      <td>5.5</td>\n",
       "      <td>False</td>\n",
       "      <td>0</td>\n",
       "      <td>aaron_cresswell</td>\n",
       "      <td>West Ham United</td>\n",
       "      <td>0</td>\n",
       "      <td>0</td>\n",
       "      <td>2016-17</td>\n",
       "      <td>1</td>\n",
       "      <td>0</td>\n",
       "      <td>0</td>\n",
       "      <td>0</td>\n",
       "      <td>Chelsea</td>\n",
       "      <td>0</td>\n",
       "      <td>0</td>\n",
       "      <td>1</td>\n",
       "      <td>0</td>\n",
       "      <td>1</td>\n",
       "      <td>0</td>\n",
       "      <td>0</td>\n",
       "      <td>0</td>\n",
       "      <td>0</td>\n",
       "      <td>0</td>\n",
       "      <td>0</td>\n",
       "      <td>0</td>\n",
       "      <td>0</td>\n",
       "      <td>0</td>\n",
       "      <td>1</td>\n",
       "      <td>5.5</td>\n",
       "      <td>1.0</td>\n",
       "      <td>0.0</td>\n",
       "      <td>0.0</td>\n",
       "      <td>1.0</td>\n",
       "      <td>0.0</td>\n",
       "      <td>0.0</td>\n",
       "      <td>0.0</td>\n",
       "      <td>0.0</td>\n",
       "      <td>0.0</td>\n",
       "      <td>0.0</td>\n",
       "      <td>0.0</td>\n",
       "      <td>0.0</td>\n",
       "      <td>0.0</td>\n",
       "      <td>0.0</td>\n",
       "      <td>0.0</td>\n",
       "    </tr>\n",
       "    <tr>\n",
       "      <th>1</th>\n",
       "      <td>0</td>\n",
       "      <td>0</td>\n",
       "      <td>0</td>\n",
       "      <td>0</td>\n",
       "      <td>0.0</td>\n",
       "      <td>0</td>\n",
       "      <td>0</td>\n",
       "      <td>0.0</td>\n",
       "      <td>0.0</td>\n",
       "      <td>0</td>\n",
       "      <td>0</td>\n",
       "      <td>0</td>\n",
       "      <td>0</td>\n",
       "      <td>0</td>\n",
       "      <td>2</td>\n",
       "      <td>0</td>\n",
       "      <td>11531</td>\n",
       "      <td>0</td>\n",
       "      <td>1</td>\n",
       "      <td>0.0</td>\n",
       "      <td>0</td>\n",
       "      <td>-3002</td>\n",
       "      <td>79</td>\n",
       "      <td>3081</td>\n",
       "      <td>5.5</td>\n",
       "      <td>True</td>\n",
       "      <td>0</td>\n",
       "      <td>aaron_cresswell</td>\n",
       "      <td>West Ham United</td>\n",
       "      <td>0</td>\n",
       "      <td>0</td>\n",
       "      <td>2016-17</td>\n",
       "      <td>1</td>\n",
       "      <td>0</td>\n",
       "      <td>0</td>\n",
       "      <td>0</td>\n",
       "      <td>Bournemouth</td>\n",
       "      <td>0</td>\n",
       "      <td>0</td>\n",
       "      <td>0</td>\n",
       "      <td>0</td>\n",
       "      <td>1</td>\n",
       "      <td>0</td>\n",
       "      <td>0</td>\n",
       "      <td>0</td>\n",
       "      <td>0</td>\n",
       "      <td>0</td>\n",
       "      <td>0</td>\n",
       "      <td>0</td>\n",
       "      <td>0</td>\n",
       "      <td>0</td>\n",
       "      <td>1</td>\n",
       "      <td>5.4</td>\n",
       "      <td>0.0</td>\n",
       "      <td>0.0</td>\n",
       "      <td>1.0</td>\n",
       "      <td>1.0</td>\n",
       "      <td>0.0</td>\n",
       "      <td>0.0</td>\n",
       "      <td>0.0</td>\n",
       "      <td>0.0</td>\n",
       "      <td>0.0</td>\n",
       "      <td>0.0</td>\n",
       "      <td>0.0</td>\n",
       "      <td>0.0</td>\n",
       "      <td>0.0</td>\n",
       "      <td>0.0</td>\n",
       "      <td>0.0</td>\n",
       "    </tr>\n",
       "    <tr>\n",
       "      <th>2</th>\n",
       "      <td>0</td>\n",
       "      <td>0</td>\n",
       "      <td>0</td>\n",
       "      <td>0</td>\n",
       "      <td>0.0</td>\n",
       "      <td>0</td>\n",
       "      <td>0</td>\n",
       "      <td>0.0</td>\n",
       "      <td>0.0</td>\n",
       "      <td>0</td>\n",
       "      <td>0</td>\n",
       "      <td>0</td>\n",
       "      <td>0</td>\n",
       "      <td>0</td>\n",
       "      <td>3</td>\n",
       "      <td>0</td>\n",
       "      <td>9587</td>\n",
       "      <td>1</td>\n",
       "      <td>3</td>\n",
       "      <td>0.0</td>\n",
       "      <td>0</td>\n",
       "      <td>-2053</td>\n",
       "      <td>28</td>\n",
       "      <td>2081</td>\n",
       "      <td>5.4</td>\n",
       "      <td>False</td>\n",
       "      <td>0</td>\n",
       "      <td>aaron_cresswell</td>\n",
       "      <td>West Ham United</td>\n",
       "      <td>0</td>\n",
       "      <td>0</td>\n",
       "      <td>2016-17</td>\n",
       "      <td>1</td>\n",
       "      <td>0</td>\n",
       "      <td>0</td>\n",
       "      <td>0</td>\n",
       "      <td>Manchester City</td>\n",
       "      <td>0</td>\n",
       "      <td>1</td>\n",
       "      <td>0</td>\n",
       "      <td>0</td>\n",
       "      <td>1</td>\n",
       "      <td>0</td>\n",
       "      <td>0</td>\n",
       "      <td>0</td>\n",
       "      <td>0</td>\n",
       "      <td>0</td>\n",
       "      <td>0</td>\n",
       "      <td>0</td>\n",
       "      <td>0</td>\n",
       "      <td>0</td>\n",
       "      <td>1</td>\n",
       "      <td>5.4</td>\n",
       "      <td>1.0</td>\n",
       "      <td>0.0</td>\n",
       "      <td>0.0</td>\n",
       "      <td>0.0</td>\n",
       "      <td>1.0</td>\n",
       "      <td>0.0</td>\n",
       "      <td>0.0</td>\n",
       "      <td>0.0</td>\n",
       "      <td>0.0</td>\n",
       "      <td>0.0</td>\n",
       "      <td>0.0</td>\n",
       "      <td>0.0</td>\n",
       "      <td>0.0</td>\n",
       "      <td>0.0</td>\n",
       "      <td>0.0</td>\n",
       "    </tr>\n",
       "    <tr>\n",
       "      <th>3</th>\n",
       "      <td>0</td>\n",
       "      <td>0</td>\n",
       "      <td>0</td>\n",
       "      <td>0</td>\n",
       "      <td>0.0</td>\n",
       "      <td>0</td>\n",
       "      <td>0</td>\n",
       "      <td>0.0</td>\n",
       "      <td>0.0</td>\n",
       "      <td>0</td>\n",
       "      <td>0</td>\n",
       "      <td>0</td>\n",
       "      <td>0</td>\n",
       "      <td>0</td>\n",
       "      <td>4</td>\n",
       "      <td>0</td>\n",
       "      <td>8427</td>\n",
       "      <td>4</td>\n",
       "      <td>2</td>\n",
       "      <td>0.0</td>\n",
       "      <td>0</td>\n",
       "      <td>-1221</td>\n",
       "      <td>45</td>\n",
       "      <td>1266</td>\n",
       "      <td>5.4</td>\n",
       "      <td>True</td>\n",
       "      <td>0</td>\n",
       "      <td>aaron_cresswell</td>\n",
       "      <td>West Ham United</td>\n",
       "      <td>0</td>\n",
       "      <td>0</td>\n",
       "      <td>2016-17</td>\n",
       "      <td>1</td>\n",
       "      <td>0</td>\n",
       "      <td>0</td>\n",
       "      <td>0</td>\n",
       "      <td>Watford</td>\n",
       "      <td>0</td>\n",
       "      <td>0</td>\n",
       "      <td>0</td>\n",
       "      <td>0</td>\n",
       "      <td>0</td>\n",
       "      <td>1</td>\n",
       "      <td>0</td>\n",
       "      <td>0</td>\n",
       "      <td>0</td>\n",
       "      <td>0</td>\n",
       "      <td>0</td>\n",
       "      <td>0</td>\n",
       "      <td>0</td>\n",
       "      <td>0</td>\n",
       "      <td>1</td>\n",
       "      <td>5.4</td>\n",
       "      <td>0.0</td>\n",
       "      <td>0.0</td>\n",
       "      <td>0.0</td>\n",
       "      <td>0.0</td>\n",
       "      <td>1.0</td>\n",
       "      <td>0.0</td>\n",
       "      <td>0.0</td>\n",
       "      <td>0.0</td>\n",
       "      <td>0.0</td>\n",
       "      <td>0.0</td>\n",
       "      <td>0.0</td>\n",
       "      <td>0.0</td>\n",
       "      <td>0.0</td>\n",
       "      <td>0.0</td>\n",
       "      <td>0.0</td>\n",
       "    </tr>\n",
       "    <tr>\n",
       "      <th>4</th>\n",
       "      <td>0</td>\n",
       "      <td>0</td>\n",
       "      <td>0</td>\n",
       "      <td>0</td>\n",
       "      <td>0.0</td>\n",
       "      <td>0</td>\n",
       "      <td>0</td>\n",
       "      <td>0.0</td>\n",
       "      <td>0.0</td>\n",
       "      <td>0</td>\n",
       "      <td>0</td>\n",
       "      <td>0</td>\n",
       "      <td>0</td>\n",
       "      <td>0</td>\n",
       "      <td>5</td>\n",
       "      <td>0</td>\n",
       "      <td>7933</td>\n",
       "      <td>2</td>\n",
       "      <td>4</td>\n",
       "      <td>0.0</td>\n",
       "      <td>0</td>\n",
       "      <td>-520</td>\n",
       "      <td>29</td>\n",
       "      <td>549</td>\n",
       "      <td>5.4</td>\n",
       "      <td>False</td>\n",
       "      <td>0</td>\n",
       "      <td>aaron_cresswell</td>\n",
       "      <td>West Ham United</td>\n",
       "      <td>0</td>\n",
       "      <td>0</td>\n",
       "      <td>2016-17</td>\n",
       "      <td>1</td>\n",
       "      <td>0</td>\n",
       "      <td>0</td>\n",
       "      <td>0</td>\n",
       "      <td>West Bromwich Albion</td>\n",
       "      <td>0</td>\n",
       "      <td>0</td>\n",
       "      <td>0</td>\n",
       "      <td>0</td>\n",
       "      <td>0</td>\n",
       "      <td>1</td>\n",
       "      <td>0</td>\n",
       "      <td>0</td>\n",
       "      <td>0</td>\n",
       "      <td>0</td>\n",
       "      <td>0</td>\n",
       "      <td>0</td>\n",
       "      <td>0</td>\n",
       "      <td>0</td>\n",
       "      <td>1</td>\n",
       "      <td>5.4</td>\n",
       "      <td>1.0</td>\n",
       "      <td>0.0</td>\n",
       "      <td>1.0</td>\n",
       "      <td>0.0</td>\n",
       "      <td>1.0</td>\n",
       "      <td>0.0</td>\n",
       "      <td>0.0</td>\n",
       "      <td>0.0</td>\n",
       "      <td>0.0</td>\n",
       "      <td>0.0</td>\n",
       "      <td>0.0</td>\n",
       "      <td>0.0</td>\n",
       "      <td>0.0</td>\n",
       "      <td>0.0</td>\n",
       "      <td>0.0</td>\n",
       "    </tr>\n",
       "  </tbody>\n",
       "</table>\n",
       "</div>"
      ],
      "text/plain": [
       "   assists  bonus  bps  clean_sheets  creativity  goals_conceded  \\\n",
       "0        0      0    0             0         0.0               0   \n",
       "1        0      0    0             0         0.0               0   \n",
       "2        0      0    0             0         0.0               0   \n",
       "3        0      0    0             0         0.0               0   \n",
       "4        0      0    0             0         0.0               0   \n",
       "\n",
       "   goals_scored  ict_index  influence  minutes  own_goals  penalties_missed  \\\n",
       "0             0        0.0        0.0        0          0                 0   \n",
       "1             0        0.0        0.0        0          0                 0   \n",
       "2             0        0.0        0.0        0          0                 0   \n",
       "3             0        0.0        0.0        0          0                 0   \n",
       "4             0        0.0        0.0        0          0                 0   \n",
       "\n",
       "   penalties_saved  red_cards  gw  saves  selected  team_a_score  \\\n",
       "0                0          0   1      0     14023             1   \n",
       "1                0          0   2      0     11531             0   \n",
       "2                0          0   3      0      9587             1   \n",
       "3                0          0   4      0      8427             4   \n",
       "4                0          0   5      0      7933             2   \n",
       "\n",
       "   team_h_score  threat  total_points  transfers_balance  transfers_in  \\\n",
       "0             2     0.0             0                  0             0   \n",
       "1             1     0.0             0              -3002            79   \n",
       "2             3     0.0             0              -2053            28   \n",
       "3             2     0.0             0              -1221            45   \n",
       "4             4     0.0             0               -520            29   \n",
       "\n",
       "   transfers_out  value  was_home  yellow_cards             name  \\\n",
       "0              0    5.5     False             0  aaron_cresswell   \n",
       "1           3081    5.5      True             0  aaron_cresswell   \n",
       "2           2081    5.4     False             0  aaron_cresswell   \n",
       "3           1266    5.4      True             0  aaron_cresswell   \n",
       "4            549    5.4     False             0  aaron_cresswell   \n",
       "\n",
       "         team_name  promoted_side  top_6_last_season   season  position_DEF  \\\n",
       "0  West Ham United              0                  0  2016-17             1   \n",
       "1  West Ham United              0                  0  2016-17             1   \n",
       "2  West Ham United              0                  0  2016-17             1   \n",
       "3  West Ham United              0                  0  2016-17             1   \n",
       "4  West Ham United              0                  0  2016-17             1   \n",
       "\n",
       "   position_FWD  position_GK  position_MID    team_name_opponent  \\\n",
       "0             0            0             0               Chelsea   \n",
       "1             0            0             0           Bournemouth   \n",
       "2             0            0             0       Manchester City   \n",
       "3             0            0             0               Watford   \n",
       "4             0            0             0  West Bromwich Albion   \n",
       "\n",
       "   promoted_side_opponent  top_6_last_season_opponent  late_kickoff  \\\n",
       "0                       0                           0             1   \n",
       "1                       0                           0             0   \n",
       "2                       0                           1             0   \n",
       "3                       0                           0             0   \n",
       "4                       0                           0             0   \n",
       "\n",
       "   early_kickoff  kickoff_month_Aug  kickoff_month_Sep  kickoff_month_Oct  \\\n",
       "0              0                  1                  0                  0   \n",
       "1              0                  1                  0                  0   \n",
       "2              0                  1                  0                  0   \n",
       "3              0                  0                  1                  0   \n",
       "4              0                  0                  1                  0   \n",
       "\n",
       "   kickoff_month_Nov  kickoff_month_Dec  kickoff_month_Jan  kickoff_month_Feb  \\\n",
       "0                  0                  0                  0                  0   \n",
       "1                  0                  0                  0                  0   \n",
       "2                  0                  0                  0                  0   \n",
       "3                  0                  0                  0                  0   \n",
       "4                  0                  0                  0                  0   \n",
       "\n",
       "   kickoff_month_Mar  kickoff_month_Apr  kickoff_month_May  season_order  \\\n",
       "0                  0                  0                  0             1   \n",
       "1                  0                  0                  0             1   \n",
       "2                  0                  0                  0             1   \n",
       "3                  0                  0                  0             1   \n",
       "4                  0                  0                  0             1   \n",
       "\n",
       "   next_match_value  next_match_was_home  next_match_promoted_side_opponent  \\\n",
       "0               5.5                  1.0                                0.0   \n",
       "1               5.4                  0.0                                0.0   \n",
       "2               5.4                  1.0                                0.0   \n",
       "3               5.4                  0.0                                0.0   \n",
       "4               5.4                  1.0                                0.0   \n",
       "\n",
       "   next_match_top_6_last_season_opponent  next_match_kickoff_month_Aug  \\\n",
       "0                                    0.0                           1.0   \n",
       "1                                    1.0                           1.0   \n",
       "2                                    0.0                           0.0   \n",
       "3                                    0.0                           0.0   \n",
       "4                                    1.0                           0.0   \n",
       "\n",
       "   next_match_kickoff_month_Sep  next_match_kickoff_month_Oct  \\\n",
       "0                           0.0                           0.0   \n",
       "1                           0.0                           0.0   \n",
       "2                           1.0                           0.0   \n",
       "3                           1.0                           0.0   \n",
       "4                           1.0                           0.0   \n",
       "\n",
       "   next_match_kickoff_month_Nov  next_match_kickoff_month_Dec  \\\n",
       "0                           0.0                           0.0   \n",
       "1                           0.0                           0.0   \n",
       "2                           0.0                           0.0   \n",
       "3                           0.0                           0.0   \n",
       "4                           0.0                           0.0   \n",
       "\n",
       "   next_match_kickoff_month_Jan  next_match_kickoff_month_Feb  \\\n",
       "0                           0.0                           0.0   \n",
       "1                           0.0                           0.0   \n",
       "2                           0.0                           0.0   \n",
       "3                           0.0                           0.0   \n",
       "4                           0.0                           0.0   \n",
       "\n",
       "   next_match_kickoff_month_Mar  next_match_kickoff_month_Apr  \\\n",
       "0                           0.0                           0.0   \n",
       "1                           0.0                           0.0   \n",
       "2                           0.0                           0.0   \n",
       "3                           0.0                           0.0   \n",
       "4                           0.0                           0.0   \n",
       "\n",
       "   next_match_kickoff_month_May  next_match_late_kickoff  \\\n",
       "0                           0.0                      0.0   \n",
       "1                           0.0                      0.0   \n",
       "2                           0.0                      0.0   \n",
       "3                           0.0                      0.0   \n",
       "4                           0.0                      0.0   \n",
       "\n",
       "   next_match_early_kickoff  \n",
       "0                       0.0  \n",
       "1                       0.0  \n",
       "2                       0.0  \n",
       "3                       0.0  \n",
       "4                       0.0  "
      ]
     },
     "execution_count": 8,
     "metadata": {},
     "output_type": "execute_result"
    }
   ],
   "source": [
    "print(all_data.shape)\n",
    "all_data.head()"
   ]
  },
  {
   "cell_type": "code",
   "execution_count": 9,
   "metadata": {},
   "outputs": [
    {
     "data": {
      "text/plain": [
       "array(['2016-17', '2017-18', '2018-19'], dtype=object)"
      ]
     },
     "execution_count": 9,
     "metadata": {},
     "output_type": "execute_result"
    }
   ],
   "source": [
    "all_data['season'].unique()"
   ]
  },
  {
   "cell_type": "markdown",
   "metadata": {},
   "source": [
    "### Create target"
   ]
  },
  {
   "cell_type": "code",
   "execution_count": 10,
   "metadata": {},
   "outputs": [],
   "source": [
    "all_data['total_points_plus1_gw'] = all_data.groupby(['name'])['total_points'].shift(-1)\n",
    "all_data = all_data[~all_data['total_points_plus1_gw'].isnull()]  # drop nulls (last gw)"
   ]
  },
  {
   "cell_type": "markdown",
   "metadata": {},
   "source": [
    "### Train/dev/test split"
   ]
  },
  {
   "cell_type": "markdown",
   "metadata": {},
   "source": [
    "We now added a random_state parameter to `custom_train_test_split` to ensure consistent training sets"
   ]
  },
  {
   "cell_type": "code",
   "execution_count": 11,
   "metadata": {},
   "outputs": [
    {
     "name": "stdout",
     "output_type": "stream",
     "text": [
      "Proportion in test set: 0.09869880673982132\n",
      "Test set size: (6584, 70)\n",
      "Training set size: (60124, 70)\n"
     ]
    },
    {
     "name": "stderr",
     "output_type": "stream",
     "text": [
      "/Users/stevengeorge/opt/anaconda3/envs/fpl-analysis/lib/python3.7/site-packages/pandas/core/frame.py:3997: SettingWithCopyWarning: \n",
      "A value is trying to be set on a copy of a slice from a DataFrame\n",
      "\n",
      "See the caveats in the documentation: https://pandas.pydata.org/pandas-docs/stable/user_guide/indexing.html#returning-a-view-versus-a-copy\n",
      "  errors=errors,\n"
     ]
    }
   ],
   "source": [
    "training_df, test_df = custom_train_test_split(all_data, random_state=RANDOM_SEED, rand_sample_prop=0.0027)"
   ]
  },
  {
   "cell_type": "code",
   "execution_count": 12,
   "metadata": {},
   "outputs": [
    {
     "name": "stdout",
     "output_type": "stream",
     "text": [
      "Proportion in test set: 0.10238839731222141\n",
      "Test set size: (6156, 70)\n",
      "Training set size: (53968, 70)\n"
     ]
    }
   ],
   "source": [
    "training_df, dev_df = custom_train_test_split(training_df, random_state=RANDOM_SEED, rand_sample_prop=0.003)"
   ]
  },
  {
   "cell_type": "code",
   "execution_count": 13,
   "metadata": {},
   "outputs": [
    {
     "name": "stdout",
     "output_type": "stream",
     "text": [
      "Proportion training: 0.8090184085866763\n",
      "Proportion dev: 0.09228278467350243\n",
      "Proportion test: 0.09869880673982132\n"
     ]
    }
   ],
   "source": [
    "print(f\"Proportion training: {training_df.shape[0]/all_data.shape[0]}\")\n",
    "print(f\"Proportion dev: {dev_df.shape[0]/all_data.shape[0]}\")\n",
    "print(f\"Proportion test: {test_df.shape[0]/all_data.shape[0]}\")"
   ]
  },
  {
   "cell_type": "markdown",
   "metadata": {},
   "source": [
    "We now get a close 80/10/10 split"
   ]
  },
  {
   "cell_type": "code",
   "execution_count": 14,
   "metadata": {},
   "outputs": [],
   "source": [
    "mms = _load_model_from_pickle('src/models/pickles/min_max_scalar_lstm_v4.pickle')\n",
    "COLUMNS_TO_SCALE = _load_model_from_pickle('src/models/pickles/min_max_scalar_columns_v4.pickle')"
   ]
  },
  {
   "cell_type": "markdown",
   "metadata": {},
   "source": [
    "### Filter out ineligible players"
   ]
  },
  {
   "cell_type": "code",
   "execution_count": 15,
   "metadata": {},
   "outputs": [],
   "source": [
    "N_STEPS_IN = 5\n",
    "N_STEPS_OUT = 5"
   ]
  },
  {
   "cell_type": "code",
   "execution_count": 16,
   "metadata": {},
   "outputs": [],
   "source": [
    "def filter_eligible_players(training_subset_df):\n",
    "    training_subset_df['total_number_of_gameweeks'] = training_subset_df.groupby(['name']).transform('count')['team_name']\n",
    "    training_subset_df = training_subset_df[training_subset_df['total_number_of_gameweeks'] >= (N_STEPS_IN + N_STEPS_OUT - 1)]\n",
    "    training_subset_df.drop('total_number_of_gameweeks', axis=1, inplace=True)\n",
    "    \n",
    "    return training_subset_df"
   ]
  },
  {
   "cell_type": "code",
   "execution_count": 17,
   "metadata": {},
   "outputs": [],
   "source": [
    "training_df = filter_eligible_players(training_df)\n",
    "dev_df = filter_eligible_players(dev_df)\n",
    "test_df = filter_eligible_players(test_df)"
   ]
  },
  {
   "cell_type": "code",
   "execution_count": 18,
   "metadata": {},
   "outputs": [],
   "source": [
    "def prepare_data_for_lstm(df):\n",
    "    df = df.copy()    \n",
    "    df[COLUMNS_TO_SCALE] = mms.transform(df[COLUMNS_TO_SCALE])\n",
    "\n",
    "    X_list = []\n",
    "    y_list = []\n",
    "\n",
    "    for player in list(df['name'].unique()):\n",
    "        player_df = df[df['name'] == player]\n",
    "        player_df.drop(\n",
    "            COLUMNS_TO_DROP_FOR_TRAINING,\n",
    "            axis=1,\n",
    "            inplace=True\n",
    "        )\n",
    "        X_player, y_player = split_sequences(\n",
    "            df=player_df,\n",
    "            target_column='total_points_plus1_gw',\n",
    "            n_steps_in=N_STEPS_IN,\n",
    "            n_steps_out=N_STEPS_OUT\n",
    "        )\n",
    "        X_list.append(X_player)\n",
    "        y_list.append(y_player)\n",
    "\n",
    "    X = np.concatenate(X_list, axis=0)\n",
    "    y = np.concatenate(y_list, axis=0)\n",
    "    print(X.shape)\n",
    "    print(y.shape)\n",
    "    \n",
    "    return X, y"
   ]
  },
  {
   "cell_type": "code",
   "execution_count": 19,
   "metadata": {},
   "outputs": [
    {
     "name": "stderr",
     "output_type": "stream",
     "text": [
      "/Users/stevengeorge/opt/anaconda3/envs/fpl-analysis/lib/python3.7/site-packages/pandas/core/frame.py:3997: SettingWithCopyWarning: \n",
      "A value is trying to be set on a copy of a slice from a DataFrame\n",
      "\n",
      "See the caveats in the documentation: https://pandas.pydata.org/pandas-docs/stable/user_guide/indexing.html#returning-a-view-versus-a-copy\n",
      "  errors=errors,\n"
     ]
    },
    {
     "name": "stdout",
     "output_type": "stream",
     "text": [
      "(45691, 5, 63)\n",
      "(45691, 5)\n"
     ]
    },
    {
     "name": "stderr",
     "output_type": "stream",
     "text": [
      "/Users/stevengeorge/opt/anaconda3/envs/fpl-analysis/lib/python3.7/site-packages/pandas/core/frame.py:3997: SettingWithCopyWarning: \n",
      "A value is trying to be set on a copy of a slice from a DataFrame\n",
      "\n",
      "See the caveats in the documentation: https://pandas.pydata.org/pandas-docs/stable/user_guide/indexing.html#returning-a-view-versus-a-copy\n",
      "  errors=errors,\n"
     ]
    },
    {
     "name": "stdout",
     "output_type": "stream",
     "text": [
      "(4995, 5, 63)\n",
      "(4995, 5)\n"
     ]
    },
    {
     "name": "stderr",
     "output_type": "stream",
     "text": [
      "/Users/stevengeorge/opt/anaconda3/envs/fpl-analysis/lib/python3.7/site-packages/pandas/core/frame.py:3997: SettingWithCopyWarning: \n",
      "A value is trying to be set on a copy of a slice from a DataFrame\n",
      "\n",
      "See the caveats in the documentation: https://pandas.pydata.org/pandas-docs/stable/user_guide/indexing.html#returning-a-view-versus-a-copy\n",
      "  errors=errors,\n"
     ]
    },
    {
     "name": "stdout",
     "output_type": "stream",
     "text": [
      "(5355, 5, 63)\n",
      "(5355, 5)\n"
     ]
    }
   ],
   "source": [
    "X_train, y_train = prepare_data_for_lstm(training_df)\n",
    "X_dev, y_dev = prepare_data_for_lstm(dev_df)\n",
    "X_test, y_test = prepare_data_for_lstm(test_df)"
   ]
  },
  {
   "cell_type": "markdown",
   "metadata": {},
   "source": [
    "## Model using existing feature set\n",
    "\n",
    "Load best model architecture"
   ]
  },
  {
   "cell_type": "code",
   "execution_count": 20,
   "metadata": {},
   "outputs": [],
   "source": [
    "from src.models.LSTM.bayes_hyperparameter_search import create_model"
   ]
  },
  {
   "cell_type": "code",
   "execution_count": 21,
   "metadata": {},
   "outputs": [],
   "source": [
    "colab_trials_dict = pickle.load(open('src/models/pickles/colab_trials_dict.pickle', 'rb'))"
   ]
  },
  {
   "cell_type": "code",
   "execution_count": 22,
   "metadata": {},
   "outputs": [
    {
     "data": {
      "text/plain": [
       "dict_keys(['bayes_trials', 'best'])"
      ]
     },
     "execution_count": 22,
     "metadata": {},
     "output_type": "execute_result"
    }
   ],
   "source": [
    "colab_trials_dict.keys()"
   ]
  },
  {
   "cell_type": "code",
   "execution_count": 23,
   "metadata": {},
   "outputs": [],
   "source": [
    "bayes_trials = colab_trials_dict['bayes_trials']\n",
    "best = colab_trials_dict['best']"
   ]
  },
  {
   "cell_type": "code",
   "execution_count": 24,
   "metadata": {},
   "outputs": [
    {
     "data": {
      "text/plain": [
       "{'batch_size': 527.0,\n",
       " 'dense_dropout': 0.46,\n",
       " 'dense_units': 25.0,\n",
       " 'learning_rate': 0.0010974169408205815,\n",
       " 'lstm_dropout': 0.02,\n",
       " 'lstm_output_dropout': 0.03,\n",
       " 'lstm_recurrent_dropout': 0.5,\n",
       " 'lstm_units': 15.0,\n",
       " 'n_dense_layers': 0.0,\n",
       " 'n_lstm_layers': 1.0}"
      ]
     },
     "execution_count": 24,
     "metadata": {},
     "output_type": "execute_result"
    }
   ],
   "source": [
    "best"
   ]
  },
  {
   "cell_type": "code",
   "execution_count": 25,
   "metadata": {},
   "outputs": [],
   "source": [
    "hyperparams = best.copy()"
   ]
  },
  {
   "cell_type": "code",
   "execution_count": 26,
   "metadata": {},
   "outputs": [],
   "source": [
    "fitting_params = {}\n",
    "fitting_params['learning_rate'] = hyperparams['learning_rate']\n",
    "fitting_params['batch_size'] = hyperparams['batch_size']\n",
    "\n",
    "del hyperparams['learning_rate'], hyperparams['batch_size']"
   ]
  },
  {
   "cell_type": "code",
   "execution_count": 27,
   "metadata": {},
   "outputs": [
    {
     "data": {
      "text/plain": [
       "{'dense_dropout': 0.46,\n",
       " 'dense_units': 25.0,\n",
       " 'lstm_dropout': 0.02,\n",
       " 'lstm_output_dropout': 0.03,\n",
       " 'lstm_recurrent_dropout': 0.5,\n",
       " 'lstm_units': 15.0,\n",
       " 'n_dense_layers': 0.0,\n",
       " 'n_lstm_layers': 1.0}"
      ]
     },
     "execution_count": 27,
     "metadata": {},
     "output_type": "execute_result"
    }
   ],
   "source": [
    "hyperparams"
   ]
  },
  {
   "cell_type": "code",
   "execution_count": 28,
   "metadata": {},
   "outputs": [
    {
     "data": {
      "text/plain": [
       "{'learning_rate': 0.0010974169408205815, 'batch_size': 527.0}"
      ]
     },
     "execution_count": 28,
     "metadata": {},
     "output_type": "execute_result"
    }
   ],
   "source": [
    "fitting_params"
   ]
  },
  {
   "cell_type": "code",
   "execution_count": 29,
   "metadata": {},
   "outputs": [],
   "source": [
    "fitting_params['batch_size'] = int(fitting_params['batch_size'])"
   ]
  },
  {
   "cell_type": "code",
   "execution_count": 30,
   "metadata": {},
   "outputs": [],
   "source": [
    "INTEGER_PARAMS = ['n_lstm_layers', 'lstm_units', 'n_dense_layers', 'dense_units', 'batch_size']\n",
    "\n",
    "for hyper in INTEGER_PARAMS:\n",
    "    try:\n",
    "        as_int = int(hyperparams[hyper])\n",
    "        hyperparams[hyper] = as_int\n",
    "    except:\n",
    "        continue"
   ]
  },
  {
   "cell_type": "code",
   "execution_count": 35,
   "metadata": {},
   "outputs": [],
   "source": [
    "colab_model = create_model(n_steps_in=N_STEPS_IN, n_steps_out=N_STEPS_OUT, n_features=63, **hyperparams)"
   ]
  },
  {
   "cell_type": "code",
   "execution_count": 36,
   "metadata": {},
   "outputs": [
    {
     "name": "stdout",
     "output_type": "stream",
     "text": [
      "Model: \"lstm_model\"\n",
      "_________________________________________________________________\n",
      "Layer (type)                 Output Shape              Param #   \n",
      "=================================================================\n",
      "lstm_layer_1 (LSTM)          (None, 15)                4740      \n",
      "_________________________________________________________________\n",
      "lstm_layer_1_dropout (Dropou (None, 15)                0         \n",
      "_________________________________________________________________\n",
      "dense_output (Dense)         (None, 5)                 80        \n",
      "=================================================================\n",
      "Total params: 4,820\n",
      "Trainable params: 4,820\n",
      "Non-trainable params: 0\n",
      "_________________________________________________________________\n"
     ]
    }
   ],
   "source": [
    "colab_model.summary()"
   ]
  },
  {
   "cell_type": "code",
   "execution_count": 37,
   "metadata": {},
   "outputs": [],
   "source": [
    "# Compile model\n",
    "optimizer = optimizers.Adam(learning_rate=fitting_params['learning_rate'])\n",
    "colab_model.compile(loss='mse', optimizer=optimizer)"
   ]
  },
  {
   "cell_type": "code",
   "execution_count": 38,
   "metadata": {},
   "outputs": [
    {
     "name": "stdout",
     "output_type": "stream",
     "text": [
      "Train on 45691 samples, validate on 4995 samples\n",
      "Epoch 1/30\n",
      "45691/45691 [==============================] - 2s 35us/step - loss: 6.5371 - val_loss: 7.6259\n",
      "Epoch 2/30\n",
      "45691/45691 [==============================] - 1s 25us/step - loss: 5.3034 - val_loss: 6.7703\n",
      "Epoch 3/30\n",
      "45691/45691 [==============================] - 1s 25us/step - loss: 4.9796 - val_loss: 6.6336\n",
      "Epoch 4/30\n",
      "45691/45691 [==============================] - 1s 24us/step - loss: 4.9002 - val_loss: 6.5744\n",
      "Epoch 5/30\n",
      "45691/45691 [==============================] - 1s 24us/step - loss: 4.8571 - val_loss: 6.5410\n",
      "Epoch 6/30\n",
      "45691/45691 [==============================] - 1s 25us/step - loss: 4.8349 - val_loss: 6.5155\n",
      "Epoch 7/30\n",
      "45691/45691 [==============================] - 1s 25us/step - loss: 4.8196 - val_loss: 6.5052\n",
      "Epoch 8/30\n",
      "45691/45691 [==============================] - 1s 25us/step - loss: 4.8098 - val_loss: 6.4933\n",
      "Epoch 9/30\n",
      "45691/45691 [==============================] - 1s 25us/step - loss: 4.7982 - val_loss: 6.4910\n",
      "Epoch 10/30\n",
      "45691/45691 [==============================] - 1s 25us/step - loss: 4.7931 - val_loss: 6.4791\n",
      "Epoch 11/30\n",
      "45691/45691 [==============================] - 1s 26us/step - loss: 4.7829 - val_loss: 6.4725\n",
      "Epoch 12/30\n",
      "45691/45691 [==============================] - 1s 25us/step - loss: 4.7767 - val_loss: 6.4674\n",
      "Epoch 13/30\n",
      "45691/45691 [==============================] - 1s 25us/step - loss: 4.7742 - val_loss: 6.4608\n",
      "Epoch 14/30\n",
      "45691/45691 [==============================] - 1s 26us/step - loss: 4.7671 - val_loss: 6.4599\n",
      "Epoch 15/30\n",
      "45691/45691 [==============================] - 1s 26us/step - loss: 4.7635 - val_loss: 6.4537\n",
      "Epoch 16/30\n",
      "45691/45691 [==============================] - 1s 26us/step - loss: 4.7554 - val_loss: 6.4565\n",
      "Epoch 17/30\n",
      "45691/45691 [==============================] - 1s 26us/step - loss: 4.7557 - val_loss: 6.4462\n",
      "Epoch 18/30\n",
      "45691/45691 [==============================] - 1s 25us/step - loss: 4.7462 - val_loss: 6.4481\n",
      "Epoch 19/30\n",
      "45691/45691 [==============================] - 1s 26us/step - loss: 4.7431 - val_loss: 6.4431\n",
      "Epoch 20/30\n",
      "45691/45691 [==============================] - 1s 25us/step - loss: 4.7425 - val_loss: 6.4392\n",
      "Epoch 21/30\n",
      "45691/45691 [==============================] - 1s 26us/step - loss: 4.7388 - val_loss: 6.4391\n",
      "Epoch 22/30\n",
      "45691/45691 [==============================] - 1s 25us/step - loss: 4.7355 - val_loss: 6.4413\n",
      "Epoch 23/30\n",
      "45691/45691 [==============================] - 1s 25us/step - loss: 4.7336 - val_loss: 6.4350\n",
      "Epoch 24/30\n",
      "45691/45691 [==============================] - 1s 26us/step - loss: 4.7291 - val_loss: 6.4311\n",
      "Epoch 25/30\n",
      "45691/45691 [==============================] - 1s 26us/step - loss: 4.7244 - val_loss: 6.4246\n",
      "Epoch 26/30\n",
      "45691/45691 [==============================] - 1s 26us/step - loss: 4.7256 - val_loss: 6.4298\n",
      "Epoch 27/30\n",
      "45691/45691 [==============================] - 1s 26us/step - loss: 4.7146 - val_loss: 6.4222\n",
      "Epoch 28/30\n",
      "45691/45691 [==============================] - 1s 25us/step - loss: 4.7130 - val_loss: 6.4280\n",
      "Epoch 29/30\n",
      "45691/45691 [==============================] - 1s 25us/step - loss: 4.7107 - val_loss: 6.4258\n",
      "Epoch 30/30\n",
      "45691/45691 [==============================] - 1s 26us/step - loss: 4.7084 - val_loss: 6.4201\n"
     ]
    },
    {
     "data": {
      "text/plain": [
       "<keras.callbacks.callbacks.History at 0x7fcf6aca8510>"
      ]
     },
     "execution_count": 38,
     "metadata": {},
     "output_type": "execute_result"
    }
   ],
   "source": [
    "# Fit model\n",
    "colab_model.fit(X_train, y_train, batch_size=fitting_params['batch_size'], epochs=30, validation_data=(X_dev, y_dev))"
   ]
  },
  {
   "cell_type": "markdown",
   "metadata": {},
   "source": [
    "## Feature subsets"
   ]
  },
  {
   "cell_type": "markdown",
   "metadata": {},
   "source": [
    "Based on available features in Fantasy Football Scout we define 2 feature subsets:\n",
    "\n",
    "    1) Green - available subject to validation\n",
    "\n",
    "    2) Amber - may be possible to reconstruct\n",
    "\n",
    "All other features are not currently on the Scout website"
   ]
  },
  {
   "cell_type": "code",
   "execution_count": 41,
   "metadata": {},
   "outputs": [],
   "source": [
    "GREEN_FEATURES = [\n",
    "    'assists',\n",
    "    'clean_sheets',\n",
    "    'creativity',\n",
    "    'goals_conceded',\n",
    "    'goals_scored',\n",
    "    'ict_index',\n",
    "    'influence',\n",
    "    'minutes',\n",
    "    'own_goals',\n",
    "    'penalties_missed',\n",
    "    'penalties_saved',\n",
    "    'red_cards',\n",
    "    'gw',\n",
    "    'saves',\n",
    "    'threat',\n",
    "    'value',\n",
    "    'yellow_cards',\n",
    "    'position_DEF',\n",
    "    'position_FWD',\n",
    "    'position_GK',\n",
    "    'position_MID',\n",
    "    'next_match_value',\n",
    "    'total_points'\n",
    "]"
   ]
  },
  {
   "cell_type": "code",
   "execution_count": 47,
   "metadata": {},
   "outputs": [],
   "source": [
    "ORANGE_FEATURES = [\n",
    "    'bonus',\n",
    "    'bps',\n",
    "    'promoted_side',\n",
    "    'top_6_last_season'\n",
    "]"
   ]
  },
  {
   "cell_type": "code",
   "execution_count": 48,
   "metadata": {},
   "outputs": [
    {
     "name": "stdout",
     "output_type": "stream",
     "text": [
      "69\n",
      "23\n",
      "4\n"
     ]
    }
   ],
   "source": [
    "print(len(training_df.columns))\n",
    "print(len(GREEN_FEATURES))\n",
    "print(len(ORANGE_FEATURES))"
   ]
  },
  {
   "cell_type": "code",
   "execution_count": 43,
   "metadata": {},
   "outputs": [],
   "source": [
    "def modified_prepare_data_for_lstm(df, columns_to_keep):\n",
    "    df = df.copy()    \n",
    "    df[COLUMNS_TO_SCALE] = mms.transform(df[COLUMNS_TO_SCALE])\n",
    "\n",
    "    X_list = []\n",
    "    y_list = []\n",
    "\n",
    "    for player in list(df['name'].unique()):\n",
    "        player_df = df[df['name'] == player]\n",
    "        player_df.drop(\n",
    "            COLUMNS_TO_DROP_FOR_TRAINING,\n",
    "            axis=1,\n",
    "            inplace=True\n",
    "        )\n",
    "        player_df = player_df[columns_to_keep]\n",
    "        \n",
    "        X_player, y_player = split_sequences(\n",
    "            df=player_df,\n",
    "            target_column='total_points_plus1_gw',\n",
    "            n_steps_in=N_STEPS_IN,\n",
    "            n_steps_out=N_STEPS_OUT\n",
    "        )\n",
    "        X_list.append(X_player)\n",
    "        y_list.append(y_player)\n",
    "\n",
    "    X = np.concatenate(X_list, axis=0)\n",
    "    y = np.concatenate(y_list, axis=0)\n",
    "    print(X.shape)\n",
    "    print(y.shape)\n",
    "    \n",
    "    return X, y"
   ]
  },
  {
   "cell_type": "markdown",
   "metadata": {},
   "source": [
    "### Prep data"
   ]
  },
  {
   "cell_type": "code",
   "execution_count": 45,
   "metadata": {},
   "outputs": [
    {
     "name": "stderr",
     "output_type": "stream",
     "text": [
      "/Users/stevengeorge/opt/anaconda3/envs/fpl-analysis/lib/python3.7/site-packages/pandas/core/frame.py:3997: SettingWithCopyWarning: \n",
      "A value is trying to be set on a copy of a slice from a DataFrame\n",
      "\n",
      "See the caveats in the documentation: https://pandas.pydata.org/pandas-docs/stable/user_guide/indexing.html#returning-a-view-versus-a-copy\n",
      "  errors=errors,\n"
     ]
    },
    {
     "name": "stdout",
     "output_type": "stream",
     "text": [
      "(45691, 5, 23)\n",
      "(45691, 5)\n"
     ]
    },
    {
     "name": "stderr",
     "output_type": "stream",
     "text": [
      "/Users/stevengeorge/opt/anaconda3/envs/fpl-analysis/lib/python3.7/site-packages/pandas/core/frame.py:3997: SettingWithCopyWarning: \n",
      "A value is trying to be set on a copy of a slice from a DataFrame\n",
      "\n",
      "See the caveats in the documentation: https://pandas.pydata.org/pandas-docs/stable/user_guide/indexing.html#returning-a-view-versus-a-copy\n",
      "  errors=errors,\n"
     ]
    },
    {
     "name": "stdout",
     "output_type": "stream",
     "text": [
      "(4995, 5, 23)\n",
      "(4995, 5)\n"
     ]
    },
    {
     "name": "stderr",
     "output_type": "stream",
     "text": [
      "/Users/stevengeorge/opt/anaconda3/envs/fpl-analysis/lib/python3.7/site-packages/pandas/core/frame.py:3997: SettingWithCopyWarning: \n",
      "A value is trying to be set on a copy of a slice from a DataFrame\n",
      "\n",
      "See the caveats in the documentation: https://pandas.pydata.org/pandas-docs/stable/user_guide/indexing.html#returning-a-view-versus-a-copy\n",
      "  errors=errors,\n"
     ]
    },
    {
     "name": "stdout",
     "output_type": "stream",
     "text": [
      "(5355, 5, 23)\n",
      "(5355, 5)\n"
     ]
    }
   ],
   "source": [
    "X_train_green, y_train_green = modified_prepare_data_for_lstm(training_df, columns_to_keep=GREEN_FEATURES + ['total_points_plus1_gw'])\n",
    "X_dev_green, y_dev_green = modified_prepare_data_for_lstm(dev_df, columns_to_keep=GREEN_FEATURES + ['total_points_plus1_gw'])\n",
    "X_test_green, y_test_green = modified_prepare_data_for_lstm(test_df, columns_to_keep=GREEN_FEATURES + ['total_points_plus1_gw'])"
   ]
  },
  {
   "cell_type": "code",
   "execution_count": 198,
   "metadata": {},
   "outputs": [
    {
     "name": "stderr",
     "output_type": "stream",
     "text": [
      "/Users/stevengeorge/opt/anaconda3/envs/fpl-analysis/lib/python3.7/site-packages/pandas/core/frame.py:3997: SettingWithCopyWarning: \n",
      "A value is trying to be set on a copy of a slice from a DataFrame\n",
      "\n",
      "See the caveats in the documentation: https://pandas.pydata.org/pandas-docs/stable/user_guide/indexing.html#returning-a-view-versus-a-copy\n",
      "  errors=errors,\n"
     ]
    },
    {
     "name": "stdout",
     "output_type": "stream",
     "text": [
      "(45691, 5, 27)\n",
      "(45691, 5)\n"
     ]
    },
    {
     "name": "stderr",
     "output_type": "stream",
     "text": [
      "/Users/stevengeorge/opt/anaconda3/envs/fpl-analysis/lib/python3.7/site-packages/pandas/core/frame.py:3997: SettingWithCopyWarning: \n",
      "A value is trying to be set on a copy of a slice from a DataFrame\n",
      "\n",
      "See the caveats in the documentation: https://pandas.pydata.org/pandas-docs/stable/user_guide/indexing.html#returning-a-view-versus-a-copy\n",
      "  errors=errors,\n"
     ]
    },
    {
     "name": "stdout",
     "output_type": "stream",
     "text": [
      "(4995, 5, 27)\n",
      "(4995, 5)\n"
     ]
    },
    {
     "name": "stderr",
     "output_type": "stream",
     "text": [
      "/Users/stevengeorge/opt/anaconda3/envs/fpl-analysis/lib/python3.7/site-packages/pandas/core/frame.py:3997: SettingWithCopyWarning: \n",
      "A value is trying to be set on a copy of a slice from a DataFrame\n",
      "\n",
      "See the caveats in the documentation: https://pandas.pydata.org/pandas-docs/stable/user_guide/indexing.html#returning-a-view-versus-a-copy\n",
      "  errors=errors,\n"
     ]
    },
    {
     "name": "stdout",
     "output_type": "stream",
     "text": [
      "(5355, 5, 27)\n",
      "(5355, 5)\n"
     ]
    }
   ],
   "source": [
    "X_train_green_and_orange, y_train_green_and_orange = modified_prepare_data_for_lstm(training_df, columns_to_keep=GREEN_FEATURES + ORANGE_FEATURES + ['total_points_plus1_gw'])\n",
    "X_dev_green_and_orange, y_dev_green_and_orange = modified_prepare_data_for_lstm(dev_df, columns_to_keep=GREEN_FEATURES + ORANGE_FEATURES + ['total_points_plus1_gw'])\n",
    "X_test_green_and_orange, y_test_green_and_orange = modified_prepare_data_for_lstm(test_df, columns_to_keep=GREEN_FEATURES + ORANGE_FEATURES + ['total_points_plus1_gw'])"
   ]
  },
  {
   "cell_type": "markdown",
   "metadata": {},
   "source": [
    "### Train green model"
   ]
  },
  {
   "cell_type": "code",
   "execution_count": 69,
   "metadata": {},
   "outputs": [],
   "source": [
    "green_model = create_model(n_steps_in=N_STEPS_IN, n_steps_out=N_STEPS_OUT, n_features=23, **hyperparams)"
   ]
  },
  {
   "cell_type": "code",
   "execution_count": 70,
   "metadata": {},
   "outputs": [
    {
     "name": "stdout",
     "output_type": "stream",
     "text": [
      "Model: \"lstm_model\"\n",
      "_________________________________________________________________\n",
      "Layer (type)                 Output Shape              Param #   \n",
      "=================================================================\n",
      "lstm_layer_1 (LSTM)          (None, 15)                2340      \n",
      "_________________________________________________________________\n",
      "lstm_layer_1_dropout (Dropou (None, 15)                0         \n",
      "_________________________________________________________________\n",
      "dense_output (Dense)         (None, 5)                 80        \n",
      "=================================================================\n",
      "Total params: 2,420\n",
      "Trainable params: 2,420\n",
      "Non-trainable params: 0\n",
      "_________________________________________________________________\n"
     ]
    }
   ],
   "source": [
    "green_model.summary()"
   ]
  },
  {
   "cell_type": "code",
   "execution_count": 71,
   "metadata": {},
   "outputs": [],
   "source": [
    "# Compile model\n",
    "optimizer = optimizers.Adam(learning_rate=fitting_params['learning_rate'])\n",
    "green_model.compile(loss='mse', optimizer=optimizer)"
   ]
  },
  {
   "cell_type": "code",
   "execution_count": 72,
   "metadata": {},
   "outputs": [
    {
     "name": "stdout",
     "output_type": "stream",
     "text": [
      "Train on 45691 samples, validate on 4995 samples\n",
      "Epoch 1/30\n",
      "45691/45691 [==============================] - 1s 19us/step - loss: 6.8176 - val_loss: 7.5572\n",
      "Epoch 2/30\n",
      "45691/45691 [==============================] - 0s 8us/step - loss: 5.2979 - val_loss: 6.8439\n",
      "Epoch 3/30\n",
      "45691/45691 [==============================] - 0s 9us/step - loss: 5.0164 - val_loss: 6.7022\n",
      "Epoch 4/30\n",
      "45691/45691 [==============================] - 0s 8us/step - loss: 4.9342 - val_loss: 6.6379\n",
      "Epoch 5/30\n",
      "45691/45691 [==============================] - 0s 9us/step - loss: 4.8935 - val_loss: 6.5992\n",
      "Epoch 6/30\n",
      "45691/45691 [==============================] - 0s 8us/step - loss: 4.8628 - val_loss: 6.5759\n",
      "Epoch 7/30\n",
      "45691/45691 [==============================] - 0s 8us/step - loss: 4.8465 - val_loss: 6.5614\n",
      "Epoch 8/30\n",
      "45691/45691 [==============================] - 0s 9us/step - loss: 4.8316 - val_loss: 6.5526\n",
      "Epoch 9/30\n",
      "45691/45691 [==============================] - 0s 8us/step - loss: 4.8310 - val_loss: 6.5478\n",
      "Epoch 10/30\n",
      "45691/45691 [==============================] - 0s 9us/step - loss: 4.8176 - val_loss: 6.5422\n",
      "Epoch 11/30\n",
      "45691/45691 [==============================] - 0s 9us/step - loss: 4.8110 - val_loss: 6.5339\n",
      "Epoch 12/30\n",
      "45691/45691 [==============================] - 0s 8us/step - loss: 4.8061 - val_loss: 6.5290\n",
      "Epoch 13/30\n",
      "45691/45691 [==============================] - 0s 9us/step - loss: 4.8025 - val_loss: 6.5267\n",
      "Epoch 14/30\n",
      "45691/45691 [==============================] - 0s 8us/step - loss: 4.7947 - val_loss: 6.5307\n",
      "Epoch 15/30\n",
      "45691/45691 [==============================] - 0s 8us/step - loss: 4.8006 - val_loss: 6.5280\n",
      "Epoch 16/30\n",
      "45691/45691 [==============================] - 0s 8us/step - loss: 4.7920 - val_loss: 6.5188\n",
      "Epoch 17/30\n",
      "45691/45691 [==============================] - 0s 8us/step - loss: 4.7853 - val_loss: 6.5193\n",
      "Epoch 18/30\n",
      "45691/45691 [==============================] - 0s 9us/step - loss: 4.7882 - val_loss: 6.5143\n",
      "Epoch 19/30\n",
      "45691/45691 [==============================] - 0s 8us/step - loss: 4.7824 - val_loss: 6.5137\n",
      "Epoch 20/30\n",
      "45691/45691 [==============================] - 0s 9us/step - loss: 4.7781 - val_loss: 6.5140\n",
      "Epoch 21/30\n",
      "45691/45691 [==============================] - 0s 9us/step - loss: 4.7800 - val_loss: 6.5178\n",
      "Epoch 22/30\n",
      "45691/45691 [==============================] - 0s 8us/step - loss: 4.7745 - val_loss: 6.5114\n",
      "Epoch 23/30\n",
      "45691/45691 [==============================] - 0s 9us/step - loss: 4.7766 - val_loss: 6.5060\n",
      "Epoch 24/30\n",
      "45691/45691 [==============================] - 0s 8us/step - loss: 4.7767 - val_loss: 6.5142\n",
      "Epoch 25/30\n",
      "45691/45691 [==============================] - 0s 9us/step - loss: 4.7744 - val_loss: 6.5065\n",
      "Epoch 26/30\n",
      "45691/45691 [==============================] - 0s 9us/step - loss: 4.7691 - val_loss: 6.5066\n",
      "Epoch 27/30\n",
      "45691/45691 [==============================] - 0s 8us/step - loss: 4.7732 - val_loss: 6.5070\n",
      "Epoch 28/30\n",
      "45691/45691 [==============================] - 0s 9us/step - loss: 4.7673 - val_loss: 6.5072\n",
      "Epoch 29/30\n",
      "45691/45691 [==============================] - 0s 8us/step - loss: 4.7704 - val_loss: 6.5080\n",
      "Epoch 30/30\n",
      "45691/45691 [==============================] - 0s 8us/step - loss: 4.7694 - val_loss: 6.5112\n"
     ]
    },
    {
     "data": {
      "text/plain": [
       "<keras.callbacks.callbacks.History at 0x7fcf77b64150>"
      ]
     },
     "execution_count": 72,
     "metadata": {},
     "output_type": "execute_result"
    }
   ],
   "source": [
    "# Fit model\n",
    "green_model.fit(X_train_green, y_train_green, batch_size=fitting_params['batch_size'], epochs=30, validation_data=(X_dev_green, y_dev_green))"
   ]
  },
  {
   "cell_type": "markdown",
   "metadata": {},
   "source": [
    "### Train green and orange model"
   ]
  },
  {
   "cell_type": "code",
   "execution_count": 81,
   "metadata": {},
   "outputs": [],
   "source": [
    "green_and_orange_model = create_model(n_steps_in=N_STEPS_IN, n_steps_out=N_STEPS_OUT, n_features=27, **hyperparams)"
   ]
  },
  {
   "cell_type": "code",
   "execution_count": 82,
   "metadata": {},
   "outputs": [
    {
     "name": "stdout",
     "output_type": "stream",
     "text": [
      "Model: \"lstm_model\"\n",
      "_________________________________________________________________\n",
      "Layer (type)                 Output Shape              Param #   \n",
      "=================================================================\n",
      "lstm_layer_1 (LSTM)          (None, 15)                2580      \n",
      "_________________________________________________________________\n",
      "lstm_layer_1_dropout (Dropou (None, 15)                0         \n",
      "_________________________________________________________________\n",
      "dense_output (Dense)         (None, 5)                 80        \n",
      "=================================================================\n",
      "Total params: 2,660\n",
      "Trainable params: 2,660\n",
      "Non-trainable params: 0\n",
      "_________________________________________________________________\n"
     ]
    }
   ],
   "source": [
    "green_and_orange_model.summary()"
   ]
  },
  {
   "cell_type": "code",
   "execution_count": 83,
   "metadata": {},
   "outputs": [],
   "source": [
    "# Compile model\n",
    "optimizer = optimizers.Adam(learning_rate=fitting_params['learning_rate'])\n",
    "green_and_orange_model.compile(loss='mse', optimizer=optimizer)"
   ]
  },
  {
   "cell_type": "code",
   "execution_count": 84,
   "metadata": {},
   "outputs": [
    {
     "name": "stdout",
     "output_type": "stream",
     "text": [
      "Train on 45691 samples, validate on 4995 samples\n",
      "Epoch 1/30\n",
      "45691/45691 [==============================] - 1s 19us/step - loss: 6.8554 - val_loss: 7.7421\n",
      "Epoch 2/30\n",
      "45691/45691 [==============================] - 0s 9us/step - loss: 5.3623 - val_loss: 6.8916\n",
      "Epoch 3/30\n",
      "45691/45691 [==============================] - 0s 9us/step - loss: 5.0386 - val_loss: 6.7356\n",
      "Epoch 4/30\n",
      "45691/45691 [==============================] - 0s 9us/step - loss: 4.9480 - val_loss: 6.6524\n",
      "Epoch 5/30\n",
      "45691/45691 [==============================] - 0s 9us/step - loss: 4.8938 - val_loss: 6.6062\n",
      "Epoch 6/30\n",
      "45691/45691 [==============================] - 0s 9us/step - loss: 4.8727 - val_loss: 6.5770\n",
      "Epoch 7/30\n",
      "45691/45691 [==============================] - 0s 9us/step - loss: 4.8484 - val_loss: 6.5559\n",
      "Epoch 8/30\n",
      "45691/45691 [==============================] - 0s 9us/step - loss: 4.8325 - val_loss: 6.5474\n",
      "Epoch 9/30\n",
      "45691/45691 [==============================] - 0s 9us/step - loss: 4.8218 - val_loss: 6.5367\n",
      "Epoch 10/30\n",
      "45691/45691 [==============================] - 0s 9us/step - loss: 4.8186 - val_loss: 6.5307\n",
      "Epoch 11/30\n",
      "45691/45691 [==============================] - 0s 9us/step - loss: 4.8067 - val_loss: 6.5233\n",
      "Epoch 12/30\n",
      "45691/45691 [==============================] - 0s 9us/step - loss: 4.8041 - val_loss: 6.5238\n",
      "Epoch 13/30\n",
      "45691/45691 [==============================] - 0s 9us/step - loss: 4.7942 - val_loss: 6.5199\n",
      "Epoch 14/30\n",
      "45691/45691 [==============================] - 0s 9us/step - loss: 4.7915 - val_loss: 6.5173\n",
      "Epoch 15/30\n",
      "45691/45691 [==============================] - 0s 9us/step - loss: 4.7890 - val_loss: 6.5206\n",
      "Epoch 16/30\n",
      "45691/45691 [==============================] - 0s 9us/step - loss: 4.7900 - val_loss: 6.5162\n",
      "Epoch 17/30\n",
      "45691/45691 [==============================] - 0s 9us/step - loss: 4.7866 - val_loss: 6.5163\n",
      "Epoch 18/30\n",
      "45691/45691 [==============================] - 0s 9us/step - loss: 4.7796 - val_loss: 6.5107\n",
      "Epoch 19/30\n",
      "45691/45691 [==============================] - 0s 9us/step - loss: 4.7791 - val_loss: 6.5095\n",
      "Epoch 20/30\n",
      "45691/45691 [==============================] - 0s 9us/step - loss: 4.7769 - val_loss: 6.5147\n",
      "Epoch 21/30\n",
      "45691/45691 [==============================] - 0s 9us/step - loss: 4.7727 - val_loss: 6.5056\n",
      "Epoch 22/30\n",
      "45691/45691 [==============================] - 0s 9us/step - loss: 4.7715 - val_loss: 6.5084\n",
      "Epoch 23/30\n",
      "45691/45691 [==============================] - 0s 9us/step - loss: 4.7655 - val_loss: 6.5047\n",
      "Epoch 24/30\n",
      "45691/45691 [==============================] - 0s 9us/step - loss: 4.7695 - val_loss: 6.5100\n",
      "Epoch 25/30\n",
      "45691/45691 [==============================] - 0s 9us/step - loss: 4.7639 - val_loss: 6.5102\n",
      "Epoch 26/30\n",
      "45691/45691 [==============================] - 0s 9us/step - loss: 4.7706 - val_loss: 6.5109\n",
      "Epoch 27/30\n",
      "45691/45691 [==============================] - 0s 9us/step - loss: 4.7655 - val_loss: 6.5050\n",
      "Epoch 28/30\n",
      "45691/45691 [==============================] - 0s 9us/step - loss: 4.7635 - val_loss: 6.5051\n",
      "Epoch 29/30\n",
      "45691/45691 [==============================] - 0s 9us/step - loss: 4.7672 - val_loss: 6.5054\n",
      "Epoch 30/30\n",
      "45691/45691 [==============================] - 0s 9us/step - loss: 4.7628 - val_loss: 6.5072\n"
     ]
    },
    {
     "data": {
      "text/plain": [
       "<keras.callbacks.callbacks.History at 0x7fcf4f0baa50>"
      ]
     },
     "execution_count": 84,
     "metadata": {},
     "output_type": "execute_result"
    }
   ],
   "source": [
    "# Fit model\n",
    "green_and_orange_model.fit(X_train_green_and_orange, y_train_green_and_orange, batch_size=fitting_params['batch_size'], epochs=30, validation_data=(X_dev_green_and_orange, y_dev_green_and_orange))"
   ]
  },
  {
   "cell_type": "markdown",
   "metadata": {},
   "source": [
    "## Conclusions so far"
   ]
  },
  {
   "cell_type": "code",
   "execution_count": 96,
   "metadata": {},
   "outputs": [
    {
     "data": {
      "text/html": [
       "<div>\n",
       "<style scoped>\n",
       "    .dataframe tbody tr th:only-of-type {\n",
       "        vertical-align: middle;\n",
       "    }\n",
       "\n",
       "    .dataframe tbody tr th {\n",
       "        vertical-align: top;\n",
       "    }\n",
       "\n",
       "    .dataframe thead th {\n",
       "        text-align: right;\n",
       "    }\n",
       "</style>\n",
       "<table border=\"1\" class=\"dataframe\">\n",
       "  <thead>\n",
       "    <tr style=\"text-align: right;\">\n",
       "      <th></th>\n",
       "      <th>model</th>\n",
       "      <th>Dev MSE</th>\n",
       "    </tr>\n",
       "  </thead>\n",
       "  <tbody>\n",
       "    <tr>\n",
       "      <th>0</th>\n",
       "      <td>full feature set</td>\n",
       "      <td>6.4201</td>\n",
       "    </tr>\n",
       "    <tr>\n",
       "      <th>1</th>\n",
       "      <td>green features</td>\n",
       "      <td>6.5112</td>\n",
       "    </tr>\n",
       "    <tr>\n",
       "      <th>2</th>\n",
       "      <td>green and orange features</td>\n",
       "      <td>6.5072</td>\n",
       "    </tr>\n",
       "  </tbody>\n",
       "</table>\n",
       "</div>"
      ],
      "text/plain": [
       "                       model Dev MSE\n",
       "0           full feature set  6.4201\n",
       "1             green features  6.5112\n",
       "2  green and orange features  6.5072"
      ]
     },
     "execution_count": 96,
     "metadata": {},
     "output_type": "execute_result"
    }
   ],
   "source": [
    "# Summary of scores\n",
    "pd.DataFrame({'model': ['full feature set', 'green features', 'green and orange features'], 'Dev MSE': ['6.4201', '6.5112', '6.5072']})"
   ]
  },
  {
   "cell_type": "code",
   "execution_count": 99,
   "metadata": {},
   "outputs": [
    {
     "data": {
      "text/plain": [
       "{'early_kickoff',\n",
       " 'kickoff_month_Apr',\n",
       " 'kickoff_month_Aug',\n",
       " 'kickoff_month_Dec',\n",
       " 'kickoff_month_Feb',\n",
       " 'kickoff_month_Jan',\n",
       " 'kickoff_month_Mar',\n",
       " 'kickoff_month_May',\n",
       " 'kickoff_month_Nov',\n",
       " 'kickoff_month_Oct',\n",
       " 'kickoff_month_Sep',\n",
       " 'late_kickoff',\n",
       " 'next_match_early_kickoff',\n",
       " 'next_match_kickoff_month_Apr',\n",
       " 'next_match_kickoff_month_Aug',\n",
       " 'next_match_kickoff_month_Dec',\n",
       " 'next_match_kickoff_month_Feb',\n",
       " 'next_match_kickoff_month_Jan',\n",
       " 'next_match_kickoff_month_Mar',\n",
       " 'next_match_kickoff_month_May',\n",
       " 'next_match_kickoff_month_Nov',\n",
       " 'next_match_kickoff_month_Oct',\n",
       " 'next_match_kickoff_month_Sep',\n",
       " 'next_match_late_kickoff',\n",
       " 'next_match_promoted_side_opponent',\n",
       " 'next_match_top_6_last_season_opponent',\n",
       " 'next_match_was_home',\n",
       " 'promoted_side_opponent',\n",
       " 'selected',\n",
       " 'team_a_score',\n",
       " 'team_h_score',\n",
       " 'top_6_last_season_opponent',\n",
       " 'total_points_plus1_gw',\n",
       " 'transfers_balance',\n",
       " 'transfers_in',\n",
       " 'transfers_out',\n",
       " 'was_home'}"
      ]
     },
     "execution_count": 99,
     "metadata": {},
     "output_type": "execute_result"
    }
   ],
   "source": [
    "# Features not on Fantasy Football Scout\n",
    "set(training_df) - set(COLUMNS_TO_DROP_FOR_TRAINING) - set(GREEN_FEATURES) - set(ORANGE_FEATURES)"
   ]
  },
  {
   "cell_type": "markdown",
   "metadata": {},
   "source": [
    "- Our model with the full feature set had a MSE which was 0.08 lower than the model with just the orange and green features\n",
    "- Caveats of our findings:\n",
    "    - There may be a better architecture for the reduced feature sets so this difference in MSE may be overstated\n",
    "    \n",
    "    - In practice a model trained using the orange and green features taken from Fantasy Football Scout would have to be reframed as a prediction of `total points - bonus points` because of the lack of bonus points data\n",
    "\n",
    "- Given that only the green and orange (after some work) features are available on Fantasy Football Scout a new model using historical season data must achieve over 0.08 MSE imporvement to be worthwhile\n",
    "- Having said this Bayes search alone led to a 0.13 improvement on the dev set (6.57 to 6.42)\n",
    "- To see whether this is likely we can plot a learning curve\n",
    "- We will use a custom function (rather than sklearn's implementation) to account for the fact that cross-validation does not work in our case\n"
   ]
  },
  {
   "cell_type": "markdown",
   "metadata": {},
   "source": [
    "## Learning curve"
   ]
  },
  {
   "cell_type": "code",
   "execution_count": 166,
   "metadata": {},
   "outputs": [],
   "source": [
    "def custom_learning_curve(X, y, increment_prop, validation_data):\n",
    "    total_examples = X.shape[0]\n",
    "    increments = int(increment_prop * total_examples)\n",
    "    \n",
    "    batches = [\n",
    "        (X[:i, :, :], y[:i, :]) for i in np.arange(increments, total_examples, increments)\n",
    "    ]\n",
    "    results_df = pd.DataFrame()\n",
    "    \n",
    "    for batch in batches:\n",
    "        X = batch[0]\n",
    "        y = batch[1]\n",
    "        batch_size = X.shape[0]\n",
    "        print(f\"Working on batch size: {batch_size}\")\n",
    "        \n",
    "        model = create_model(n_steps_in=N_STEPS_IN, n_steps_out=N_STEPS_OUT, n_features=27, **hyperparams)\n",
    "        optimizer = optimizers.Adam(learning_rate=fitting_params['learning_rate'])\n",
    "        model.compile(loss='mse', optimizer=optimizer)\n",
    "        \n",
    "        model.fit(X, y, batch_size=fitting_params['batch_size'], epochs=30, verbose=0)\n",
    "        \n",
    "        mse = mean_squared_error(validation_data[1], model.predict(validation_data[0]))\n",
    "        \n",
    "        temp_df = pd.DataFrame({\"Batch size\": [batch_size], \"MSE\": [mse]})\n",
    "        \n",
    "        results_df = results_df.append(temp_df)\n",
    "        \n",
    "    return results_df"
   ]
  },
  {
   "cell_type": "code",
   "execution_count": 176,
   "metadata": {},
   "outputs": [
    {
     "name": "stdout",
     "output_type": "stream",
     "text": [
      "Working on batch size: 2284\n",
      "Working on batch size: 4568\n",
      "Working on batch size: 6852\n",
      "Working on batch size: 9136\n",
      "Working on batch size: 11420\n",
      "Working on batch size: 13704\n",
      "Working on batch size: 15988\n",
      "Working on batch size: 18272\n",
      "Working on batch size: 20556\n",
      "Working on batch size: 22840\n",
      "Working on batch size: 25124\n",
      "Working on batch size: 27408\n",
      "Working on batch size: 29692\n",
      "Working on batch size: 31976\n",
      "Working on batch size: 34260\n",
      "Working on batch size: 36544\n",
      "Working on batch size: 38828\n",
      "Working on batch size: 41112\n",
      "Working on batch size: 43396\n",
      "Working on batch size: 45680\n"
     ]
    }
   ],
   "source": [
    "learning_curve_data = custom_learning_curve(X_train_green_and_orange, y_train_green_and_orange, 0.05, validation_data=(X_dev_green_and_orange, y_dev_green_and_orange))"
   ]
  },
  {
   "cell_type": "code",
   "execution_count": 189,
   "metadata": {},
   "outputs": [
    {
     "data": {
      "text/plain": [
       "<matplotlib.legend.Legend at 0x7fcf2ed2e390>"
      ]
     },
     "execution_count": 189,
     "metadata": {},
     "output_type": "execute_result"
    },
    {
     "data": {
      "image/png": "[encoded data removed]",
      "text/plain": [
       "<Figure size 720x576 with 1 Axes>"
      ]
     },
     "metadata": {
      "needs_background": "light"
     },
     "output_type": "display_data"
    }
   ],
   "source": [
    "plt.figure(figsize=(10,8))\n",
    "plt.ylim(6.4, 7.2)\n",
    "plt.plot(learning_curve_data['Batch size'], learning_curve_data['MSE'], marker='o')\n",
    "plt.hlines(6.4201, learning_curve_data['Batch size'].min(), learning_curve_data['Batch size'].max(), linestyles='--', colors='red', label='All features MSE')\n",
    "plt.xlabel('Batch size')\n",
    "plt.ylabel('MSE')\n",
    "plt.legend()"
   ]
  },
  {
   "cell_type": "markdown",
   "metadata": {},
   "source": [
    "- Can see that the learning curve plateaus relatively early on. \n",
    "- As such adding more data is unlikely to lead to better performance than the current model which uses FPL API features.\n",
    "- Therefore if we are to use FFS data we should only use it to get new features which are not available in the FPL API.\n",
    "- Even then the new features may not compensate for the missing features. Should maybe explore feature importance to see which of the missing features is most important to the model."
   ]
  }
 ],
 "metadata": {
  "kernelspec": {
   "display_name": "Python 3",
   "language": "python",
   "name": "python3"
  },
  "language_info": {
   "codemirror_mode": {
    "name": "ipython",
    "version": 3
   },
   "file_extension": ".py",
   "mimetype": "text/x-python",
   "name": "python",
   "nbconvert_exporter": "python",
   "pygments_lexer": "ipython3",
   "version": "3.7.6"
  }
 },
 "nbformat": 4,
 "nbformat_minor": 4
}
