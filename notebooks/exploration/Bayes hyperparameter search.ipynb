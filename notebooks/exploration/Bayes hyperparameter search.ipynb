{
 "cells": [
  {
   "cell_type": "markdown",
   "metadata": {},
   "source": [
    "# Bayes hyperparameter search"
   ]
  },
  {
   "cell_type": "markdown",
   "metadata": {},
   "source": [
    "## Set-up"
   ]
  },
  {
   "cell_type": "code",
   "execution_count": 2,
   "metadata": {},
   "outputs": [
    {
     "name": "stderr",
     "output_type": "stream",
     "text": [
      "Using TensorFlow backend.\n"
     ]
    }
   ],
   "source": [
    "import os\n",
    "import itertools\n",
    "\n",
    "import pandas as pd\n",
    "import numpy as np\n",
    "from keras.layers import \\\n",
    "    Dense, \\\n",
    "    LSTM, \\\n",
    "    BatchNormalization, \\\n",
    "    Dropout, \\\n",
    "    Activation\n",
    "from keras import \\\n",
    "    initializers, \\\n",
    "    optimizers, \\\n",
    "    Sequential\n",
    "from hyperopt import hp, fmin, rand, tpe, Trials\n",
    "from sklearn.metrics import mean_squared_error"
   ]
  },
  {
   "cell_type": "code",
   "execution_count": 3,
   "metadata": {},
   "outputs": [],
   "source": [
    "os.chdir('../..')"
   ]
  },
  {
   "cell_type": "code",
   "execution_count": 4,
   "metadata": {},
   "outputs": [],
   "source": [
    "from src.models.utils import \\\n",
    "    _load_all_historical_data, \\\n",
    "    _map_season_string_to_ordered_numeric, \\\n",
    "    _generate_known_features_for_next_gw, \\\n",
    "    custom_train_test_split, \\\n",
    "    split_sequences, \\\n",
    "    _load_model_from_pickle\n",
    "from src.models.constants import \\\n",
    "    COLUMNS_TO_DROP_FOR_TRAINING\n",
    "from src.models.LSTM.make_predictions import LSTMPlayerPredictor\n",
    "from src.visualisation.utils import plot_learning_curve"
   ]
  },
  {
   "cell_type": "code",
   "execution_count": 5,
   "metadata": {},
   "outputs": [],
   "source": [
    "pd.options.display.max_columns = None"
   ]
  },
  {
   "cell_type": "code",
   "execution_count": 6,
   "metadata": {},
   "outputs": [],
   "source": [
    "RANDOM_SEED = 42"
   ]
  },
  {
   "cell_type": "markdown",
   "metadata": {},
   "source": [
    "## Load training data"
   ]
  },
  {
   "cell_type": "code",
   "execution_count": 7,
   "metadata": {},
   "outputs": [],
   "source": [
    "def load_all_data():\n",
    "    full_data = _load_all_historical_data()\n",
    "    full_data.sort_values(['name', 'season', 'gw'], inplace=True)\n",
    "\n",
    "    _map_season_string_to_ordered_numeric(full_data)\n",
    "    _generate_known_features_for_next_gw(full_data)\n",
    "\n",
    "    # Remove Brendan Galloway due to unexplained gap in gameweek data\n",
    "    full_data = full_data[full_data['name'] != 'brendan_galloway']\n",
    "    full_data.drop('ID', axis=1, inplace=True)\n",
    "\n",
    "#     logging.info(f\"Loaded historical data of shape {full_data.shape}\")\n",
    "\n",
    "    return full_data"
   ]
  },
  {
   "cell_type": "code",
   "execution_count": 8,
   "metadata": {},
   "outputs": [
    {
     "name": "stderr",
     "output_type": "stream",
     "text": [
      "2020-06-04 00:23:59,759 - Loading raw historical FPL data\n",
      "2020-06-04 00:23:59,968 - Creating season order column\n",
      "2020-06-04 00:23:59,974 - Generating known features for next GW\n"
     ]
    }
   ],
   "source": [
    "all_data = load_all_data()"
   ]
  },
  {
   "cell_type": "code",
   "execution_count": 9,
   "metadata": {},
   "outputs": [
    {
     "name": "stdout",
     "output_type": "stream",
     "text": [
      "(67797, 68)\n"
     ]
    },
    {
     "data": {
      "text/html": [
       "<div>\n",
       "<style scoped>\n",
       "    .dataframe tbody tr th:only-of-type {\n",
       "        vertical-align: middle;\n",
       "    }\n",
       "\n",
       "    .dataframe tbody tr th {\n",
       "        vertical-align: top;\n",
       "    }\n",
       "\n",
       "    .dataframe thead th {\n",
       "        text-align: right;\n",
       "    }\n",
       "</style>\n",
       "<table border=\"1\" class=\"dataframe\">\n",
       "  <thead>\n",
       "    <tr style=\"text-align: right;\">\n",
       "      <th></th>\n",
       "      <th>assists</th>\n",
       "      <th>bonus</th>\n",
       "      <th>bps</th>\n",
       "      <th>clean_sheets</th>\n",
       "      <th>creativity</th>\n",
       "      <th>goals_conceded</th>\n",
       "      <th>goals_scored</th>\n",
       "      <th>ict_index</th>\n",
       "      <th>influence</th>\n",
       "      <th>minutes</th>\n",
       "      <th>own_goals</th>\n",
       "      <th>penalties_missed</th>\n",
       "      <th>penalties_saved</th>\n",
       "      <th>red_cards</th>\n",
       "      <th>gw</th>\n",
       "      <th>saves</th>\n",
       "      <th>selected</th>\n",
       "      <th>team_a_score</th>\n",
       "      <th>team_h_score</th>\n",
       "      <th>threat</th>\n",
       "      <th>total_points</th>\n",
       "      <th>transfers_balance</th>\n",
       "      <th>transfers_in</th>\n",
       "      <th>transfers_out</th>\n",
       "      <th>value</th>\n",
       "      <th>was_home</th>\n",
       "      <th>yellow_cards</th>\n",
       "      <th>name</th>\n",
       "      <th>team_name</th>\n",
       "      <th>promoted_side</th>\n",
       "      <th>top_6_last_season</th>\n",
       "      <th>season</th>\n",
       "      <th>position_DEF</th>\n",
       "      <th>position_FWD</th>\n",
       "      <th>position_GK</th>\n",
       "      <th>position_MID</th>\n",
       "      <th>team_name_opponent</th>\n",
       "      <th>promoted_side_opponent</th>\n",
       "      <th>top_6_last_season_opponent</th>\n",
       "      <th>late_kickoff</th>\n",
       "      <th>early_kickoff</th>\n",
       "      <th>kickoff_month_Aug</th>\n",
       "      <th>kickoff_month_Sep</th>\n",
       "      <th>kickoff_month_Oct</th>\n",
       "      <th>kickoff_month_Nov</th>\n",
       "      <th>kickoff_month_Dec</th>\n",
       "      <th>kickoff_month_Jan</th>\n",
       "      <th>kickoff_month_Feb</th>\n",
       "      <th>kickoff_month_Mar</th>\n",
       "      <th>kickoff_month_Apr</th>\n",
       "      <th>kickoff_month_May</th>\n",
       "      <th>season_order</th>\n",
       "      <th>next_match_value</th>\n",
       "      <th>next_match_was_home</th>\n",
       "      <th>next_match_promoted_side_opponent</th>\n",
       "      <th>next_match_top_6_last_season_opponent</th>\n",
       "      <th>next_match_kickoff_month_Aug</th>\n",
       "      <th>next_match_kickoff_month_Sep</th>\n",
       "      <th>next_match_kickoff_month_Oct</th>\n",
       "      <th>next_match_kickoff_month_Nov</th>\n",
       "      <th>next_match_kickoff_month_Dec</th>\n",
       "      <th>next_match_kickoff_month_Jan</th>\n",
       "      <th>next_match_kickoff_month_Feb</th>\n",
       "      <th>next_match_kickoff_month_Mar</th>\n",
       "      <th>next_match_kickoff_month_Apr</th>\n",
       "      <th>next_match_kickoff_month_May</th>\n",
       "      <th>next_match_late_kickoff</th>\n",
       "      <th>next_match_early_kickoff</th>\n",
       "    </tr>\n",
       "  </thead>\n",
       "  <tbody>\n",
       "    <tr>\n",
       "      <th>0</th>\n",
       "      <td>0</td>\n",
       "      <td>0</td>\n",
       "      <td>0</td>\n",
       "      <td>0</td>\n",
       "      <td>0.0</td>\n",
       "      <td>0</td>\n",
       "      <td>0</td>\n",
       "      <td>0.0</td>\n",
       "      <td>0.0</td>\n",
       "      <td>0</td>\n",
       "      <td>0</td>\n",
       "      <td>0</td>\n",
       "      <td>0</td>\n",
       "      <td>0</td>\n",
       "      <td>1</td>\n",
       "      <td>0</td>\n",
       "      <td>14023</td>\n",
       "      <td>1</td>\n",
       "      <td>2</td>\n",
       "      <td>0.0</td>\n",
       "      <td>0</td>\n",
       "      <td>0</td>\n",
       "      <td>0</td>\n",
       "      <td>0</td>\n",
       "      <td>5.5</td>\n",
       "      <td>False</td>\n",
       "      <td>0</td>\n",
       "      <td>aaron_cresswell</td>\n",
       "      <td>West Ham United</td>\n",
       "      <td>0</td>\n",
       "      <td>0</td>\n",
       "      <td>2016-17</td>\n",
       "      <td>1</td>\n",
       "      <td>0</td>\n",
       "      <td>0</td>\n",
       "      <td>0</td>\n",
       "      <td>Chelsea</td>\n",
       "      <td>0</td>\n",
       "      <td>0</td>\n",
       "      <td>1</td>\n",
       "      <td>0</td>\n",
       "      <td>1</td>\n",
       "      <td>0</td>\n",
       "      <td>0</td>\n",
       "      <td>0</td>\n",
       "      <td>0</td>\n",
       "      <td>0</td>\n",
       "      <td>0</td>\n",
       "      <td>0</td>\n",
       "      <td>0</td>\n",
       "      <td>0</td>\n",
       "      <td>1</td>\n",
       "      <td>5.5</td>\n",
       "      <td>1.0</td>\n",
       "      <td>0.0</td>\n",
       "      <td>0.0</td>\n",
       "      <td>1.0</td>\n",
       "      <td>0.0</td>\n",
       "      <td>0.0</td>\n",
       "      <td>0.0</td>\n",
       "      <td>0.0</td>\n",
       "      <td>0.0</td>\n",
       "      <td>0.0</td>\n",
       "      <td>0.0</td>\n",
       "      <td>0.0</td>\n",
       "      <td>0.0</td>\n",
       "      <td>0.0</td>\n",
       "      <td>0.0</td>\n",
       "    </tr>\n",
       "    <tr>\n",
       "      <th>1</th>\n",
       "      <td>0</td>\n",
       "      <td>0</td>\n",
       "      <td>0</td>\n",
       "      <td>0</td>\n",
       "      <td>0.0</td>\n",
       "      <td>0</td>\n",
       "      <td>0</td>\n",
       "      <td>0.0</td>\n",
       "      <td>0.0</td>\n",
       "      <td>0</td>\n",
       "      <td>0</td>\n",
       "      <td>0</td>\n",
       "      <td>0</td>\n",
       "      <td>0</td>\n",
       "      <td>2</td>\n",
       "      <td>0</td>\n",
       "      <td>11531</td>\n",
       "      <td>0</td>\n",
       "      <td>1</td>\n",
       "      <td>0.0</td>\n",
       "      <td>0</td>\n",
       "      <td>-3002</td>\n",
       "      <td>79</td>\n",
       "      <td>3081</td>\n",
       "      <td>5.5</td>\n",
       "      <td>True</td>\n",
       "      <td>0</td>\n",
       "      <td>aaron_cresswell</td>\n",
       "      <td>West Ham United</td>\n",
       "      <td>0</td>\n",
       "      <td>0</td>\n",
       "      <td>2016-17</td>\n",
       "      <td>1</td>\n",
       "      <td>0</td>\n",
       "      <td>0</td>\n",
       "      <td>0</td>\n",
       "      <td>Bournemouth</td>\n",
       "      <td>0</td>\n",
       "      <td>0</td>\n",
       "      <td>0</td>\n",
       "      <td>0</td>\n",
       "      <td>1</td>\n",
       "      <td>0</td>\n",
       "      <td>0</td>\n",
       "      <td>0</td>\n",
       "      <td>0</td>\n",
       "      <td>0</td>\n",
       "      <td>0</td>\n",
       "      <td>0</td>\n",
       "      <td>0</td>\n",
       "      <td>0</td>\n",
       "      <td>1</td>\n",
       "      <td>5.4</td>\n",
       "      <td>0.0</td>\n",
       "      <td>0.0</td>\n",
       "      <td>1.0</td>\n",
       "      <td>1.0</td>\n",
       "      <td>0.0</td>\n",
       "      <td>0.0</td>\n",
       "      <td>0.0</td>\n",
       "      <td>0.0</td>\n",
       "      <td>0.0</td>\n",
       "      <td>0.0</td>\n",
       "      <td>0.0</td>\n",
       "      <td>0.0</td>\n",
       "      <td>0.0</td>\n",
       "      <td>0.0</td>\n",
       "      <td>0.0</td>\n",
       "    </tr>\n",
       "    <tr>\n",
       "      <th>2</th>\n",
       "      <td>0</td>\n",
       "      <td>0</td>\n",
       "      <td>0</td>\n",
       "      <td>0</td>\n",
       "      <td>0.0</td>\n",
       "      <td>0</td>\n",
       "      <td>0</td>\n",
       "      <td>0.0</td>\n",
       "      <td>0.0</td>\n",
       "      <td>0</td>\n",
       "      <td>0</td>\n",
       "      <td>0</td>\n",
       "      <td>0</td>\n",
       "      <td>0</td>\n",
       "      <td>3</td>\n",
       "      <td>0</td>\n",
       "      <td>9587</td>\n",
       "      <td>1</td>\n",
       "      <td>3</td>\n",
       "      <td>0.0</td>\n",
       "      <td>0</td>\n",
       "      <td>-2053</td>\n",
       "      <td>28</td>\n",
       "      <td>2081</td>\n",
       "      <td>5.4</td>\n",
       "      <td>False</td>\n",
       "      <td>0</td>\n",
       "      <td>aaron_cresswell</td>\n",
       "      <td>West Ham United</td>\n",
       "      <td>0</td>\n",
       "      <td>0</td>\n",
       "      <td>2016-17</td>\n",
       "      <td>1</td>\n",
       "      <td>0</td>\n",
       "      <td>0</td>\n",
       "      <td>0</td>\n",
       "      <td>Manchester City</td>\n",
       "      <td>0</td>\n",
       "      <td>1</td>\n",
       "      <td>0</td>\n",
       "      <td>0</td>\n",
       "      <td>1</td>\n",
       "      <td>0</td>\n",
       "      <td>0</td>\n",
       "      <td>0</td>\n",
       "      <td>0</td>\n",
       "      <td>0</td>\n",
       "      <td>0</td>\n",
       "      <td>0</td>\n",
       "      <td>0</td>\n",
       "      <td>0</td>\n",
       "      <td>1</td>\n",
       "      <td>5.4</td>\n",
       "      <td>1.0</td>\n",
       "      <td>0.0</td>\n",
       "      <td>0.0</td>\n",
       "      <td>0.0</td>\n",
       "      <td>1.0</td>\n",
       "      <td>0.0</td>\n",
       "      <td>0.0</td>\n",
       "      <td>0.0</td>\n",
       "      <td>0.0</td>\n",
       "      <td>0.0</td>\n",
       "      <td>0.0</td>\n",
       "      <td>0.0</td>\n",
       "      <td>0.0</td>\n",
       "      <td>0.0</td>\n",
       "      <td>0.0</td>\n",
       "    </tr>\n",
       "    <tr>\n",
       "      <th>3</th>\n",
       "      <td>0</td>\n",
       "      <td>0</td>\n",
       "      <td>0</td>\n",
       "      <td>0</td>\n",
       "      <td>0.0</td>\n",
       "      <td>0</td>\n",
       "      <td>0</td>\n",
       "      <td>0.0</td>\n",
       "      <td>0.0</td>\n",
       "      <td>0</td>\n",
       "      <td>0</td>\n",
       "      <td>0</td>\n",
       "      <td>0</td>\n",
       "      <td>0</td>\n",
       "      <td>4</td>\n",
       "      <td>0</td>\n",
       "      <td>8427</td>\n",
       "      <td>4</td>\n",
       "      <td>2</td>\n",
       "      <td>0.0</td>\n",
       "      <td>0</td>\n",
       "      <td>-1221</td>\n",
       "      <td>45</td>\n",
       "      <td>1266</td>\n",
       "      <td>5.4</td>\n",
       "      <td>True</td>\n",
       "      <td>0</td>\n",
       "      <td>aaron_cresswell</td>\n",
       "      <td>West Ham United</td>\n",
       "      <td>0</td>\n",
       "      <td>0</td>\n",
       "      <td>2016-17</td>\n",
       "      <td>1</td>\n",
       "      <td>0</td>\n",
       "      <td>0</td>\n",
       "      <td>0</td>\n",
       "      <td>Watford</td>\n",
       "      <td>0</td>\n",
       "      <td>0</td>\n",
       "      <td>0</td>\n",
       "      <td>0</td>\n",
       "      <td>0</td>\n",
       "      <td>1</td>\n",
       "      <td>0</td>\n",
       "      <td>0</td>\n",
       "      <td>0</td>\n",
       "      <td>0</td>\n",
       "      <td>0</td>\n",
       "      <td>0</td>\n",
       "      <td>0</td>\n",
       "      <td>0</td>\n",
       "      <td>1</td>\n",
       "      <td>5.4</td>\n",
       "      <td>0.0</td>\n",
       "      <td>0.0</td>\n",
       "      <td>0.0</td>\n",
       "      <td>0.0</td>\n",
       "      <td>1.0</td>\n",
       "      <td>0.0</td>\n",
       "      <td>0.0</td>\n",
       "      <td>0.0</td>\n",
       "      <td>0.0</td>\n",
       "      <td>0.0</td>\n",
       "      <td>0.0</td>\n",
       "      <td>0.0</td>\n",
       "      <td>0.0</td>\n",
       "      <td>0.0</td>\n",
       "      <td>0.0</td>\n",
       "    </tr>\n",
       "    <tr>\n",
       "      <th>4</th>\n",
       "      <td>0</td>\n",
       "      <td>0</td>\n",
       "      <td>0</td>\n",
       "      <td>0</td>\n",
       "      <td>0.0</td>\n",
       "      <td>0</td>\n",
       "      <td>0</td>\n",
       "      <td>0.0</td>\n",
       "      <td>0.0</td>\n",
       "      <td>0</td>\n",
       "      <td>0</td>\n",
       "      <td>0</td>\n",
       "      <td>0</td>\n",
       "      <td>0</td>\n",
       "      <td>5</td>\n",
       "      <td>0</td>\n",
       "      <td>7933</td>\n",
       "      <td>2</td>\n",
       "      <td>4</td>\n",
       "      <td>0.0</td>\n",
       "      <td>0</td>\n",
       "      <td>-520</td>\n",
       "      <td>29</td>\n",
       "      <td>549</td>\n",
       "      <td>5.4</td>\n",
       "      <td>False</td>\n",
       "      <td>0</td>\n",
       "      <td>aaron_cresswell</td>\n",
       "      <td>West Ham United</td>\n",
       "      <td>0</td>\n",
       "      <td>0</td>\n",
       "      <td>2016-17</td>\n",
       "      <td>1</td>\n",
       "      <td>0</td>\n",
       "      <td>0</td>\n",
       "      <td>0</td>\n",
       "      <td>West Bromwich Albion</td>\n",
       "      <td>0</td>\n",
       "      <td>0</td>\n",
       "      <td>0</td>\n",
       "      <td>0</td>\n",
       "      <td>0</td>\n",
       "      <td>1</td>\n",
       "      <td>0</td>\n",
       "      <td>0</td>\n",
       "      <td>0</td>\n",
       "      <td>0</td>\n",
       "      <td>0</td>\n",
       "      <td>0</td>\n",
       "      <td>0</td>\n",
       "      <td>0</td>\n",
       "      <td>1</td>\n",
       "      <td>5.4</td>\n",
       "      <td>1.0</td>\n",
       "      <td>0.0</td>\n",
       "      <td>1.0</td>\n",
       "      <td>0.0</td>\n",
       "      <td>1.0</td>\n",
       "      <td>0.0</td>\n",
       "      <td>0.0</td>\n",
       "      <td>0.0</td>\n",
       "      <td>0.0</td>\n",
       "      <td>0.0</td>\n",
       "      <td>0.0</td>\n",
       "      <td>0.0</td>\n",
       "      <td>0.0</td>\n",
       "      <td>0.0</td>\n",
       "      <td>0.0</td>\n",
       "    </tr>\n",
       "  </tbody>\n",
       "</table>\n",
       "</div>"
      ],
      "text/plain": [
       "   assists  bonus  bps  clean_sheets  creativity  goals_conceded  \\\n",
       "0        0      0    0             0         0.0               0   \n",
       "1        0      0    0             0         0.0               0   \n",
       "2        0      0    0             0         0.0               0   \n",
       "3        0      0    0             0         0.0               0   \n",
       "4        0      0    0             0         0.0               0   \n",
       "\n",
       "   goals_scored  ict_index  influence  minutes  own_goals  penalties_missed  \\\n",
       "0             0        0.0        0.0        0          0                 0   \n",
       "1             0        0.0        0.0        0          0                 0   \n",
       "2             0        0.0        0.0        0          0                 0   \n",
       "3             0        0.0        0.0        0          0                 0   \n",
       "4             0        0.0        0.0        0          0                 0   \n",
       "\n",
       "   penalties_saved  red_cards  gw  saves  selected  team_a_score  \\\n",
       "0                0          0   1      0     14023             1   \n",
       "1                0          0   2      0     11531             0   \n",
       "2                0          0   3      0      9587             1   \n",
       "3                0          0   4      0      8427             4   \n",
       "4                0          0   5      0      7933             2   \n",
       "\n",
       "   team_h_score  threat  total_points  transfers_balance  transfers_in  \\\n",
       "0             2     0.0             0                  0             0   \n",
       "1             1     0.0             0              -3002            79   \n",
       "2             3     0.0             0              -2053            28   \n",
       "3             2     0.0             0              -1221            45   \n",
       "4             4     0.0             0               -520            29   \n",
       "\n",
       "   transfers_out  value  was_home  yellow_cards             name  \\\n",
       "0              0    5.5     False             0  aaron_cresswell   \n",
       "1           3081    5.5      True             0  aaron_cresswell   \n",
       "2           2081    5.4     False             0  aaron_cresswell   \n",
       "3           1266    5.4      True             0  aaron_cresswell   \n",
       "4            549    5.4     False             0  aaron_cresswell   \n",
       "\n",
       "         team_name  promoted_side  top_6_last_season   season  position_DEF  \\\n",
       "0  West Ham United              0                  0  2016-17             1   \n",
       "1  West Ham United              0                  0  2016-17             1   \n",
       "2  West Ham United              0                  0  2016-17             1   \n",
       "3  West Ham United              0                  0  2016-17             1   \n",
       "4  West Ham United              0                  0  2016-17             1   \n",
       "\n",
       "   position_FWD  position_GK  position_MID    team_name_opponent  \\\n",
       "0             0            0             0               Chelsea   \n",
       "1             0            0             0           Bournemouth   \n",
       "2             0            0             0       Manchester City   \n",
       "3             0            0             0               Watford   \n",
       "4             0            0             0  West Bromwich Albion   \n",
       "\n",
       "   promoted_side_opponent  top_6_last_season_opponent  late_kickoff  \\\n",
       "0                       0                           0             1   \n",
       "1                       0                           0             0   \n",
       "2                       0                           1             0   \n",
       "3                       0                           0             0   \n",
       "4                       0                           0             0   \n",
       "\n",
       "   early_kickoff  kickoff_month_Aug  kickoff_month_Sep  kickoff_month_Oct  \\\n",
       "0              0                  1                  0                  0   \n",
       "1              0                  1                  0                  0   \n",
       "2              0                  1                  0                  0   \n",
       "3              0                  0                  1                  0   \n",
       "4              0                  0                  1                  0   \n",
       "\n",
       "   kickoff_month_Nov  kickoff_month_Dec  kickoff_month_Jan  kickoff_month_Feb  \\\n",
       "0                  0                  0                  0                  0   \n",
       "1                  0                  0                  0                  0   \n",
       "2                  0                  0                  0                  0   \n",
       "3                  0                  0                  0                  0   \n",
       "4                  0                  0                  0                  0   \n",
       "\n",
       "   kickoff_month_Mar  kickoff_month_Apr  kickoff_month_May  season_order  \\\n",
       "0                  0                  0                  0             1   \n",
       "1                  0                  0                  0             1   \n",
       "2                  0                  0                  0             1   \n",
       "3                  0                  0                  0             1   \n",
       "4                  0                  0                  0             1   \n",
       "\n",
       "   next_match_value  next_match_was_home  next_match_promoted_side_opponent  \\\n",
       "0               5.5                  1.0                                0.0   \n",
       "1               5.4                  0.0                                0.0   \n",
       "2               5.4                  1.0                                0.0   \n",
       "3               5.4                  0.0                                0.0   \n",
       "4               5.4                  1.0                                0.0   \n",
       "\n",
       "   next_match_top_6_last_season_opponent  next_match_kickoff_month_Aug  \\\n",
       "0                                    0.0                           1.0   \n",
       "1                                    1.0                           1.0   \n",
       "2                                    0.0                           0.0   \n",
       "3                                    0.0                           0.0   \n",
       "4                                    1.0                           0.0   \n",
       "\n",
       "   next_match_kickoff_month_Sep  next_match_kickoff_month_Oct  \\\n",
       "0                           0.0                           0.0   \n",
       "1                           0.0                           0.0   \n",
       "2                           1.0                           0.0   \n",
       "3                           1.0                           0.0   \n",
       "4                           1.0                           0.0   \n",
       "\n",
       "   next_match_kickoff_month_Nov  next_match_kickoff_month_Dec  \\\n",
       "0                           0.0                           0.0   \n",
       "1                           0.0                           0.0   \n",
       "2                           0.0                           0.0   \n",
       "3                           0.0                           0.0   \n",
       "4                           0.0                           0.0   \n",
       "\n",
       "   next_match_kickoff_month_Jan  next_match_kickoff_month_Feb  \\\n",
       "0                           0.0                           0.0   \n",
       "1                           0.0                           0.0   \n",
       "2                           0.0                           0.0   \n",
       "3                           0.0                           0.0   \n",
       "4                           0.0                           0.0   \n",
       "\n",
       "   next_match_kickoff_month_Mar  next_match_kickoff_month_Apr  \\\n",
       "0                           0.0                           0.0   \n",
       "1                           0.0                           0.0   \n",
       "2                           0.0                           0.0   \n",
       "3                           0.0                           0.0   \n",
       "4                           0.0                           0.0   \n",
       "\n",
       "   next_match_kickoff_month_May  next_match_late_kickoff  \\\n",
       "0                           0.0                      0.0   \n",
       "1                           0.0                      0.0   \n",
       "2                           0.0                      0.0   \n",
       "3                           0.0                      0.0   \n",
       "4                           0.0                      0.0   \n",
       "\n",
       "   next_match_early_kickoff  \n",
       "0                       0.0  \n",
       "1                       0.0  \n",
       "2                       0.0  \n",
       "3                       0.0  \n",
       "4                       0.0  "
      ]
     },
     "execution_count": 9,
     "metadata": {},
     "output_type": "execute_result"
    }
   ],
   "source": [
    "print(all_data.shape)\n",
    "all_data.head()"
   ]
  },
  {
   "cell_type": "code",
   "execution_count": 10,
   "metadata": {},
   "outputs": [
    {
     "data": {
      "text/plain": [
       "array(['2016-17', '2017-18', '2018-19'], dtype=object)"
      ]
     },
     "execution_count": 10,
     "metadata": {},
     "output_type": "execute_result"
    }
   ],
   "source": [
    "all_data['season'].unique()"
   ]
  },
  {
   "cell_type": "markdown",
   "metadata": {},
   "source": [
    "### Create target"
   ]
  },
  {
   "cell_type": "code",
   "execution_count": 11,
   "metadata": {},
   "outputs": [],
   "source": [
    "all_data['total_points_plus1_gw'] = all_data.groupby(['name'])['total_points'].shift(-1)\n",
    "all_data = all_data[~all_data['total_points_plus1_gw'].isnull()]  # drop nulls (last gw)"
   ]
  },
  {
   "cell_type": "markdown",
   "metadata": {},
   "source": [
    "### Train/dev/test split"
   ]
  },
  {
   "cell_type": "markdown",
   "metadata": {},
   "source": [
    "We now added a random_state parameter to `custom_train_test_split` to ensure consistent training sets"
   ]
  },
  {
   "cell_type": "code",
   "execution_count": 12,
   "metadata": {},
   "outputs": [
    {
     "name": "stdout",
     "output_type": "stream",
     "text": [
      "Proportion in test set: 0.09869880673982132\n",
      "Test set size: (6584, 70)\n",
      "Training set size: (60124, 70)\n"
     ]
    },
    {
     "name": "stderr",
     "output_type": "stream",
     "text": [
      "/Users/stevengeorge/opt/anaconda3/envs/fpl-analysis/lib/python3.7/site-packages/pandas/core/frame.py:3997: SettingWithCopyWarning: \n",
      "A value is trying to be set on a copy of a slice from a DataFrame\n",
      "\n",
      "See the caveats in the documentation: https://pandas.pydata.org/pandas-docs/stable/user_guide/indexing.html#returning-a-view-versus-a-copy\n",
      "  errors=errors,\n"
     ]
    }
   ],
   "source": [
    "training_df, test_df = custom_train_test_split(all_data, random_state=RANDOM_SEED, rand_sample_prop=0.0027)"
   ]
  },
  {
   "cell_type": "code",
   "execution_count": 13,
   "metadata": {},
   "outputs": [
    {
     "name": "stdout",
     "output_type": "stream",
     "text": [
      "Proportion in test set: 0.10238839731222141\n",
      "Test set size: (6156, 70)\n",
      "Training set size: (53968, 70)\n"
     ]
    }
   ],
   "source": [
    "training_df, dev_df = custom_train_test_split(training_df, random_state=RANDOM_SEED, rand_sample_prop=0.003)"
   ]
  },
  {
   "cell_type": "code",
   "execution_count": 14,
   "metadata": {},
   "outputs": [
    {
     "name": "stdout",
     "output_type": "stream",
     "text": [
      "Proportion training: 0.8090184085866763\n",
      "Proportion dev: 0.09228278467350243\n",
      "Proportion test: 0.09869880673982132\n"
     ]
    }
   ],
   "source": [
    "print(f\"Proportion training: {training_df.shape[0]/all_data.shape[0]}\")\n",
    "print(f\"Proportion dev: {dev_df.shape[0]/all_data.shape[0]}\")\n",
    "print(f\"Proportion test: {test_df.shape[0]/all_data.shape[0]}\")"
   ]
  },
  {
   "cell_type": "markdown",
   "metadata": {},
   "source": [
    "We now get a close 80/10/10 split"
   ]
  },
  {
   "cell_type": "markdown",
   "metadata": {},
   "source": [
    "## Current model performance"
   ]
  },
  {
   "cell_type": "code",
   "execution_count": 15,
   "metadata": {},
   "outputs": [],
   "source": [
    "mms = _load_model_from_pickle('src/models/pickles/min_max_scalar_lstm_v4.pickle')\n",
    "COLUMNS_TO_SCALE = _load_model_from_pickle('src/models/pickles/min_max_scalar_columns_v4.pickle')"
   ]
  },
  {
   "cell_type": "markdown",
   "metadata": {},
   "source": [
    "### Filter out ineligible players"
   ]
  },
  {
   "cell_type": "code",
   "execution_count": 20,
   "metadata": {},
   "outputs": [],
   "source": [
    "N_STEPS_IN = 5\n",
    "N_STEPS_OUT = 5"
   ]
  },
  {
   "cell_type": "code",
   "execution_count": 21,
   "metadata": {},
   "outputs": [],
   "source": [
    "def filter_eligible_players(training_subset_df):\n",
    "    training_subset_df['total_number_of_gameweeks'] = training_subset_df.groupby(['name']).transform('count')['team_name']\n",
    "    training_subset_df = training_subset_df[training_subset_df['total_number_of_gameweeks'] >= (N_STEPS_IN + N_STEPS_OUT - 1)]\n",
    "    training_subset_df.drop('total_number_of_gameweeks', axis=1, inplace=True)\n",
    "    \n",
    "    return training_subset_df"
   ]
  },
  {
   "cell_type": "code",
   "execution_count": 22,
   "metadata": {},
   "outputs": [],
   "source": [
    "training_df = filter_eligible_players(training_df)\n",
    "dev_df = filter_eligible_players(dev_df)\n",
    "test_df = filter_eligible_players(test_df)"
   ]
  },
  {
   "cell_type": "code",
   "execution_count": 23,
   "metadata": {},
   "outputs": [],
   "source": [
    "def prepare_data_for_lstm(df):\n",
    "    df = df.copy()    \n",
    "    df[COLUMNS_TO_SCALE] = mms.transform(df[COLUMNS_TO_SCALE])\n",
    "\n",
    "    X_list = []\n",
    "    y_list = []\n",
    "\n",
    "    for player in list(df['name'].unique()):\n",
    "        player_df = df[df['name'] == player]\n",
    "        player_df.drop(\n",
    "            COLUMNS_TO_DROP_FOR_TRAINING,\n",
    "            axis=1,\n",
    "            inplace=True\n",
    "        )\n",
    "        X_player, y_player = split_sequences(\n",
    "            df=player_df,\n",
    "            target_column='total_points_plus1_gw',\n",
    "            n_steps_in=N_STEPS_IN,\n",
    "            n_steps_out=N_STEPS_OUT\n",
    "        )\n",
    "        X_list.append(X_player)\n",
    "        y_list.append(y_player)\n",
    "\n",
    "    X = np.concatenate(X_list, axis=0)\n",
    "    y = np.concatenate(y_list, axis=0)\n",
    "    print(X.shape)\n",
    "    print(y.shape)\n",
    "    \n",
    "    return X, y"
   ]
  },
  {
   "cell_type": "code",
   "execution_count": 24,
   "metadata": {},
   "outputs": [
    {
     "name": "stderr",
     "output_type": "stream",
     "text": [
      "/Users/stevengeorge/opt/anaconda3/envs/fpl-analysis/lib/python3.7/site-packages/pandas/core/frame.py:3997: SettingWithCopyWarning: \n",
      "A value is trying to be set on a copy of a slice from a DataFrame\n",
      "\n",
      "See the caveats in the documentation: https://pandas.pydata.org/pandas-docs/stable/user_guide/indexing.html#returning-a-view-versus-a-copy\n",
      "  errors=errors,\n"
     ]
    },
    {
     "name": "stdout",
     "output_type": "stream",
     "text": [
      "(45691, 5, 63)\n",
      "(45691, 5)\n"
     ]
    },
    {
     "name": "stderr",
     "output_type": "stream",
     "text": [
      "/Users/stevengeorge/opt/anaconda3/envs/fpl-analysis/lib/python3.7/site-packages/pandas/core/frame.py:3997: SettingWithCopyWarning: \n",
      "A value is trying to be set on a copy of a slice from a DataFrame\n",
      "\n",
      "See the caveats in the documentation: https://pandas.pydata.org/pandas-docs/stable/user_guide/indexing.html#returning-a-view-versus-a-copy\n",
      "  errors=errors,\n"
     ]
    },
    {
     "name": "stdout",
     "output_type": "stream",
     "text": [
      "(4995, 5, 63)\n",
      "(4995, 5)\n"
     ]
    },
    {
     "name": "stderr",
     "output_type": "stream",
     "text": [
      "/Users/stevengeorge/opt/anaconda3/envs/fpl-analysis/lib/python3.7/site-packages/pandas/core/frame.py:3997: SettingWithCopyWarning: \n",
      "A value is trying to be set on a copy of a slice from a DataFrame\n",
      "\n",
      "See the caveats in the documentation: https://pandas.pydata.org/pandas-docs/stable/user_guide/indexing.html#returning-a-view-versus-a-copy\n",
      "  errors=errors,\n"
     ]
    },
    {
     "name": "stdout",
     "output_type": "stream",
     "text": [
      "(5355, 5, 63)\n",
      "(5355, 5)\n"
     ]
    }
   ],
   "source": [
    "X_train, y_train = prepare_data_for_lstm(training_df)\n",
    "X_dev, y_dev = prepare_data_for_lstm(dev_df)\n",
    "X_test, y_test = prepare_data_for_lstm(test_df)"
   ]
  },
  {
   "cell_type": "markdown",
   "metadata": {},
   "source": [
    "### Pickle for easy load in Colab"
   ]
  },
  {
   "cell_type": "code",
   "execution_count": 44,
   "metadata": {},
   "outputs": [],
   "source": [
    "import pickle"
   ]
  },
  {
   "cell_type": "code",
   "execution_count": 45,
   "metadata": {},
   "outputs": [],
   "source": [
    "data = (X_train, y_train, X_dev, y_dev, X_test, y_test)\n",
    "\n",
    "pickle.dump(data, open('src/models/pickles/bayes_data.pickle', 'wb'))"
   ]
  },
  {
   "cell_type": "code",
   "execution_count": 46,
   "metadata": {},
   "outputs": [],
   "source": [
    "# X_train, y_train, X_dev, y_dev, X_test, y_test = pickle.load(open('src/models/pickles/bayes_data.pickle', 'rb'))"
   ]
  },
  {
   "cell_type": "markdown",
   "metadata": {},
   "source": [
    "## Bayes hyperparameter search"
   ]
  },
  {
   "cell_type": "code",
   "execution_count": 41,
   "metadata": {},
   "outputs": [],
   "source": [
    "SPACE = {\n",
    "    'n_lstm_layers': hp.uniformint('n_lstm_layers', 1, 2),\n",
    "    'lstm_units': hp.uniformint('lstm_units', 10, 200),\n",
    "    'lstm_dropout': hp.quniform('lstm_dropout', low=0, high=0.5, q=0.01),\n",
    "    'lstm_recurrent_dropout': hp.quniform('lstm_recurrent_dropout', low=0, high=0.5, q=0.01),\n",
    "    'lstm_output_dropout': hp.quniform('lstm_output_dropout', low=0, high=0.5, q=0.01),\n",
    "    'n_dense_layers': hp.uniformint('n_dense_layers', 0, 3),\n",
    "    'dense_units': hp.uniformint('dense_units', 10, 200),\n",
    "    'dense_dropout': hp.quniform('dense_dropout', low=0, high=0.5, q=0.01),\n",
    "    'learning_rate': hp.loguniform('learning_rate', np.log(0.0001), np.log(0.5)),\n",
    "    'batch_size': hp.uniformint('batch_size', 32, 1024)\n",
    "}\n",
    "\n",
    "INTEGER_PARAMS = ['n_lstm_layers', 'lstm_units', 'n_dense_layers', 'dense_units', 'batch_size']"
   ]
  },
  {
   "cell_type": "code",
   "execution_count": 26,
   "metadata": {},
   "outputs": [],
   "source": [
    "from hyperopt.pyll.stochastic import sample"
   ]
  },
  {
   "cell_type": "code",
   "execution_count": 27,
   "metadata": {},
   "outputs": [
    {
     "data": {
      "text/plain": [
       "{'batch_size': 100,\n",
       " 'dense_dropout': 0.74,\n",
       " 'dense_units': 23,\n",
       " 'learning_rate': 0.019109565943996095,\n",
       " 'lstm_dropout': 0.28,\n",
       " 'lstm_output_dropout': 0.31,\n",
       " 'lstm_recurrent_dropout': 0.98,\n",
       " 'lstm_units': 45,\n",
       " 'n_dense_layers': 3,\n",
       " 'n_lstm_layers': 2}"
      ]
     },
     "execution_count": 27,
     "metadata": {},
     "output_type": "execute_result"
    }
   ],
   "source": [
    "sample(SPACE)"
   ]
  },
  {
   "cell_type": "code",
   "execution_count": 28,
   "metadata": {},
   "outputs": [],
   "source": [
    "def create_model(\n",
    "    n_steps_in,\n",
    "    n_steps_out,\n",
    "    n_features,\n",
    "    n_lstm_layers=1,\n",
    "    lstm_units=50,\n",
    "    lstm_dropout=0.0,\n",
    "    lstm_recurrent_dropout=0.0,\n",
    "    lstm_output_dropout=0.3,\n",
    "    n_dense_layers=1,\n",
    "    dense_units=50,\n",
    "    dense_dropout=0.3\n",
    "):\n",
    "    model = Sequential(name='lstm_model')\n",
    "\n",
    "    # LSTM layers\n",
    "    if n_lstm_layers == 1:\n",
    "        model.add(\n",
    "            LSTM(\n",
    "                units=lstm_units,\n",
    "                dropout=lstm_dropout,\n",
    "                recurrent_dropout=lstm_recurrent_dropout,\n",
    "                input_shape=(n_steps_in, n_features),\n",
    "                name='lstm_layer_1'\n",
    "            )\n",
    "        )\n",
    "        model.add(\n",
    "            Dropout(\n",
    "                rate=lstm_output_dropout,\n",
    "                name='lstm_layer_1_dropout'\n",
    "            )\n",
    "        )\n",
    "    else:\n",
    "        model.add(\n",
    "            LSTM(\n",
    "                units=lstm_units,\n",
    "                dropout=lstm_dropout,\n",
    "                recurrent_dropout=lstm_recurrent_dropout,\n",
    "                return_sequences=True,\n",
    "                input_shape=(n_steps_in, n_features),\n",
    "                name='lstm_layer_1'\n",
    "            )\n",
    "        )\n",
    "        for i in range(n_lstm_layers-1):\n",
    "            model.add(\n",
    "                LSTM(\n",
    "                    units=lstm_units,\n",
    "                    dropout=lstm_dropout,\n",
    "                    recurrent_dropout=lstm_recurrent_dropout,\n",
    "                    name=f'lstm_layer_{i+2}'\n",
    "                )\n",
    "            )\n",
    "        model.add(\n",
    "            Dropout(\n",
    "                rate=lstm_output_dropout,\n",
    "                name='lstm_multilayer_dropout'\n",
    "            )\n",
    "        )\n",
    "\n",
    "    # Fully connected layers\n",
    "    for i in range(n_dense_layers):\n",
    "        model.add(Dense(dense_units, name=f'dense_layer_{i+1}'))\n",
    "        model.add(BatchNormalization(name=f'dense_batch_norm_{i+1}'))\n",
    "        model.add(Activation('relu', name=f'dense_activation_{i+1}'))\n",
    "        model.add(Dropout(rate=dense_dropout, name=f'dense_dropout_{i+1}'))\n",
    "\n",
    "    # Output layer\n",
    "    model.add(Dense(\n",
    "        n_steps_out, kernel_initializer=initializers.glorot_normal(), name='dense_output'\n",
    "    ))\n",
    "\n",
    "    return model"
   ]
  },
  {
   "cell_type": "code",
   "execution_count": 31,
   "metadata": {},
   "outputs": [],
   "source": [
    "def objective(hyperparameters):\n",
    "    # Hacky workaround for bug in package which saves integer hyperparameters as floats in the final dictionary. We\n",
    "    # explicitly cast as integers to avoid errors.\n",
    "    for hyper in INTEGER_PARAMS:\n",
    "        try:\n",
    "            as_int = int(hyperparameters[hyper])\n",
    "            hyperparameters[hyper] = as_int\n",
    "        except:\n",
    "            continue\n",
    "\n",
    "    # Extract keys not needed for model creation\n",
    "    fitting_params = {}\n",
    "    fitting_params['learning_rate'] = hyperparameters['learning_rate']\n",
    "    fitting_params['batch_size'] = hyperparameters['batch_size']\n",
    "\n",
    "    del hyperparameters['learning_rate'], hyperparameters['batch_size']\n",
    "\n",
    "    # Create model\n",
    "    lstm_model = create_model(n_steps_in=N_STEPS_IN, n_steps_out=N_STEPS_OUT, n_features=63, **hyperparameters)\n",
    "\n",
    "    # Compile model\n",
    "    optimizer = optimizers.Adam(learning_rate=fitting_params['learning_rate'])\n",
    "    lstm_model.compile(loss='mse', optimizer=optimizer)\n",
    "\n",
    "    # Fit model\n",
    "    lstm_model.fit(X_train, y_train, batch_size=fitting_params['batch_size'], epochs=30, verbose=0)\n",
    "\n",
    "    # Evaluate on dev set\n",
    "    predictions = lstm_model.predict(X_dev)\n",
    "    mse = mean_squared_error(y_dev, predictions)\n",
    "\n",
    "    return mse  # Has to be a minimisation problem"
   ]
  },
  {
   "cell_type": "markdown",
   "metadata": {},
   "source": [
    "## RUN BELOW CELL IN COLAB"
   ]
  },
  {
   "cell_type": "code",
   "execution_count": 109,
   "metadata": {},
   "outputs": [],
   "source": [
    "%%time\n",
    "bayes_trials = Trials()\n",
    "best = fmin(fn=objective, space=SPACE, algo=tpe.suggest, max_evals=2, trials=bayes_trials, rstate=np.random.seed(RANDOM_SEED))"
   ]
  },
  {
   "cell_type": "markdown",
   "metadata": {},
   "source": [
    "## Best Colab"
   ]
  },
  {
   "cell_type": "code",
   "execution_count": 83,
   "metadata": {},
   "outputs": [],
   "source": [
    "colab_trials_dict = pickle.load(open('src/models/pickles/colab_trials_dict.pickle', 'rb'))"
   ]
  },
  {
   "cell_type": "code",
   "execution_count": 84,
   "metadata": {},
   "outputs": [
    {
     "data": {
      "text/plain": [
       "dict_keys(['bayes_trials', 'best'])"
      ]
     },
     "execution_count": 84,
     "metadata": {},
     "output_type": "execute_result"
    }
   ],
   "source": [
    "colab_trials_dict.keys()"
   ]
  },
  {
   "cell_type": "code",
   "execution_count": 85,
   "metadata": {},
   "outputs": [],
   "source": [
    "bayes_trials = colab_trials_dict['bayes_trials']\n",
    "best = colab_trials_dict['best']"
   ]
  },
  {
   "cell_type": "code",
   "execution_count": 86,
   "metadata": {},
   "outputs": [
    {
     "data": {
      "text/plain": [
       "{'batch_size': 527.0,\n",
       " 'dense_dropout': 0.46,\n",
       " 'dense_units': 25.0,\n",
       " 'learning_rate': 0.0010974169408205815,\n",
       " 'lstm_dropout': 0.02,\n",
       " 'lstm_output_dropout': 0.03,\n",
       " 'lstm_recurrent_dropout': 0.5,\n",
       " 'lstm_units': 15.0,\n",
       " 'n_dense_layers': 0.0,\n",
       " 'n_lstm_layers': 1.0}"
      ]
     },
     "execution_count": 86,
     "metadata": {},
     "output_type": "execute_result"
    }
   ],
   "source": [
    "best"
   ]
  },
  {
   "cell_type": "code",
   "execution_count": 87,
   "metadata": {},
   "outputs": [
    {
     "data": {
      "text/plain": [
       "(300, 10)"
      ]
     },
     "execution_count": 87,
     "metadata": {},
     "output_type": "execute_result"
    }
   ],
   "source": [
    "pd.DataFrame(bayes_trials.trials).shape"
   ]
  },
  {
   "cell_type": "code",
   "execution_count": 88,
   "metadata": {},
   "outputs": [],
   "source": [
    "hyperparams = best.copy()"
   ]
  },
  {
   "cell_type": "code",
   "execution_count": 89,
   "metadata": {},
   "outputs": [],
   "source": [
    "fitting_params = {}\n",
    "fitting_params['learning_rate'] = hyperparams['learning_rate']\n",
    "fitting_params['batch_size'] = hyperparams['batch_size']\n",
    "\n",
    "del hyperparams['learning_rate'], hyperparams['batch_size']"
   ]
  },
  {
   "cell_type": "code",
   "execution_count": 90,
   "metadata": {},
   "outputs": [
    {
     "data": {
      "text/plain": [
       "{'dense_dropout': 0.46,\n",
       " 'dense_units': 25.0,\n",
       " 'lstm_dropout': 0.02,\n",
       " 'lstm_output_dropout': 0.03,\n",
       " 'lstm_recurrent_dropout': 0.5,\n",
       " 'lstm_units': 15.0,\n",
       " 'n_dense_layers': 0.0,\n",
       " 'n_lstm_layers': 1.0}"
      ]
     },
     "execution_count": 90,
     "metadata": {},
     "output_type": "execute_result"
    }
   ],
   "source": [
    "hyperparams"
   ]
  },
  {
   "cell_type": "code",
   "execution_count": 91,
   "metadata": {},
   "outputs": [
    {
     "data": {
      "text/plain": [
       "{'learning_rate': 0.0010974169408205815, 'batch_size': 527.0}"
      ]
     },
     "execution_count": 91,
     "metadata": {},
     "output_type": "execute_result"
    }
   ],
   "source": [
    "fitting_params"
   ]
  },
  {
   "cell_type": "code",
   "execution_count": 93,
   "metadata": {},
   "outputs": [],
   "source": [
    "fitting_params['batch_size'] = int(fitting_params['batch_size'])"
   ]
  },
  {
   "cell_type": "code",
   "execution_count": 92,
   "metadata": {},
   "outputs": [],
   "source": [
    "for hyper in INTEGER_PARAMS:\n",
    "    try:\n",
    "        as_int = int(hyperparams[hyper])\n",
    "        hyperparams[hyper] = as_int\n",
    "    except:\n",
    "        continue"
   ]
  },
  {
   "cell_type": "code",
   "execution_count": 114,
   "metadata": {},
   "outputs": [],
   "source": [
    "colab_model = create_model(n_steps_in=N_STEPS_IN, n_steps_out=N_STEPS_OUT, n_features=63, **hyperparams)"
   ]
  },
  {
   "cell_type": "code",
   "execution_count": 115,
   "metadata": {},
   "outputs": [
    {
     "name": "stdout",
     "output_type": "stream",
     "text": [
      "Model: \"lstm_model\"\n",
      "_________________________________________________________________\n",
      "Layer (type)                 Output Shape              Param #   \n",
      "=================================================================\n",
      "lstm_layer_1 (LSTM)          (None, 15)                4740      \n",
      "_________________________________________________________________\n",
      "lstm_layer_1_dropout (Dropou (None, 15)                0         \n",
      "_________________________________________________________________\n",
      "dense_output (Dense)         (None, 5)                 80        \n",
      "=================================================================\n",
      "Total params: 4,820\n",
      "Trainable params: 4,820\n",
      "Non-trainable params: 0\n",
      "_________________________________________________________________\n"
     ]
    }
   ],
   "source": [
    "colab_model.summary()"
   ]
  },
  {
   "cell_type": "code",
   "execution_count": 116,
   "metadata": {},
   "outputs": [],
   "source": [
    "# Compile model\n",
    "optimizer = optimizers.Adam(learning_rate=fitting_params['learning_rate'])\n",
    "colab_model.compile(loss='mse', optimizer=optimizer)"
   ]
  },
  {
   "cell_type": "code",
   "execution_count": 117,
   "metadata": {},
   "outputs": [
    {
     "name": "stdout",
     "output_type": "stream",
     "text": [
      "Train on 45691 samples, validate on 4995 samples\n",
      "Epoch 1/30\n",
      "45691/45691 [==============================] - 1s 31us/step - loss: 6.8791 - val_loss: 7.9823\n",
      "Epoch 2/30\n",
      "45691/45691 [==============================] - 1s 21us/step - loss: 5.5191 - val_loss: 6.8654\n",
      "Epoch 3/30\n",
      "45691/45691 [==============================] - 1s 21us/step - loss: 5.0325 - val_loss: 6.6698\n",
      "Epoch 4/30\n",
      "45691/45691 [==============================] - 1s 21us/step - loss: 4.9232 - val_loss: 6.5911\n",
      "Epoch 5/30\n",
      "45691/45691 [==============================] - 1s 21us/step - loss: 4.8683 - val_loss: 6.5530\n",
      "Epoch 6/30\n",
      "45691/45691 [==============================] - 1s 21us/step - loss: 4.8406 - val_loss: 6.5226\n",
      "Epoch 7/30\n",
      "45691/45691 [==============================] - 1s 21us/step - loss: 4.8230 - val_loss: 6.5011\n",
      "Epoch 8/30\n",
      "45691/45691 [==============================] - 1s 21us/step - loss: 4.8102 - val_loss: 6.4849\n",
      "Epoch 9/30\n",
      "45691/45691 [==============================] - 1s 21us/step - loss: 4.7996 - val_loss: 6.4802\n",
      "Epoch 10/30\n",
      "45691/45691 [==============================] - 1s 21us/step - loss: 4.7844 - val_loss: 6.4722\n",
      "Epoch 11/30\n",
      "45691/45691 [==============================] - 1s 21us/step - loss: 4.7803 - val_loss: 6.4665\n",
      "Epoch 12/30\n",
      "45691/45691 [==============================] - 1s 21us/step - loss: 4.7771 - val_loss: 6.4605\n",
      "Epoch 13/30\n",
      "45691/45691 [==============================] - 1s 21us/step - loss: 4.7713 - val_loss: 6.4547\n",
      "Epoch 14/30\n",
      "45691/45691 [==============================] - 1s 21us/step - loss: 4.7581 - val_loss: 6.4500\n",
      "Epoch 15/30\n",
      "45691/45691 [==============================] - 1s 21us/step - loss: 4.7586 - val_loss: 6.4466\n",
      "Epoch 16/30\n",
      "45691/45691 [==============================] - 1s 21us/step - loss: 4.7543 - val_loss: 6.4459\n",
      "Epoch 17/30\n",
      "45691/45691 [==============================] - 1s 21us/step - loss: 4.7494 - val_loss: 6.4379\n",
      "Epoch 18/30\n",
      "45691/45691 [==============================] - 1s 21us/step - loss: 4.7423 - val_loss: 6.4432\n",
      "Epoch 19/30\n",
      "45691/45691 [==============================] - 1s 21us/step - loss: 4.7344 - val_loss: 6.4401\n",
      "Epoch 20/30\n",
      "45691/45691 [==============================] - 1s 21us/step - loss: 4.7313 - val_loss: 6.4359\n",
      "Epoch 21/30\n",
      "45691/45691 [==============================] - 1s 21us/step - loss: 4.7313 - val_loss: 6.4301\n",
      "Epoch 22/30\n",
      "45691/45691 [==============================] - 1s 21us/step - loss: 4.7258 - val_loss: 6.4325\n",
      "Epoch 23/30\n",
      "45691/45691 [==============================] - 1s 21us/step - loss: 4.7254 - val_loss: 6.4330\n",
      "Epoch 24/30\n",
      "45691/45691 [==============================] - 1s 22us/step - loss: 4.7209 - val_loss: 6.4285\n",
      "Epoch 25/30\n",
      "45691/45691 [==============================] - 1s 21us/step - loss: 4.7158 - val_loss: 6.4321\n",
      "Epoch 26/30\n",
      "45691/45691 [==============================] - 1s 21us/step - loss: 4.7141 - val_loss: 6.4265\n",
      "Epoch 27/30\n",
      "45691/45691 [==============================] - 1s 21us/step - loss: 4.7131 - val_loss: 6.4268\n",
      "Epoch 28/30\n",
      "45691/45691 [==============================] - 1s 21us/step - loss: 4.7060 - val_loss: 6.4300\n",
      "Epoch 29/30\n",
      "45691/45691 [==============================] - 1s 21us/step - loss: 4.7069 - val_loss: 6.4414\n",
      "Epoch 30/30\n",
      "45691/45691 [==============================] - 1s 21us/step - loss: 4.7010 - val_loss: 6.4226\n"
     ]
    },
    {
     "data": {
      "text/plain": [
       "<keras.callbacks.callbacks.History at 0x7ffa58fdb950>"
      ]
     },
     "execution_count": 117,
     "metadata": {},
     "output_type": "execute_result"
    }
   ],
   "source": [
    "# Fit model\n",
    "colab_model.fit(X_train, y_train, batch_size=fitting_params['batch_size'], epochs=30, validation_data=(X_dev, y_dev))"
   ]
  },
  {
   "cell_type": "markdown",
   "metadata": {},
   "source": [
    "Colab MSE was 6.41615761292976"
   ]
  },
  {
   "cell_type": "code",
   "execution_count": 118,
   "metadata": {},
   "outputs": [
    {
     "data": {
      "text/plain": [
       "<matplotlib.axes._subplots.AxesSubplot at 0x7ffa58fbbad0>"
      ]
     },
     "execution_count": 118,
     "metadata": {},
     "output_type": "execute_result"
    },
    {
     "data": {
      "image/png": "[encoded data removed]",
      "text/plain": [
       "<Figure size 432x288 with 1 Axes>"
      ]
     },
     "metadata": {
      "needs_background": "light"
     },
     "output_type": "display_data"
    }
   ],
   "source": [
    "pd.DataFrame(colab_model.history.history).plot()"
   ]
  },
  {
   "cell_type": "markdown",
   "metadata": {},
   "source": [
    "__Conclusions__\n",
    "\n",
    "- The dev MSE of our current model is: 6.578626816417739\n",
    "- After Bayes search the MSE was reduced to: 6.4226\n",
    "- Interestingly the optimal architecture was very simple - a single LSTM layer with 15 units and no dense layer on top\n",
    "- To get further improvements we can try adding more data and/or features"
   ]
  }
 ],
 "metadata": {
  "kernelspec": {
   "display_name": "Python 3",
   "language": "python",
   "name": "python3"
  },
  "language_info": {
   "codemirror_mode": {
    "name": "ipython",
    "version": 3
   },
   "file_extension": ".py",
   "mimetype": "text/x-python",
   "name": "python",
   "nbconvert_exporter": "python",
   "pygments_lexer": "ipython3",
   "version": "3.7.6"
  }
 },
 "nbformat": 4,
 "nbformat_minor": 4
}
